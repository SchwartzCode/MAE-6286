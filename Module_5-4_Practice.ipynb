{
 "cells": [
  {
   "cell_type": "code",
   "execution_count": 3,
   "metadata": {},
   "outputs": [],
   "source": [
    "import numpy as np\n",
    "import matplotlib.pyplot as plt\n",
    "%matplotlib inline\n",
    "\n",
    "from helper import l2_norm, poisson_2d_jacobi, poisson_solution"
   ]
  },
  {
   "cell_type": "code",
   "execution_count": 20,
   "metadata": {},
   "outputs": [],
   "source": [
    "# Set parameters.\n",
    "nx, ny = 41, 41  # number of points in each direction\n",
    "L = Lx = Ly = 1.0  # length of the square cavity\n",
    "dx = L / (nx - 1)  # grid spacing in the x direction\n",
    "dy = L / (ny - 1)  # grid spacing in the y direction"
   ]
  },
  {
   "cell_type": "code",
   "execution_count": 53,
   "metadata": {},
   "outputs": [],
   "source": [
    "xmin, xmax = 0.0, 1.0\n",
    "ymin, ymax = -0.5, 0.5\n",
    "Lx = xmax - xmin\n",
    "Ly = ymax - ymin\n",
    "\n",
    "x = np.linspace(xmin, xmax, nx)\n",
    "y = np.linspace(ymin, ymax, ny)\n",
    "X, Y = np.meshgrid(x, y)\n",
    "\n",
    "#Source Term\n",
    "b = -2*(np.pi/2)**2 * np.sin(np.pi * X / L_x) * np.cos(np.pi*Y/L_y)\n",
    "\n",
    "#Initial Guess\n",
    "p0 = np.zeros((ny, nx))\n",
    "\n",
    "#Exact Solution of Poisson System\n",
    "p_exact = poisson_solution(x, y, Lx, Ly)"
   ]
  },
  {
   "cell_type": "code",
   "execution_count": 54,
   "metadata": {},
   "outputs": [],
   "source": [
    "def poisson_2d_steepest(p0, b, dx, dy, maxiter=20000, rtol=1e-6):\n",
    "    \n",
    "    def A(p):\n",
    "        \"\"\"Compute Laplacian of p\"\"\"\n",
    "        return (-4.0 * p[1:-1, 1:-1] + p[:-2, 1:-1] + p[2:,1:-1]\n",
    "                        + p[1:-1,:-2]+ p[1:-1, 2:]) / dx**2\n",
    "    \n",
    "    p = p0.copy()\n",
    "    rk = np.zeros_like(p)\n",
    "    Ar = np.zeros_like(p)\n",
    "    diff = rtol + 1\n",
    "    ite = 0\n",
    "    while diff > rtol and ite < maxiter:\n",
    "        pk = p.copy()\n",
    "        #Compute residual rk\n",
    "        rk[1:-1,1:-1] = b[1:-1, 1:-1] - A(p)\n",
    "        #Compute step size alpha\n",
    "        Ar[1:-1,1:-1] = A(rk)\n",
    "        alpha = np.sum(rk * rk) / np.sum(rk * Ar)\n",
    "        \n",
    "        #Update Solution\n",
    "        p = pk + alpha*rk\n",
    "        \n",
    "        \n",
    "        #Compute Relative Difference\n",
    "        diff = l2_norm(p, pk)\n",
    "        #Increment iteration index\n",
    "        ite+=1 #pretty lame you can't do i++ in python :(\n",
    "    \n",
    "    \n",
    "    return p, ite, diff"
   ]
  },
  {
   "cell_type": "code",
   "execution_count": 55,
   "metadata": {},
   "outputs": [
    {
     "name": "stdout",
     "output_type": "stream",
     "text": [
      "2 1.4379144656378503e-16\n"
     ]
    }
   ],
   "source": [
    "p_1, ite_1, diff_1 = poisson_2d_steepest(p0, b, dx, dy, rtol=1e-10)\n",
    "print(ite_1, diff_1)"
   ]
  },
  {
   "cell_type": "code",
   "execution_count": 60,
   "metadata": {},
   "outputs": [],
   "source": [
    "def poisson_2d_conjugate_gradient(p0, b, dx, dy, maxiter=20000, rtol=1e-6):\n",
    "    \n",
    "    def A(p):\n",
    "        \"\"\"Compute Laplacian of p\"\"\"\n",
    "        return (-4.0 * p[1:-1, 1:-1] + p[:-2, 1:-1] + p[2:,1:-1]\n",
    "                        + p[1:-1,:-2]+ p[1:-1, 2:]) / dx**2\n",
    "    \n",
    "    p = p0.copy()\n",
    "    r = np.zeros_like(p)\n",
    "    Ad = np.zeros_like(p)\n",
    "    diff = rtol + 1\n",
    "    ite = 0\n",
    "    r[1:-1,1:-1] = b[1:-1,1:-1] - A(p)\n",
    "    \n",
    "    d = r.copy()\n",
    "    \n",
    "    while diff > rtol and ite < maxiter:\n",
    "        pk = p.copy()\n",
    "        rk = r.copy()\n",
    "        dk = d.copy()\n",
    "        \n",
    "        Ad[1:-1, 1:-1] = A(dk)\n",
    "        #Compute step size alpha\n",
    "        alpha = np.sum(rk * rk) / np.sum(Ad * dk)\n",
    "        \n",
    "        #Update Solution\n",
    "        p = pk + alpha*rk\n",
    "        \n",
    "        r = rk - alpha*Ad\n",
    "        \n",
    "        beta = np.sum(r*r) / np.sum(rk*rk)\n",
    "        \n",
    "        d = r + beta*dk\n",
    "        \n",
    "        \n",
    "        #Compute Relative Difference\n",
    "        diff = l2_norm(p, pk)\n",
    "        #Increment iteration index\n",
    "        ite+=1 #pretty lame you can't do i++ in python :(\n",
    "    \n",
    "    \n",
    "    return p, ite, diff"
   ]
  },
  {
   "cell_type": "code",
   "execution_count": 61,
   "metadata": {},
   "outputs": [
    {
     "name": "stdout",
     "output_type": "stream",
     "text": [
      "Method of conjugate gradients: 2 iterations to reach a relative difference of 1.449687382823206e-16\n"
     ]
    }
   ],
   "source": [
    "p_2, ite_2, diff_2 = poisson_2d_conjugate_gradient(p0, b, dx, dy,\n",
    "                                                 maxiter=20000,\n",
    "                                                 rtol=1e-10)\n",
    "print('Method of conjugate gradients: {} iterations '.format(ite_2) +\n",
    "      'to reach a relative difference of {}'.format(diff_2))"
   ]
  },
  {
   "cell_type": "code",
   "execution_count": 68,
   "metadata": {},
   "outputs": [
    {
     "name": "stdout",
     "output_type": "stream",
     "text": [
      "Steepest decent took  2884 iterations to reach a residual of: 9.967120827790515e-11\n",
      "Conjugate Gradient took  3 iterations to reach a residual of: 5.40247261090058e-15\n"
     ]
    }
   ],
   "source": [
    "# Modify the source term of the Poisson system.\n",
    "b2 = (np.sin(np.pi * X / Lx) *\n",
    "     np.cos(np.pi * Y / Ly) +\n",
    "     np.sin(6.0 * np.pi * X / Lx) *\n",
    "     np.sin(6.0 * np.pi * Y / Ly))\n",
    "\n",
    "p_steep2, ite_steep2, diff_steep2 = poisson_2d_steepest(p0, b2, dx, dy, rtol=1e-10)\n",
    "print(\"Steepest decent took \", ite_steep2, \"iterations to reach a residual of:\", diff_steep2)\n",
    "\n",
    "p_cg2, ite_cg2, diff_cg2 = poisson_2d_conjugate_gradient(p0, b2, dx, dy, rtol=1e-10)\n",
    "print(\"Conjugate Gradient took \", ite_cg2, \"iterations to reach a residual of:\", diff_cg2)"
   ]
  },
  {
   "cell_type": "code",
   "execution_count": null,
   "metadata": {},
   "outputs": [],
   "source": []
  }
 ],
 "metadata": {
  "kernelspec": {
   "display_name": "Python 3",
   "language": "python",
   "name": "python3"
  },
  "language_info": {
   "codemirror_mode": {
    "name": "ipython",
    "version": 3
   },
   "file_extension": ".py",
   "mimetype": "text/x-python",
   "name": "python",
   "nbconvert_exporter": "python",
   "pygments_lexer": "ipython3",
   "version": "3.7.3"
  }
 },
 "nbformat": 4,
 "nbformat_minor": 2
}
