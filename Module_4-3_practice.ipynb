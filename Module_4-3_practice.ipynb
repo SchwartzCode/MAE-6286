{
 "cells": [
  {
   "cell_type": "code",
   "execution_count": 1,
   "metadata": {},
   "outputs": [],
   "source": [
    "import numpy as np\n",
    "import matplotlib.pyplot as plt\n",
    "\n",
    "%matplotlib inline"
   ]
  },
  {
   "cell_type": "code",
   "execution_count": 3,
   "metadata": {},
   "outputs": [],
   "source": [
    "L = 0.01 #length in [m]\n",
    "nx, ny = 21,21\n",
    "dx = L / (nx - 1)\n",
    "dy = L / (ny - 1)\n",
    "\n",
    "x = np.linspace(0.0, L, num=nx)\n",
    "y = np.linspace(0.0, L, num=ny)\n",
    "\n",
    "alpha = 1e-4\n",
    "\n",
    "#Initial conditions\n",
    "T0 = np.full((ny,nx), 20.0)\n",
    "T0[0,:] = 100.0 #bottom boundary\n",
    "T0[:,0] = 100.0 #left boundary"
   ]
  },
  {
   "cell_type": "code",
   "execution_count": 8,
   "metadata": {},
   "outputs": [],
   "source": [
    "def ftcs(T0, nt, dt, dx, dy, alpha, qx=0.0, qy=0.0):\n",
    "    T = T0.copy()\n",
    "    sigma_x = alpha * dt / dx**2\n",
    "    sigma_y = alpha * dt / dy**2\n",
    "    I, J = nx // 2, ny // 2\n",
    "    \n",
    "    for n in range(nt):\n",
    "        T[1:-1, 1:-1] = (T[1:-1, 1:-1] + sigma_x *(T[1:-1,:-2] - 2 * T[1:-1, 1:-1] + T[1:-1, 2:])\n",
    "                         + sigma_y * (T[:-2, 1:-1] - 2*T[1:-1,1:-1] + T[2:, 1:-1]))\n",
    "        #Update boundary values (Neumann condition)\n",
    "        T[:,-1] = T[:,-2] + qx * dx #right boundary\n",
    "        T[-1,:] = T[-2,:] + qy * dy #left boundary\n",
    "        if T[J,I] >= 70.0:\n",
    "            break\n",
    "    print(\"TEMP:  \", T[J,I], \"  AT TIME-STEP:  \", n+1)\n",
    "    return T"
   ]
  },
  {
   "cell_type": "code",
   "execution_count": 9,
   "metadata": {},
   "outputs": [
    {
     "name": "stdout",
     "output_type": "stream",
     "text": [
      "TEMP:   70.02138294076661   AT TIME-STEP:   256\n"
     ]
    }
   ],
   "source": [
    "nt = 500\n",
    "sigma = 0.25\n",
    "dt = sigma * min(dx, dy)**2 / alpha\n",
    "\n",
    "T = ftcs(T0, nt, dt, dx, dy, alpha)"
   ]
  },
  {
   "cell_type": "code",
   "execution_count": 18,
   "metadata": {},
   "outputs": [
    {
     "data": {
      "image/png": "[encoded data removed]",
      "text/plain": [
       "<Figure size 864x576 with 2 Axes>"
      ]
     },
     "metadata": {
      "needs_background": "light"
     },
     "output_type": "display_data"
    }
   ],
   "source": [
    "plt.figure(figsize=[12,8])\n",
    "plt.xlabel('x [cm]')\n",
    "plt.ylabel('y [cm]')\n",
    "plt.title('HOOPLA')\n",
    "contf = plt.contourf(x*100, y*100, T, cmap='inferno');\n",
    "cbar = plt.colorbar(contf)\n",
    "cbar.set_label('Temperature [C]')"
   ]
  },
  {
   "cell_type": "code",
   "execution_count": null,
   "metadata": {},
   "outputs": [],
   "source": []
  }
 ],
 "metadata": {
  "kernelspec": {
   "display_name": "Python 3",
   "language": "python",
   "name": "python3"
  },
  "language_info": {
   "codemirror_mode": {
    "name": "ipython",
    "version": 3
   },
   "file_extension": ".py",
   "mimetype": "text/x-python",
   "name": "python",
   "nbconvert_exporter": "python",
   "pygments_lexer": "ipython3",
   "version": "3.7.3"
  }
 },
 "nbformat": 4,
 "nbformat_minor": 2
}
