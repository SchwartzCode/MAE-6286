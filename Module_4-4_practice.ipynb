{
 "cells": [
  {
   "cell_type": "code",
   "execution_count": 59,
   "metadata": {},
   "outputs": [],
   "source": [
    "import numpy as np\n",
    "import matplotlib.pyplot as plt\n",
    "%matplotlib inline\n",
    "from scipy import linalg"
   ]
  },
  {
   "cell_type": "code",
   "execution_count": 60,
   "metadata": {},
   "outputs": [],
   "source": [
    "L = 0.01 #length in [m]\n",
    "nx, ny = 21,21\n",
    "dx = L / (nx - 1)\n",
    "dy = L / (ny - 1)\n",
    "\n",
    "x = np.linspace(0.0, L, num=nx)\n",
    "y = np.linspace(0.0, L, num=ny)\n",
    "\n",
    "alpha = 1e-4\n",
    "\n",
    "#Initial conditions\n",
    "T0 = np.full((ny,nx), 20.0)\n",
    "T0[0,:] = 100.0 #bottom boundary\n",
    "T0[:,0] = 100.0 #left boundary"
   ]
  },
  {
   "cell_type": "code",
   "execution_count": null,
   "metadata": {},
   "outputs": [],
   "source": []
  },
  {
   "cell_type": "code",
   "execution_count": 76,
   "metadata": {},
   "outputs": [],
   "source": [
    "def btcs(T0, nt, dt, delta_space, alpha, T_boundary): \n",
    "    #where delta_space = dx = dy\n",
    "    \n",
    "    ny, nx = T0.shape\n",
    "    M,N = nx - 2, ny - 2\n",
    "    \n",
    "    sigma = alpha*dt/delta_space**2\n",
    "    \n",
    "    #Create LHS Operator\n",
    "    A = lhs_operator(M, N, sigma)\n",
    "    #Convert points to 1d array\n",
    "    T = map_2d_to_1d(T0)\n",
    "    #points at center\n",
    "    I, J = M//2, N//2\n",
    "    \n",
    "    #Integrate Over Time\n",
    "    for n in range(nt):\n",
    "        b = rhs_vector(T, M, N, sigma, T_boundary)\n",
    "        T = linalg.solve(A, b)\n",
    "        \n",
    "        if T[J*M + I] >= 70.0:\n",
    "            break\n",
    "    print(\"Time-Step: \", n+1, \"Temp at Center:\", T[J*M + I], \n",
    "          \"Time: \", dt*(n+1), \"[sec]\")\n",
    "    return map_1d_to_2d(T, nx, ny, T_boundary)"
   ]
  },
  {
   "cell_type": "code",
   "execution_count": 72,
   "metadata": {},
   "outputs": [],
   "source": [
    "def lhs_operator(M, N, sigma):\n",
    "    A = np.zeros((M * N, M * N))\n",
    "    for j in range(N):\n",
    "        for i in range(M):\n",
    "            I = j * M + i\n",
    "            west = I - 1\n",
    "            east = I + 1\n",
    "            north = I + M\n",
    "            south = I - M\n",
    "            \n",
    "            if i==0 and j==0: #bottom-left corner (interior)\n",
    "                A[I, I] = 1 / sigma + 4\n",
    "                A[I, east] = -1.0\n",
    "                A[I, north] = -1.0\n",
    "            elif i == M - 1 and j==0: #bottom-right corner\n",
    "                A[I, I] = 1 / sigma + 3\n",
    "                A[I, west] = -1.0\n",
    "                A[I, north] = -1.0\n",
    "            elif i == 0 and j == N - 1: #top-left corner (interior)\n",
    "                A[I, I] = 1 / sigma + 3\n",
    "                A[I, east]  = -1.0\n",
    "                A[I, south] = -1.0\n",
    "            elif i == M - 1 and j == N - 1: #top-right corner\n",
    "                A[I,I] = 1 / sigma + 2\n",
    "                A[I, west] = -1.0\n",
    "                A[I, south] = -1.0\n",
    "            elif j == 0: #first row of interior points\n",
    "                A[I, I] = 1 / sigma + 4\n",
    "                A[I, west] = -1.0\n",
    "                A[I, east] = -1.0\n",
    "                A[I, north] = -1.0\n",
    "            elif j == N - 1: #last row of interior points\n",
    "                A[I, I] = 1 / sigma + 3\n",
    "                A[I, south] = -1.0\n",
    "                A[I, west] = -1.0\n",
    "                A[I, east] = -1.0\n",
    "            elif i == 0: #first column of interior points\n",
    "                A[I, I] = 1 / sigma + 4\n",
    "                A[I, south] = -1.0\n",
    "                A[I, east] = -1.0\n",
    "                A[I, north] = -1.0\n",
    "            elif i == M - 1: #last column of interior points\n",
    "                A[I, I] = 1 / sigma + 3\n",
    "                A[I, south] = -1.0\n",
    "                A[I, west] = -1.0\n",
    "                A[I, north] = -1.0\n",
    "            else:\n",
    "                A[I,I] = 1 / sigma + 4\n",
    "                A[I, south] = -1.0\n",
    "                A[I, west] = -1.0\n",
    "                A[I, east] = -1.0\n",
    "                A[I, north] = -1.0\n",
    "    return A"
   ]
  },
  {
   "cell_type": "code",
   "execution_count": 63,
   "metadata": {},
   "outputs": [],
   "source": [
    "def rhs_vector(T, M, N, sigma, T_boundary):\n",
    "    b = 1.0 / sigma * T\n",
    "    \n",
    "    for j in range(N):\n",
    "        for i in range(M):\n",
    "            I = j*M + i\n",
    "            if i == 0:\n",
    "                b[I] += T_boundary\n",
    "            if j == 0:\n",
    "                b[I] += T_boundary\n",
    "    return b"
   ]
  },
  {
   "cell_type": "code",
   "execution_count": 64,
   "metadata": {},
   "outputs": [],
   "source": [
    "def map_2d_to_1d(T_2d):\n",
    "    T = T_2d[1:-1, 1:-1].flatten()\n",
    "    return T"
   ]
  },
  {
   "cell_type": "code",
   "execution_count": 78,
   "metadata": {},
   "outputs": [],
   "source": [
    "def map_1d_to_2d(T_1d, nx, ny, T_boundary):\n",
    "    T = np.zeros((nx, ny))\n",
    "    T[1:-1,1:-1] = T_1d.reshape((ny-2, nx-2))\n",
    "    #boundary conditions\n",
    "    T[0,:] = T_boundary\n",
    "    T[:,0] = T_boundary\n",
    "    T[:,-1] = T[:,-2]\n",
    "    T[-1,:] = T[-2,:]\n",
    "    return T"
   ]
  },
  {
   "cell_type": "code",
   "execution_count": 79,
   "metadata": {},
   "outputs": [
    {
     "name": "stdout",
     "output_type": "stream",
     "text": [
      "Time-Step:  257 Temp at Center: 70.00387455599684 Time:  0.16062499999999996 [sec]\n"
     ]
    }
   ],
   "source": [
    "L = 0.01 #length in [m]\n",
    "nx, ny = 21,21\n",
    "dx = L / (nx - 1)\n",
    "dy = L / (ny - 1)\n",
    "\n",
    "x = np.linspace(0.0, L, num=nx)\n",
    "y = np.linspace(0.0, L, num=ny)\n",
    "\n",
    "sigma = 0.25\n",
    "\n",
    "nt = 500\n",
    "dt = sigma * delta_space**2 / alpha\n",
    "\n",
    "alpha = 1e-4\n",
    "delta_space = dx #also equals dy because Lx=Ly and nx=ny\n",
    "\n",
    "#Initial conditions\n",
    "Tb = 100.0 #boundary temp\n",
    "T0 = np.full((ny,nx), 20.0)\n",
    "T0[0,:] = Tb #bottom boundary\n",
    "T0[:,0] = Tb #left boundary\n",
    "\n",
    "T_1 = btcs(T0, nt, dt, delta_space, alpha, Tb)"
   ]
  },
  {
   "cell_type": "code",
   "execution_count": 80,
   "metadata": {},
   "outputs": [],
   "source": [
    "plt.rcParams['font.family'] = 'serif'\n",
    "plt.rcParams['font.size'] = 16"
   ]
  },
  {
   "cell_type": "code",
   "execution_count": null,
   "metadata": {},
   "outputs": [],
   "source": [
    "plt.figure(figsize=(8.0, 5.0))\n",
    "plt.xlabel(\"\")"
   ]
  }
 ],
 "metadata": {
  "kernelspec": {
   "display_name": "Python 3",
   "language": "python",
   "name": "python3"
  },
  "language_info": {
   "codemirror_mode": {
    "name": "ipython",
    "version": 3
   },
   "file_extension": ".py",
   "mimetype": "text/x-python",
   "name": "python",
   "nbconvert_exporter": "python",
   "pygments_lexer": "ipython3",
   "version": "3.7.3"
  }
 },
 "nbformat": 4,
 "nbformat_minor": 2
}
