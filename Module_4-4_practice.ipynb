{
 "cells": [
  {
   "cell_type": "code",
   "execution_count": 1,
   "metadata": {},
   "outputs": [],
   "source": [
    "import numpy as np\n",
    "import matplotlib.pyplot as plt\n",
    "%matplotlib inline"
   ]
  },
  {
   "cell_type": "code",
   "execution_count": 2,
   "metadata": {},
   "outputs": [],
   "source": [
    "L = 0.01 #length in [m]\n",
    "nx, ny = 21,21\n",
    "dx = L / (nx - 1)\n",
    "dy = L / (ny - 1)\n",
    "\n",
    "x = np.linspace(0.0, L, num=nx)\n",
    "y = np.linspace(0.0, L, num=ny)\n",
    "\n",
    "alpha = 1e-4\n",
    "\n",
    "#Initial conditions\n",
    "T0 = np.full((ny,nx), 20.0)\n",
    "T0[0,:] = 100.0 #bottom boundary\n",
    "T0[:,0] = 100.0 #left boundary"
   ]
  },
  {
   "cell_type": "code",
   "execution_count": null,
   "metadata": {},
   "outputs": [],
   "source": []
  },
  {
   "cell_type": "code",
   "execution_count": 3,
   "metadata": {},
   "outputs": [],
   "source": [
    "def btcs(T0, nt, dt, delta_space, alpha): #where delta_space = dx = dy\n",
    "    sigma = alpha*dt/delta_space**2\n",
    "    \n",
    "    #Create LHS Operator\n",
    "    A = lhs_operator()\n",
    "    T = map_2d_to_1d(T0)\n",
    "    \n",
    "    #Integrate Over Time\n",
    "    for n in range(nt):\n",
    "        b = rhs_vector(T)\n",
    "        T = np.linalg.solve(A, b)\n",
    "        \n",
    "    return map_1d_to_2d(T)"
   ]
  },
  {
   "cell_type": "code",
   "execution_count": null,
   "metadata": {},
   "outputs": [],
   "source": [
    "def lhs_operator(M, N):\n",
    "    A = np.zeros((M * N) M*N)\n",
    "    for j in range(N):\n",
    "        for i in range(M):\n",
    "            I = j * M + i\n",
    "            west = i - 1\n",
    "            east = i + 1\n",
    "            north = i + M\n",
    "            south = i - M\n",
    "            \n",
    "            if i==0 and j==0: #bottom-left corner (interior)\n",
    "                A[I, I] = 1 / sigma + 4\n",
    "                A[I, east] = -1.0\n",
    "                A[I, north] = -1.0\n",
    "            elif i == M - 1 and j==0: #bottom-right corner\n",
    "                A[I, I] = 1 / sigma + 3\n",
    "                A[I, west] = -1.0\n",
    "                A[I, north] = -1.0\n",
    "            elif i == 0 and j == N - 1: #top-left corner (interior)\n",
    "                A[I, I] = 1 / sigma + 3\n",
    "                A[I, east]  = -1.0\n",
    "                A[I, south] = -1.0\n",
    "            elif i == M - 1 and j == N - 1: #top-right corner\n",
    "                A[I,I] = 1 / sigma + 2\n",
    "                A[I, west] = -1.0\n",
    "                A[I, south] = -1.0\n",
    "            elif j == 0: #first row of interior points\n",
    "                A[I, I] = 1 / sigma + 4\n",
    "                A[I, west] = -1.0\n",
    "                A[I, east] = -1.0\n",
    "                A[I, north] = -1.0\n",
    "            elif j == N - 1: #last row of interior points\n",
    "                A[I, I] = 1 / sigma + 3\n",
    "                A[I, south] = -1.0\n",
    "                A[I, west] = -1.0\n",
    "                A[I, east] = -1.0\n",
    "            elif i == 0: #first column of interior points\n",
    "                pass\n",
    "            elif i == M - 1: #last column of interior points\n",
    "                pass\n",
    "            else:\n",
    "                A[I,I] = 1 / sigma + 4\n",
    "                A[I, south] = -1.0\n",
    "                A[I, west] = -1.0\n",
    "                A[I, east] = -1.0\n",
    "                A[I, north] = -1.0"
   ]
  }
 ],
 "metadata": {
  "kernelspec": {
   "display_name": "Python 3",
   "language": "python",
   "name": "python3"
  },
  "language_info": {
   "codemirror_mode": {
    "name": "ipython",
    "version": 3
   },
   "file_extension": ".py",
   "mimetype": "text/x-python",
   "name": "python",
   "nbconvert_exporter": "python",
   "pygments_lexer": "ipython3",
   "version": "3.7.3"
  }
 },
 "nbformat": 4,
 "nbformat_minor": 2
}
