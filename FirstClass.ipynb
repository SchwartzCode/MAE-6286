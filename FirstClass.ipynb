{
 "cells": [
  {
   "cell_type": "code",
   "execution_count": 10,
   "metadata": {},
   "outputs": [
    {
     "name": "stdout",
     "output_type": "stream",
     "text": [
      "hello world\n"
     ]
    }
   ],
   "source": [
    "print('hello world')"
   ]
  },
  {
   "cell_type": "code",
   "execution_count": 18,
   "metadata": {},
   "outputs": [
    {
     "name": "stdout",
     "output_type": "stream",
     "text": [
      "burito\n",
      "burrito\n",
      "burrrito\n",
      "burrrrito\n",
      "burrrrrito\n",
      "burrrrrrito\n",
      "burrrrrrrito\n",
      "burrrrrrrrito\n",
      "burrrrrrrrrito\n",
      "burrrrrrrrrrito\n",
      "burrrrrrrrrrrito\n",
      "burrrrrrrrrrrrito\n",
      "burrrrrrrrrrrrrito\n",
      "burrrrrrrrrrrrrrito\n",
      "burrrrrrrrrrrrrrrito\n",
      "burrrrrrrrrrrrrrrrito\n",
      "burrrrrrrrrrrrrrrrrito\n",
      "burrrrrrrrrrrrrrrrrrito\n",
      "burrrrrrrrrrrrrrrrrrrito\n",
      "burrrrrrrrrrrrrrrrrrrrito\n",
      "burrrrrrrrrrrrrrrrrrrrrito\n",
      "burrrrrrrrrrrrrrrrrrrrrrito\n",
      "burrrrrrrrrrrrrrrrrrrrrrrito\n",
      "burrrrrrrrrrrrrrrrrrrrrrrrito\n"
     ]
    }
   ],
   "source": [
    "for i in range(1,25):\n",
    "    print(\"bu\", end='')\n",
    "    for j in range (0,i):\n",
    "        print(\"r\", end='')\n",
    "        \n",
    "    print(\"ito\")"
   ]
  },
  {
   "cell_type": "code",
   "execution_count": null,
   "metadata": {},
   "outputs": [],
   "source": []
  }
 ],
 "metadata": {
  "kernelspec": {
   "display_name": "Python 3",
   "language": "python",
   "name": "python3"
  },
  "language_info": {
   "codemirror_mode": {
    "name": "ipython",
    "version": 3
   },
   "file_extension": ".py",
   "mimetype": "text/x-python",
   "name": "python",
   "nbconvert_exporter": "python",
   "pygments_lexer": "ipython3",
   "version": "3.6.2"
  }
 },
 "nbformat": 4,
 "nbformat_minor": 2
}
