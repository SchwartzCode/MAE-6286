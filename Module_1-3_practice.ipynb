{
 "cells": [
  {
   "cell_type": "code",
   "execution_count": 1,
   "metadata": {
    "collapsed": true
   },
   "outputs": [],
   "source": [
    "%matplotlib inline\n",
    "import numpy as np\n",
    "from matplotlib import pyplot as plt"
   ]
  },
  {
   "cell_type": "code",
   "execution_count": 2,
   "metadata": {
    "collapsed": true
   },
   "outputs": [],
   "source": [
    "### CONSTANTS ###\n",
    "g = 9.81      #gravity... duh [m/s^2]\n",
    "CD = 1.0 / 40.0   #drag coefficient\n",
    "CL = 1.0  #lift coefficient\n",
    "vt = 30.0 #trim velocity [m/s]\n",
    "vt2 = vt**2 #square of trim velocity"
   ]
  },
  {
   "cell_type": "code",
   "execution_count": 3,
   "metadata": {
    "collapsed": true
   },
   "outputs": [],
   "source": [
    "### INITIAL CONDITIONS ###\n",
    "v0 = vt #initial velocity [m/s]\n",
    "theta0 = 0.0 #angle relative to horizontal [rad]\n",
    "x0 = 0.0 #initial x location [m]\n",
    "y0 = 1000.0 #initial y location [m]"
   ]
  },
  {
   "cell_type": "code",
   "execution_count": 4,
   "metadata": {
    "collapsed": true
   },
   "outputs": [],
   "source": [
    "T = 100.0 #length of simulation [sec]\n",
    "#dt = 0.1 #time step size [sec]\n",
    "#N = int(T/dt) + 1 #number of time steps"
   ]
  },
  {
   "cell_type": "code",
   "execution_count": 5,
   "metadata": {
    "collapsed": true
   },
   "outputs": [],
   "source": [
    "### Euler function, imports time step and initial vals and generates array of states ###\n",
    "def eulerStep(timeStep, initial_vals):\n",
    "    dt = timeStep\n",
    "    N = int(T/dt) + 1\n",
    "    state = np.zeros([N,4])\n",
    "    state[0] = initial_vals\n",
    "    \n",
    "    for i in range(N-1):\n",
    "        v_n = (-g*np.sin(state[i,1]) - (CD*g*(state[i,0]**2))/(CL*(vt**2)))\n",
    "        theta_n = (-g*np.cos(state[i,1])/state[i,0] + g*state[i,0]/(vt**2))\n",
    "        x_n = state[i,0]*np.cos(state[i,1])\n",
    "        y_n = state[i,0]*np.sin(state[i,1])\n",
    "        f_n = np.array([v_n, theta_n, x_n, y_n])\n",
    "        state[i+1] = state[i] + dt*f_n\n",
    "        \n",
    "    return state"
   ]
  },
  {
   "cell_type": "code",
   "execution_count": 6,
   "metadata": {
    "collapsed": true
   },
   "outputs": [],
   "source": [
    "### PUTTING INITIAL CONDITIONS INTO STATE ARRAY ###\n",
    "inits = np.zeros(4)\n",
    "\n",
    "inits[0] = v0\n",
    "inits[1] = theta0\n",
    "inits[2] = x0\n",
    "inits[3] = y0\n",
    "\n",
    "pls_work = eulerStep(0.1, inits)"
   ]
  },
  {
   "cell_type": "code",
   "execution_count": null,
   "metadata": {
    "collapsed": true
   },
   "outputs": [],
   "source": []
  },
  {
   "cell_type": "code",
   "execution_count": 7,
   "metadata": {},
   "outputs": [
    {
     "data": {
      "text/plain": [
       "Text(0,0.5,'Y [m]')"
      ]
     },
     "execution_count": 7,
     "metadata": {},
     "output_type": "execute_result"
    },
    {
     "data": {
      "image/png": "[encoded data removed]",
      "text/plain": [
       "<matplotlib.figure.Figure at 0x23346f44588>"
      ]
     },
     "metadata": {},
     "output_type": "display_data"
    }
   ],
   "source": [
    "plt.plot(pls_work[:,2], pls_work[:,3])\n",
    "plt.grid()\n",
    "plt.xlabel('X [m]')\n",
    "plt.ylabel('Y [m]')"
   ]
  },
  {
   "cell_type": "code",
   "execution_count": 8,
   "metadata": {
    "collapsed": true
   },
   "outputs": [],
   "source": [
    "r = 2\n",
    "dt_medium = 0.1\n",
    "dt_finest = dt_medium / r\n",
    "dt_coarsest = dt_medium * r\n",
    "\n",
    "state_finest = eulerStep(dt_finest, inits)\n",
    "state_medium = eulerStep(dt_medium, inits)\n",
    "state_coarsest = eulerStep(dt_coarsest, inits)"
   ]
  },
  {
   "cell_type": "code",
   "execution_count": 9,
   "metadata": {
    "collapsed": true
   },
   "outputs": [],
   "source": [
    "f32 = 0.0\n",
    "f21 = 0.0\n",
    "N_coarsest = int(T/dt_coarsest) + 1\n",
    "N_medium = int(T/dt_medium) + 1\n",
    "\n",
    "\n",
    "for i in range(N_coarsest):\n",
    "    f32 += np.abs(state_coarsest[i,0] - state_medium[r*i,0])\n",
    "\n",
    "for i in range(N_medium):\n",
    "    f21 += np.abs(state_medium[i,0] - state_finest[r*i, 0])\n",
    "    \n",
    "f32 = f32*dt_coarsest\n",
    "f21 = f21*dt_medium\n",
    "p = np.log10(f32/f21) / np.log10(r)"
   ]
  },
  {
   "cell_type": "code",
   "execution_count": 10,
   "metadata": {},
   "outputs": [
    {
     "name": "stdout",
     "output_type": "stream",
     "text": [
      "1.8022227485\n"
     ]
    }
   ],
   "source": [
    "print(p)"
   ]
  },
  {
   "cell_type": "code",
   "execution_count": 11,
   "metadata": {},
   "outputs": [
    {
     "data": {
      "text/plain": [
       "Text(0.5,1,'Plotting Euler Step at different time steps')"
      ]
     },
     "execution_count": 11,
     "metadata": {},
     "output_type": "execute_result"
    },
    {
     "data": {
      "image/png": "[encoded data removed]",
      "text/plain": [
       "<matplotlib.figure.Figure at 0x233472b3f98>"
      ]
     },
     "metadata": {},
     "output_type": "display_data"
    }
   ],
   "source": [
    "plt.figure(figsize=[12,7])\n",
    "plt.plot(state_finest[:,2], state_finest[:,3], label='Finest')\n",
    "plt.plot(state_medium[:,2], state_medium[:,3], label='Medium')\n",
    "plt.plot(state_coarsest[:,2], state_coarsest[:,3], label='Coarsest')\n",
    "plt.legend()\n",
    "plt.grid()\n",
    "plt.xlim(2000,3000)\n",
    "plt.ylim(920,960)\n",
    "plt.xlabel('X [m]')\n",
    "plt.ylabel('Y [m]')\n",
    "plt.title('Plotting Euler Step at different time steps', fontsize=16)"
   ]
  },
  {
   "cell_type": "code",
   "execution_count": 18,
   "metadata": {},
   "outputs": [
    {
     "data": {
      "text/plain": [
       "25"
      ]
     },
     "execution_count": 18,
     "metadata": {},
     "output_type": "execute_result"
    }
   ],
   "source": [
    "5 * 5"
   ]
  },
  {
   "cell_type": "code",
   "execution_count": 21,
   "metadata": {},
   "outputs": [
    {
     "name": "stdout",
     "output_type": "stream",
     "text": [
      "0  \n",
      "0\n",
      "0\n",
      "0\n",
      "0\n",
      "0\n",
      "0\n",
      "0\n",
      "0\n",
      "0\n",
      "0\n",
      "1  \n",
      "0\n",
      "1\n",
      "2\n",
      "3\n",
      "4\n",
      "5\n",
      "6\n",
      "7\n",
      "8\n",
      "9\n",
      "2  \n",
      "0\n",
      "2\n",
      "4\n",
      "6\n",
      "8\n",
      "10\n",
      "12\n",
      "14\n",
      "16\n",
      "18\n",
      "3  \n",
      "0\n",
      "3\n",
      "6\n",
      "9\n",
      "12\n",
      "15\n",
      "18\n",
      "21\n",
      "24\n",
      "27\n",
      "4  \n",
      "0\n",
      "4\n",
      "8\n",
      "12\n",
      "16\n",
      "20\n",
      "24\n",
      "28\n",
      "32\n",
      "36\n",
      "5  \n",
      "0\n",
      "5\n",
      "10\n",
      "15\n",
      "20\n",
      "25\n",
      "30\n",
      "35\n",
      "40\n",
      "45\n",
      "6  \n",
      "0\n",
      "6\n",
      "12\n",
      "18\n",
      "24\n",
      "30\n",
      "36\n",
      "42\n",
      "48\n",
      "54\n",
      "7  \n",
      "0\n",
      "7\n",
      "14\n",
      "21\n",
      "28\n",
      "35\n",
      "42\n",
      "49\n",
      "56\n",
      "63\n",
      "8  \n",
      "0\n",
      "8\n",
      "16\n",
      "24\n",
      "32\n",
      "40\n",
      "48\n",
      "56\n",
      "64\n",
      "72\n",
      "9  \n",
      "0\n",
      "9\n",
      "18\n",
      "27\n",
      "36\n",
      "45\n",
      "54\n",
      "63\n",
      "72\n",
      "81\n"
     ]
    }
   ],
   "source": [
    "for i in range(10):\n",
    "    print(i, \" \"),\n",
    "    for j in range(10):\n",
    "        print(i*j, ),\n",
    "        \n",
    "        "
   ]
  },
  {
   "cell_type": "code",
   "execution_count": 41,
   "metadata": {},
   "outputs": [
    {
     "ename": "NameError",
     "evalue": "name 'sqrt' is not defined",
     "output_type": "error",
     "traceback": [
      "\u001b[1;31m---------------------------------------------------------------------------\u001b[0m",
      "\u001b[1;31mNameError\u001b[0m                                 Traceback (most recent call last)",
      "\u001b[1;32m<ipython-input-41-d6186fcf5978>\u001b[0m in \u001b[0;36m<module>\u001b[1;34m()\u001b[0m\n\u001b[0;32m      3\u001b[0m     \u001b[0mflag\u001b[0m \u001b[1;33m=\u001b[0m \u001b[1;32mTrue\u001b[0m\u001b[1;33m\u001b[0m\u001b[0m\n\u001b[0;32m      4\u001b[0m     \u001b[1;32mfor\u001b[0m \u001b[0mj\u001b[0m \u001b[1;32min\u001b[0m \u001b[0mrange\u001b[0m\u001b[1;33m(\u001b[0m\u001b[1;36m2\u001b[0m\u001b[1;33m,\u001b[0m\u001b[0mi\u001b[0m\u001b[1;33m)\u001b[0m\u001b[1;33m:\u001b[0m\u001b[1;33m\u001b[0m\u001b[0m\n\u001b[1;32m----> 5\u001b[1;33m         \u001b[1;32mif\u001b[0m\u001b[1;33m(\u001b[0m\u001b[0mi\u001b[0m\u001b[1;33m%\u001b[0m\u001b[0msqrt\u001b[0m\u001b[1;33m(\u001b[0m\u001b[0mj\u001b[0m\u001b[1;33m)\u001b[0m \u001b[1;33m==\u001b[0m \u001b[1;36m0\u001b[0m\u001b[1;33m)\u001b[0m\u001b[1;33m:\u001b[0m\u001b[1;33m\u001b[0m\u001b[0m\n\u001b[0m\u001b[0;32m      6\u001b[0m             \u001b[0mflag\u001b[0m \u001b[1;33m=\u001b[0m \u001b[1;32mFalse\u001b[0m\u001b[1;33m\u001b[0m\u001b[0m\n\u001b[0;32m      7\u001b[0m             \u001b[1;32mbreak\u001b[0m\u001b[1;33m\u001b[0m\u001b[0m\n",
      "\u001b[1;31mNameError\u001b[0m: name 'sqrt' is not defined"
     ]
    }
   ],
   "source": [
    "import math\n",
    "max=1\n",
    "for i in range(1,50000):\n",
    "    flag = True\n",
    "    for j in range(2,i):\n",
    "        if(i%sqrt(j) == 0):\n",
    "            flag = False\n",
    "            break\n",
    "        \n",
    "    if(flag):\n",
    "        max = i\n",
    "    else:\n",
    "        flag = True\n",
    "print(max)"
   ]
  },
  {
   "cell_type": "code",
   "execution_count": null,
   "metadata": {
    "collapsed": true
   },
   "outputs": [],
   "source": []
  }
 ],
 "metadata": {
  "kernelspec": {
   "display_name": "Python 3",
   "language": "python",
   "name": "python3"
  },
  "language_info": {
   "codemirror_mode": {
    "name": "ipython",
    "version": 3
   },
   "file_extension": ".py",
   "mimetype": "text/x-python",
   "name": "python",
   "nbconvert_exporter": "python",
   "pygments_lexer": "ipython3",
   "version": "3.7.3"
  }
 },
 "nbformat": 4,
 "nbformat_minor": 2
}
