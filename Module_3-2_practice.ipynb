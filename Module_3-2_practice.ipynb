{
 "cells": [
  {
   "cell_type": "code",
   "execution_count": 2,
   "metadata": {},
   "outputs": [],
   "source": [
    "import numpy as np\n",
    "import matplotlib.pyplot as plt\n",
    "import ipywidgets\n",
    "\n",
    "%matplotlib inline"
   ]
  },
  {
   "cell_type": "code",
   "execution_count": 3,
   "metadata": {},
   "outputs": [],
   "source": [
    "plt.rc('font', family='serif', size=16)"
   ]
  },
  {
   "cell_type": "code",
   "execution_count": 4,
   "metadata": {},
   "outputs": [],
   "source": [
    "def rho_red_light(x, rho_max):\n",
    "    #sets initial solution\n",
    "    rho = np.full_like(x, rho_max) #rho will be array size of x, filled with rho_max\n",
    "    # rho = rho_max* np.ones_like(x) #does the same thing as the above line\n",
    "    mask = np.where(x < 3.0)\n",
    "    rho[mask] /= 2\n",
    "    return rho"
   ]
  },
  {
   "cell_type": "code",
   "execution_count": 41,
   "metadata": {},
   "outputs": [],
   "source": [
    "# === SIMULATION PARAMETERS ===\n",
    "nx = 81\n",
    "L  = 4.0\n",
    "dx = L / (nx - 1)\n",
    "x  = np.linspace(0.0, L, num=nx)\n",
    "T = 5.0\n",
    "dt = 0.05\n",
    "nt = int(1 + T / dt)\n",
    "\n",
    "rho_max = 10.0\n",
    "u_max   = 1.0\n",
    "\n",
    "rho0 = rho_red_light(x, rho_max)"
   ]
  },
  {
   "cell_type": "code",
   "execution_count": 42,
   "metadata": {},
   "outputs": [],
   "source": [
    "def plot(n, x, rho_hist):\n",
    "    plt.figure()\n",
    "    plt.grid()\n",
    "    plt.title(\"Time Step: {}\".format(n))\n",
    "    plt.xlabel(\"Road [km]\")\n",
    "    plt.ylabel('Traffic Density [cars/hr]')\n",
    "    plt.plot(x, rho_hist[n])\n",
    "    plt.xlim(x[0], x[-1])\n",
    "    plt.ylim(4.0, 11.0)\n",
    "    plt.show()"
   ]
  },
  {
   "cell_type": "code",
   "execution_count": 43,
   "metadata": {},
   "outputs": [
    {
     "data": {
      "image/png": "[encoded data removed]",
      "text/plain": [
       "<Figure size 432x288 with 1 Axes>"
      ]
     },
     "metadata": {
      "needs_background": "light"
     },
     "output_type": "display_data"
    }
   ],
   "source": [
    "plot(0, x, [rho0])"
   ]
  },
  {
   "cell_type": "code",
   "execution_count": 44,
   "metadata": {},
   "outputs": [],
   "source": [
    "def traffic_speed(rho, u_max, rho_max):\n",
    "    return u_max * (1 - rho / rho_max)\n",
    "\n",
    "def traffic_flux(rho, u_max, rho_max):\n",
    "    return rho * traffic_speed(rho, u_max, rho_max)"
   ]
  },
  {
   "cell_type": "code",
   "execution_count": 45,
   "metadata": {},
   "outputs": [],
   "source": [
    "def interactive_plot(x, rho_hist):\n",
    "    nt = len(rho_hist) - 1\n",
    "    nt_slider = ipywidgets.IntSlider(value=0, min=0, max=nt, step=1, description='Time Step')\n",
    "    w = ipywidgets.interactive(plot, n=nt_slider, x=ipywidgets.fixed(x), rho_hist=ipywidgets.fixed(rho_hist))\n",
    "    return w"
   ]
  },
  {
   "cell_type": "code",
   "execution_count": 63,
   "metadata": {},
   "outputs": [],
   "source": [
    "#interactive_plot(x, rho_hist)"
   ]
  },
  {
   "cell_type": "code",
   "execution_count": 66,
   "metadata": {},
   "outputs": [],
   "source": [
    "#something is wrong in this one :/\n",
    "def lax_friedrichs(rho0, nt, dt, dx, u_max, rho_max):\n",
    "    rho_hist = np.zeros([nt, len(rho0)])\n",
    "    rho_hist[0,:] = rho0\n",
    "\n",
    "    for i in range(nt-1):\n",
    "        for j in range(1,nx-1):\n",
    "            rho_hist[i+1,j] = (0.5*(rho_hist[i,j+1] + rho_hist[i, j-1]) -\n",
    "                dt * (traffic_flux(rho_hist[i,j+1], u_max, rho_max) -\n",
    "                     traffic_flux(rho_hist[i, j-1], u_max, rho_max)) / \n",
    "                    (2 * dx))\n",
    "    #ignore boundary conditions because they'll just stay at what they were in rho0,\n",
    "    #and those values are fine for our boundaries\n",
    "    return rho_hist"
   ]
  },
  {
   "cell_type": "code",
   "execution_count": 78,
   "metadata": {},
   "outputs": [],
   "source": [
    "def cleaner_lf(rho0, nt, dt, dx, u_max, rho_max):\n",
    "    rho_hist = [rho0.copy()]\n",
    "    rho = rho0.copy()\n",
    "    nx = len(rho0)\n",
    "    nx = rho.size\n",
    "    for n in range(nt):\n",
    "        rho_n = rho.copy()\n",
    "        F = traffic_flux(rho_n, u_max, rho_max)\n",
    "        for i in range(1, nx - 1):\n",
    "            rho[i] = (0.5 * (rho_n[i+1] + rho_n[i - 1]) -\n",
    "                     dt * (F[i+1] - F[i - 1]) / (2*dx))\n",
    "            #rho[1:-1] = 0.5 * (rho[2:] + rho[:-2]) - dt*(F[2:] - F[:-2]) / (2*dx)\n",
    "        rho_hist.append(rho.copy())\n",
    "    return rho_hist"
   ]
  },
  {
   "cell_type": "code",
   "execution_count": 79,
   "metadata": {},
   "outputs": [
    {
     "data": {
      "application/vnd.jupyter.widget-view+json": {
       "model_id": "c3fe7b9bef0146bab4c3ab3e82958b23",
       "version_major": 2,
       "version_minor": 0
      },
      "text/plain": [
       "interactive(children=(IntSlider(value=0, description='Time Step', max=79), Output()), _dom_classes=('widget-in…"
      ]
     },
     "metadata": {},
     "output_type": "display_data"
    }
   ],
   "source": [
    "r_hist1 = lax_friedrichs(rho0, nt, dt, dx, u_max, rho_max)\n",
    "interactive_plot(x, r_hist1)"
   ]
  },
  {
   "cell_type": "code",
   "execution_count": 80,
   "metadata": {},
   "outputs": [
    {
     "data": {
      "application/vnd.jupyter.widget-view+json": {
       "model_id": "422e4706455448ce9f78629427970f4f",
       "version_major": 2,
       "version_minor": 0
      },
      "text/plain": [
       "interactive(children=(IntSlider(value=0, description='Time Step', max=80), Output()), _dom_classes=('widget-in…"
      ]
     },
     "metadata": {},
     "output_type": "display_data"
    }
   ],
   "source": [
    "r_hist2 = cleaner_lf(rho0, nt, dt, dx, u_max, rho_max)\n",
    "interactive_plot(x, r_hist2)"
   ]
  },
  {
   "cell_type": "code",
   "execution_count": 81,
   "metadata": {},
   "outputs": [
    {
     "data": {
      "application/vnd.jupyter.widget-view+json": {
       "model_id": "58f18d76f7fe4f319a94626b653c661a",
       "version_major": 2,
       "version_minor": 0
      },
      "text/plain": [
       "interactive(children=(IntSlider(value=0, description='Time Step', max=80), Output()), _dom_classes=('widget-in…"
      ]
     },
     "metadata": {},
     "output_type": "display_data"
    }
   ],
   "source": [
    "sigma = 0.5\n",
    "dt = sigma * dx / u_max\n",
    "nt = 80\n",
    "\n",
    "r_hist3 = cleaner_lf(rho0, nt, dt, dx, u_max, rho_max)\n",
    "interactive_plot(x, r_hist3)"
   ]
  },
  {
   "cell_type": "code",
   "execution_count": 73,
   "metadata": {},
   "outputs": [],
   "source": [
    "def traffic_jacobian(rho, u_max, rho_max):\n",
    "    J = np.zeros_like(rho)\n",
    "    J = u_max * (1 - 2*rho / rho_max) \n",
    "    return J"
   ]
  },
  {
   "cell_type": "code",
   "execution_count": 82,
   "metadata": {},
   "outputs": [],
   "source": [
    "def lax_wendroff(rho0, nt, dt, dx, u_max, rho_max):\n",
    "    rho_hist = [rho0.copy()]\n",
    "    rho = rho0.copy()\n",
    "    nx = len(rho0)\n",
    "    nx = rho.size\n",
    "    for n in range(nt):\n",
    "        rho_n = rho.copy()\n",
    "        F = traffic_flux(rho_n, u_max, rho_max)\n",
    "        J = traffic_jacobian(rho_n, u_max, rho_max)\n",
    "        \n",
    "        for i in range(1, nx - 1):\n",
    "            rho[i] = (rho_n[i] - dt *(F[i+1] - F[i-1]) / (2*dx) +\n",
    "                     dt**2*((J[i+1] + J[i])*(F[i+1] - F[i]) -\n",
    "                        (J[i] + J[i-1])*(F[i] - F[i-1])) / (4*dx**2))\n",
    "           \n",
    "        rho_hist.append(rho.copy())\n",
    "    return rho_hist"
   ]
  },
  {
   "cell_type": "code",
   "execution_count": 83,
   "metadata": {},
   "outputs": [
    {
     "data": {
      "application/vnd.jupyter.widget-view+json": {
       "model_id": "5f00cbe7104d4fcb8ec497941e417c3d",
       "version_major": 2,
       "version_minor": 0
      },
      "text/plain": [
       "interactive(children=(IntSlider(value=0, description='Time Step', max=80), Output()), _dom_classes=('widget-in…"
      ]
     },
     "metadata": {},
     "output_type": "display_data"
    }
   ],
   "source": [
    "r_hist4 = cleaner_lf(rho0, nt, dt, dx, u_max, rho_max)\n",
    "interactive_plot(x, r_hist4)"
   ]
  },
  {
   "cell_type": "code",
   "execution_count": null,
   "metadata": {},
   "outputs": [],
   "source": []
  }
 ],
 "metadata": {
  "kernelspec": {
   "display_name": "Python 3",
   "language": "python",
   "name": "python3"
  },
  "language_info": {
   "codemirror_mode": {
    "name": "ipython",
    "version": 3
   },
   "file_extension": ".py",
   "mimetype": "text/x-python",
   "name": "python",
   "nbconvert_exporter": "python",
   "pygments_lexer": "ipython3",
   "version": "3.7.3"
  }
 },
 "nbformat": 4,
 "nbformat_minor": 2
}
