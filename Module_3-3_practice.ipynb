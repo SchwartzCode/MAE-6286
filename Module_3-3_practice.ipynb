{
 "cells": [
  {
   "cell_type": "code",
   "execution_count": 1,
   "metadata": {},
   "outputs": [],
   "source": [
    "import numpy as np\n",
    "import matplotlib.pyplot as plt\n",
    "%matplotlib inline\n",
    "import sympy\n",
    "import ipywidgets\n",
    "\n",
    "plt.rcParams['font.family'] = 'serif'\n",
    "plt.rcParams['font.size'] = 16"
   ]
  },
  {
   "cell_type": "code",
   "execution_count": 2,
   "metadata": {},
   "outputs": [],
   "source": [
    "sympy.init_printing()"
   ]
  },
  {
   "cell_type": "code",
   "execution_count": 3,
   "metadata": {},
   "outputs": [],
   "source": [
    "u_max = sympy.symbols('u_max')\n",
    "u_star = sympy.symbols('u_star')\n",
    "rho_max = sympy.symbols('rho_max')\n",
    "rho_star = sympy.symbols('rho_star')\n",
    "A, B = sympy.symbols('A B')"
   ]
  },
  {
   "cell_type": "code",
   "execution_count": 4,
   "metadata": {},
   "outputs": [
    {
     "data": {
      "text/plain": [
       "sympy.core.symbol.Symbol"
      ]
     },
     "execution_count": 4,
     "metadata": {},
     "output_type": "execute_result"
    }
   ],
   "source": [
    "type(u_max)"
   ]
  },
  {
   "cell_type": "code",
   "execution_count": 5,
   "metadata": {},
   "outputs": [
    {
     "data": {
      "image/png": "[encoded data removed]",
      "text/latex": [
       "$$u_{max}$$"
      ],
      "text/plain": [
       "uₘₐₓ"
      ]
     },
     "execution_count": 5,
     "metadata": {},
     "output_type": "execute_result"
    }
   ],
   "source": [
    "u_max"
   ]
  },
  {
   "cell_type": "code",
   "execution_count": 6,
   "metadata": {},
   "outputs": [
    {
     "data": {
      "image/png": "[encoded data removed]",
      "text/latex": [
       "$$u_{max} + u_{star}$$"
      ],
      "text/plain": [
       "uₘₐₓ + uₛₜₐᵣ"
      ]
     },
     "execution_count": 6,
     "metadata": {},
     "output_type": "execute_result"
    }
   ],
   "source": [
    "u_max + u_star"
   ]
  },
  {
   "cell_type": "code",
   "execution_count": 7,
   "metadata": {},
   "outputs": [
    {
     "data": {
      "image/png": "[encoded data removed]",
      "text/latex": [
       "$$0 = \\rho_{max} u_{max} \\left(- A \\rho_{max} - B \\rho_{max}^{2} + 1\\right)$$"
      ],
      "text/plain": [
       "              ⎛                2    ⎞\n",
       "0 = ρₘₐₓ⋅uₘₐₓ⋅⎝-A⋅ρₘₐₓ - B⋅ρₘₐₓ  + 1⎠"
      ]
     },
     "execution_count": 7,
     "metadata": {},
     "output_type": "execute_result"
    }
   ],
   "source": [
    "eq1 = sympy.Eq(0, rho_max * u_max * (1 - A*rho_max - B*rho_max**2))\n",
    "eq2 = sympy.Eq(0, u_max*( 1 - 2*A*rho_star - 3*B*rho_star**2))\n",
    "eq3 = sympy.Eq(u_star, u_max*(1 - A*rho_star - B*rho_star**2))\n",
    "eq1"
   ]
  },
  {
   "cell_type": "code",
   "execution_count": 8,
   "metadata": {},
   "outputs": [
    {
     "data": {
      "image/png": "[encoded data removed]",
      "text/latex": [
       "$$0 = u_{max} \\left(- 2 A \\rho_{star} - 3 B \\rho_{star}^{2} + 1\\right)$$"
      ],
      "text/plain": [
       "         ⎛                      2    ⎞\n",
       "0 = uₘₐₓ⋅⎝-2⋅A⋅ρₛₜₐᵣ - 3⋅B⋅ρₛₜₐᵣ  + 1⎠"
      ]
     },
     "execution_count": 8,
     "metadata": {},
     "output_type": "execute_result"
    }
   ],
   "source": [
    "eq2"
   ]
  },
  {
   "cell_type": "code",
   "execution_count": 9,
   "metadata": {},
   "outputs": [
    {
     "data": {
      "image/png": "[encoded data removed]",
      "text/latex": [
       "$$u_{star} = u_{max} \\left(- A \\rho_{star} - B \\rho_{star}^{2} + 1\\right)$$"
      ],
      "text/plain": [
       "             ⎛                  2    ⎞\n",
       "uₛₜₐᵣ = uₘₐₓ⋅⎝-A⋅ρₛₜₐᵣ - B⋅ρₛₜₐᵣ  + 1⎠"
      ]
     },
     "execution_count": 9,
     "metadata": {},
     "output_type": "execute_result"
    }
   ],
   "source": [
    "eq3"
   ]
  },
  {
   "cell_type": "code",
   "execution_count": 10,
   "metadata": {},
   "outputs": [
    {
     "data": {
      "image/png": "[encoded data removed]",
      "text/latex": [
       "$$\\left(0 = u_{max} \\left(- 2 A \\rho_{star} - 3 B \\rho_{star}^{2} + 1\\right)\\right) - 3 \\left(u_{star} = u_{max} \\left(- A \\rho_{star} - B \\rho_{star}^{2} + 1\\right)\\right)$$"
      ],
      "text/plain": [
       "⎛         ⎛                      2    ⎞⎞     ⎛             ⎛                  \n",
       "⎝0 = uₘₐₓ⋅⎝-2⋅A⋅ρₛₜₐᵣ - 3⋅B⋅ρₛₜₐᵣ  + 1⎠⎠ - 3⋅⎝uₛₜₐᵣ = uₘₐₓ⋅⎝-A⋅ρₛₜₐᵣ - B⋅ρₛₜₐᵣ\n",
       "\n",
       "2    ⎞⎞\n",
       "  + 1⎠⎠"
      ]
     },
     "execution_count": 10,
     "metadata": {},
     "output_type": "execute_result"
    }
   ],
   "source": [
    "eq2 - 3*eq3"
   ]
  },
  {
   "cell_type": "code",
   "execution_count": 11,
   "metadata": {},
   "outputs": [
    {
     "data": {
      "image/png": "[encoded data removed]",
      "text/latex": [
       "$$- 3 u_{star} = u_{max} \\left(- 2 A \\rho_{star} - 3 B \\rho_{star}^{2} + 1\\right) - 3 u_{max} \\left(- A \\rho_{star} - B \\rho_{star}^{2} + 1\\right)$$"
      ],
      "text/plain": [
       "                ⎛                      2    ⎞          ⎛                  2   \n",
       "-3⋅uₛₜₐᵣ = uₘₐₓ⋅⎝-2⋅A⋅ρₛₜₐᵣ - 3⋅B⋅ρₛₜₐᵣ  + 1⎠ - 3⋅uₘₐₓ⋅⎝-A⋅ρₛₜₐᵣ - B⋅ρₛₜₐᵣ  + \n",
       "\n",
       " ⎞\n",
       "1⎠"
      ]
     },
     "execution_count": 11,
     "metadata": {},
     "output_type": "execute_result"
    }
   ],
   "source": [
    "eq4 = sympy.Eq(eq2.lhs - 3*eq3.lhs, eq2.rhs - 3*eq3.rhs)\n",
    "eq4"
   ]
  },
  {
   "cell_type": "code",
   "execution_count": 12,
   "metadata": {},
   "outputs": [
    {
     "data": {
      "image/png": "[encoded data removed]",
      "text/latex": [
       "$$- 3 u_{star} = u_{max} \\left(A \\rho_{star} - 2\\right)$$"
      ],
      "text/plain": [
       "-3⋅uₛₜₐᵣ = uₘₐₓ⋅(A⋅ρₛₜₐᵣ - 2)"
      ]
     },
     "execution_count": 12,
     "metadata": {},
     "output_type": "execute_result"
    }
   ],
   "source": [
    "eq4.simplify()"
   ]
  },
  {
   "cell_type": "code",
   "execution_count": 13,
   "metadata": {},
   "outputs": [
    {
     "data": {
      "image/png": "[encoded data removed]",
      "text/latex": [
       "$$\\frac{2 u_{max} - 3 u_{star}}{A u_{max}}$$"
      ],
      "text/plain": [
       "2⋅uₘₐₓ - 3⋅uₛₜₐᵣ\n",
       "────────────────\n",
       "     A⋅uₘₐₓ     "
      ]
     },
     "execution_count": 13,
     "metadata": {},
     "output_type": "execute_result"
    }
   ],
   "source": [
    "rho_star_sol = sympy.solve(eq4, rho_star)[0]\n",
    "rho_star_sol"
   ]
  },
  {
   "cell_type": "code",
   "execution_count": 14,
   "metadata": {},
   "outputs": [
    {
     "data": {
      "image/png": "[encoded data removed]",
      "text/latex": [
       "$$\\frac{- A \\rho_{max} + 1}{\\rho_{max}^{2}}$$"
      ],
      "text/plain": [
       "-A⋅ρₘₐₓ + 1\n",
       "───────────\n",
       "       2   \n",
       "   ρₘₐₓ    "
      ]
     },
     "execution_count": 14,
     "metadata": {},
     "output_type": "execute_result"
    }
   ],
   "source": [
    "B_sol = sympy.solve(eq1, B)[0]\n",
    "B_sol"
   ]
  },
  {
   "cell_type": "code",
   "execution_count": 15,
   "metadata": {},
   "outputs": [
    {
     "data": {
      "image/png": "[encoded data removed]",
      "text/latex": [
       "$$0 = u_{max} \\left(1 - \\frac{2 \\left(2 u_{max} - 3 u_{star}\\right)}{u_{max}} - \\frac{3 \\left(2 u_{max} - 3 u_{star}\\right)^{2} \\left(- A \\rho_{max} + 1\\right)}{A^{2} \\rho_{max}^{2} u_{max}^{2}}\\right)$$"
      ],
      "text/plain": [
       "         ⎛                                               2              ⎞\n",
       "         ⎜    2⋅(2⋅uₘₐₓ - 3⋅uₛₜₐᵣ)   3⋅(2⋅uₘₐₓ - 3⋅uₛₜₐᵣ) ⋅(-A⋅ρₘₐₓ + 1)⎟\n",
       "0 = uₘₐₓ⋅⎜1 - ──────────────────── - ───────────────────────────────────⎟\n",
       "         ⎜            uₘₐₓ                       2     2     2          ⎟\n",
       "         ⎝                                      A ⋅ρₘₐₓ ⋅uₘₐₓ           ⎠"
      ]
     },
     "execution_count": 15,
     "metadata": {},
     "output_type": "execute_result"
    }
   ],
   "source": [
    "eq5 = eq2.subs([(rho_star, rho_star_sol), (B, B_sol)])\n",
    "eq5"
   ]
  },
  {
   "cell_type": "code",
   "execution_count": 16,
   "metadata": {},
   "outputs": [
    {
     "data": {
      "image/png": "[encoded data removed]",
      "text/latex": [
       "$$- 3 u_{max} + 6 u_{star} + \\frac{3 \\left(2 u_{max} - 3 u_{star}\\right)^{2}}{A \\rho_{max} u_{max}} - \\frac{3 \\left(2 u_{max} - 3 u_{star}\\right)^{2}}{A^{2} \\rho_{max}^{2} u_{max}} = 0$$"
      ],
      "text/plain": [
       "                                        2                       2    \n",
       "                    3⋅(2⋅uₘₐₓ - 3⋅uₛₜₐᵣ)    3⋅(2⋅uₘₐₓ - 3⋅uₛₜₐᵣ)     \n",
       "-3⋅uₘₐₓ + 6⋅uₛₜₐᵣ + ───────────────────── - ───────────────────── = 0\n",
       "                         A⋅ρₘₐₓ⋅uₘₐₓ             2     2             \n",
       "                                                A ⋅ρₘₐₓ ⋅uₘₐₓ        "
      ]
     },
     "execution_count": 16,
     "metadata": {},
     "output_type": "execute_result"
    }
   ],
   "source": [
    "eq5.simplify()"
   ]
  },
  {
   "cell_type": "code",
   "execution_count": 17,
   "metadata": {},
   "outputs": [
    {
     "data": {
      "image/png": "[encoded data removed]",
      "text/latex": [
       "$$\\left [ \\frac{\\sqrt{- u_{star} \\left(4 u_{max} - 9 u_{star}\\right)} \\left(- 2 u_{max} + 3 u_{star}\\right) + \\left(2 u_{max} - 3 u_{star}\\right)^{2}}{2 \\rho_{max} u_{max} \\left(u_{max} - 2 u_{star}\\right)}, \\quad \\frac{\\left(2 u_{max} - 3 u_{star}\\right) \\left(2 u_{max} - 3 u_{star} + \\sqrt{- u_{star} \\left(4 u_{max} - 9 u_{star}\\right)}\\right)}{2 \\rho_{max} u_{max} \\left(u_{max} - 2 u_{star}\\right)}\\right ]$$"
      ],
      "text/plain": [
       "⎡  ___________________________                                         2      \n",
       "⎢╲╱ -uₛₜₐᵣ⋅(4⋅uₘₐₓ - 9⋅uₛₜₐᵣ) ⋅(-2⋅uₘₐₓ + 3⋅uₛₜₐᵣ) + (2⋅uₘₐₓ - 3⋅uₛₜₐᵣ)   (2⋅u\n",
       "⎢───────────────────────────────────────────────────────────────────────, ────\n",
       "⎣                      2⋅ρₘₐₓ⋅uₘₐₓ⋅(uₘₐₓ - 2⋅uₛₜₐᵣ)                           \n",
       "\n",
       "               ⎛                     ___________________________⎞⎤\n",
       "ₘₐₓ - 3⋅uₛₜₐᵣ)⋅⎝2⋅uₘₐₓ - 3⋅uₛₜₐᵣ + ╲╱ -uₛₜₐᵣ⋅(4⋅uₘₐₓ - 9⋅uₛₜₐᵣ) ⎠⎥\n",
       "─────────────────────────────────────────────────────────────────⎥\n",
       "                 2⋅ρₘₐₓ⋅uₘₐₓ⋅(uₘₐₓ - 2⋅uₛₜₐᵣ)                    ⎦"
      ]
     },
     "execution_count": 17,
     "metadata": {},
     "output_type": "execute_result"
    }
   ],
   "source": [
    "A_sol = sympy.solve(eq5, A)\n",
    "A_sol"
   ]
  },
  {
   "cell_type": "code",
   "execution_count": 18,
   "metadata": {},
   "outputs": [
    {
     "data": {
      "image/png": "[encoded data removed]",
      "text/latex": [
       "$$-0.0171107219255619$$"
      ],
      "text/plain": [
       "-0.0171107219255619"
      ]
     },
     "execution_count": 18,
     "metadata": {},
     "output_type": "execute_result"
    }
   ],
   "source": [
    "A_val_0 = A_sol[0].evalf(subs={rho_max: 10.0, u_max: 1.0, u_star: 0.7})\n",
    "A_val_0"
   ]
  },
  {
   "cell_type": "code",
   "execution_count": 19,
   "metadata": {},
   "outputs": [
    {
     "data": {
      "image/png": "[encoded data removed]",
      "text/latex": [
       "$$0.0146107219255619$$"
      ],
      "text/plain": [
       "0.0146107219255619"
      ]
     },
     "execution_count": 19,
     "metadata": {},
     "output_type": "execute_result"
    }
   ],
   "source": [
    "A_val_1 = A_sol[1].evalf(subs={rho_max: 10.0, u_max: 1.0, u_star: 0.7})\n",
    "A_val_1"
   ]
  },
  {
   "cell_type": "code",
   "execution_count": 20,
   "metadata": {},
   "outputs": [
    {
     "data": {
      "image/png": "[encoded data removed]",
      "text/latex": [
       "$$0.0146107219255619$$"
      ],
      "text/plain": [
       "0.0146107219255619"
      ]
     },
     "execution_count": 20,
     "metadata": {},
     "output_type": "execute_result"
    }
   ],
   "source": [
    "A_val = max(A_val_0, A_val_1)\n",
    "A_val"
   ]
  },
  {
   "cell_type": "code",
   "execution_count": 21,
   "metadata": {},
   "outputs": [
    {
     "data": {
      "image/png": "[encoded data removed]",
      "text/latex": [
       "$$0.00853892780744381$$"
      ],
      "text/plain": [
       "0.00853892780744381"
      ]
     },
     "execution_count": 21,
     "metadata": {},
     "output_type": "execute_result"
    }
   ],
   "source": [
    "B_val = B_sol.evalf(subs={rho_max: 10.0, A: A_val})\n",
    "B_val"
   ]
  },
  {
   "cell_type": "code",
   "execution_count": 22,
   "metadata": {},
   "outputs": [],
   "source": [
    "def cubic_flux(rho, u_max, A, B):\n",
    "    floox = rho * u_max * (1.0 - A*rho - B*rho**2)\n",
    "    return floox"
   ]
  },
  {
   "cell_type": "code",
   "execution_count": 23,
   "metadata": {},
   "outputs": [],
   "source": [
    "rho_max = 10.0\n",
    "u_max = 1.0\n",
    "\n",
    "L = 4.0\n",
    "nt = 30\n",
    "nx = 81\n",
    "dx = L / (nx - 1)\n",
    "x = np.linspace(0.0, L, num=nx)"
   ]
  },
  {
   "cell_type": "code",
   "execution_count": 24,
   "metadata": {},
   "outputs": [],
   "source": [
    "rho0 = np.zeros_like(x)\n",
    "mask = x < 2.0\n",
    "rho0[mask] = rho_max * x[mask] / 2"
   ]
  },
  {
   "cell_type": "code",
   "execution_count": 25,
   "metadata": {},
   "outputs": [
    {
     "data": {
      "text/plain": [
       "[<matplotlib.lines.Line2D at 0x7fd44325e978>]"
      ]
     },
     "execution_count": 25,
     "metadata": {},
     "output_type": "execute_result"
    },
    {
     "data": {
      "image/png": "[encoded data removed]",
      "text/plain": [
       "<Figure size 432x288 with 1 Axes>"
      ]
     },
     "metadata": {
      "needs_background": "light"
     },
     "output_type": "display_data"
    }
   ],
   "source": [
    "plt.plot(x, rho0)"
   ]
  },
  {
   "cell_type": "code",
   "execution_count": 26,
   "metadata": {},
   "outputs": [],
   "source": [
    "def ftbs(rho0, nt, dt, dx, bc_value, *args):\n",
    "    rho_hist = [ rho0.copy() ]\n",
    "    rho = rho0.copy()\n",
    "    \n",
    "    for n in range(nt):\n",
    "        F = cubic_flux(rho, *args)\n",
    "        \n",
    "        rho[1:] = rho[1:] - dt / dx * (F[1:] - F[:-1])\n",
    "        \n",
    "        rho[0] = bc_value\n",
    "        rho_hist.append(rho.copy())\n",
    "    \n",
    "    return rho_hist"
   ]
  },
  {
   "cell_type": "code",
   "execution_count": 27,
   "metadata": {},
   "outputs": [
    {
     "name": "stderr",
     "output_type": "stream",
     "text": [
      "/opt/conda/lib/python3.7/site-packages/ipykernel_launcher.py:2: RuntimeWarning: overflow encountered in square\n",
      "  \n"
     ]
    }
   ],
   "source": [
    "# Set time-step size based on CFL limit.\n",
    "sigma = 1.0\n",
    "dt = sigma * dx / u_max  # time-step size\n",
    "\n",
    "# Compute the traffic density at all time steps.\n",
    "rho_hist = ftbs(rho0, nt, dt, dx, rho0[0], u_max, A_val, B_val)"
   ]
  },
  {
   "cell_type": "code",
   "execution_count": 28,
   "metadata": {},
   "outputs": [
    {
     "data": {
      "image/png": "[encoded data removed]",
      "text/plain": [
       "<Figure size 432x288 with 1 Axes>"
      ]
     },
     "metadata": {
      "needs_background": "light"
     },
     "output_type": "display_data"
    }
   ],
   "source": [
    "from matplotlib import animation\n",
    "from IPython.display import HTML\n",
    "\n",
    "fig = plt.figure(figsize=(6.0, 4.0))\n",
    "line = plt.plot(x, rho0, color='C0', linestyle='-', linewidth=2)[0]\n",
    "\n",
    "def update_plot(n, rho_hist):\n",
    "    \"\"\"\n",
    "    Update the line y-data of the Matplotlib figure.\n",
    "    \n",
    "    Parameters\n",
    "    ----------\n",
    "    n : integer\n",
    "        The time-step index.\n",
    "    rho_hist : list of numpy.ndarray objects\n",
    "        The history of the numerical solution.\n",
    "    \"\"\"\n",
    "    fig.suptitle('Time step {:0>2}'.format(n))\n",
    "    line.set_ydata(rho_hist[n])"
   ]
  },
  {
   "cell_type": "code",
   "execution_count": 29,
   "metadata": {},
   "outputs": [
    {
     "data": {
      "text/html": [
       "<video width=\"432\" height=\"288\" controls autoplay loop>\n",
       "  <source type=\"video/mp4\" src=\"data:video/mp4;base64,AAAAHGZ0eXBNNFYgAAACAGlzb21pc28yYXZjMQAAAAhmcmVlAAA9oW1kYXQAAAKuBgX//6rcRem9\n",
       "5tlIt5Ys2CDZI+7veDI2NCAtIGNvcmUgMTUyIHIyODU0IGU5YTU5MDMgLSBILjI2NC9NUEVHLTQg\n",
       "QVZDIGNvZGVjIC0gQ29weWxlZnQgMjAwMy0yMDE3IC0gaHR0cDovL3d3dy52aWRlb2xhbi5vcmcv\n",
       "eDI2NC5odG1sIC0gb3B0aW9uczogY2FiYWM9MSByZWY9MyBkZWJsb2NrPTE6MDowIGFuYWx5c2U9\n",
       "MHgzOjB4MTEzIG1lPWhleCBzdWJtZT03IHBzeT0xIHBzeV9yZD0xLjAwOjAuMDAgbWl4ZWRfcmVm\n",
       "PTEgbWVfcmFuZ2U9MTYgY2hyb21hX21lPTEgdHJlbGxpcz0xIDh4OGRjdD0xIGNxbT0wIGRlYWR6\n",
       "b25lPTIxLDExIGZhc3RfcHNraXA9MSBjaHJvbWFfcXBfb2Zmc2V0PS0yIHRocmVhZHM9MyBsb29r\n",
       "YWhlYWRfdGhyZWFkcz0xIHNsaWNlZF90aHJlYWRzPTAgbnI9MCBkZWNpbWF0ZT0xIGludGVybGFj\n",
       "ZWQ9MCBibHVyYXlfY29tcGF0PTAgY29uc3RyYWluZWRfaW50cmE9MCBiZnJhbWVzPTMgYl9weXJh\n",
       "bWlkPTIgYl9hZGFwdD0xIGJfYmlhcz0wIGRpcmVjdD0xIHdlaWdodGI9MSBvcGVuX2dvcD0wIHdl\n",
       "aWdodHA9MiBrZXlpbnQ9MjUwIGtleWludF9taW49MTAgc2NlbmVjdXQ9NDAgaW50cmFfcmVmcmVz\n",
       "aD0wIHJjX2xvb2thaGVhZD00MCByYz1jcmYgbWJ0cmVlPTEgY3JmPTIzLjAgcWNvbXA9MC42MCBx\n",
       "cG1pbj0wIHFwbWF4PTY5IHFwc3RlcD00IGlwX3JhdGlvPTEuNDAgYXE9MToxLjAwAIAAABDzZYiE\n",
       "AD///vdonwKbWkN6gOSVxSXbT4H/q2dyomq/kPUQANvWBm3rqQcxHkGxBsafU1eI11148MwjS/We\n",
       "21rEtdsjVBk6f86yS/ah5++iYeAJPD4BoaWrMFGZlxy/AMNXC4bxG9qqJmoh6yHNNn16evWLXslq\n",
       "UOhdGNtoM0W+wt24bV9q4skzbZLl2lSlKDfsGdSPc4+g7cJqH4eQv0zJSPUJdAY9RhH8WD82vuEs\n",
       "wHGt1fwUdGXrN2/zLdUC03jQkN0yG66bzzany04Kpc8is8KVJ2z9GAVamXQl7Dw/UBk3+URlMFyD\n",
       "qtXoC75JCWE1DH1RWXxSd8SaDHjmw873+yBD7qQrjs5XV5MhrDWfEWmHtdfT74ZpUX0/HALQkL1l\n",
       "9eYxwL2AjzIkqhnhHgWbvJa3uUZ5dKXE8F5v3PfG8/apOzu+WIqw+VKvp1xnHbG3moWb6fxeTM4s\n",
       "top/E0Pr7CYcIlluCJrqLo2Z/1brp/e/3IJowI9Bgq2y/JQrmnIPOXgKzYsbbO2/yuMt5FsayxiB\n",
       "cGtBw4xd8WhI9ezrQT8MQPgvXAUPpKGzvNZSZ5NHoz4PabVQu4ujNDbnG67JeVEa6OHc9lteKLWD\n",
       "BZ6ZzM9WhpwatJCkUeRnYDcJQywKEjapi1pF9DiRkKdsv3hwwsqZjOtrWX1jJXklNv3KPF3gZCDm\n",
       "oIi/Uzvjm8kkj7NLTuuubAAAnhEJ+WZPu77L3Sf8lH6FieyoS+yYuf0RfsQKPbZT3fvAE1Vj5RNy\n",
       "/14AySgxeGWZhRdm4GfK17+wxK3iJg8Ik9OlOMWhDsipePv+ZhGLg2X0WLvFddVJbpk2xDrNh7XY\n",
       "9lIIRLbIQSgUwi14O/m95ufYSzfYz+JalNRSpV2OLYUyUXtXa8ZyFDUoO9omCXgN2UWvNa//Qu+c\n",
       "FNyQSQ0cSGunk8FnqRLmd8gt66A/yMz6dtv2BNCyt2CTJbodQPnzWyj/Qfk7wJW5o0DMUDkEPwgA\n",
       "AA+NPKS1Jrs1RxtKu+4GuxaBClSzesUN1A1HsxIhB7wAHEhM7pJE4OyOV1NCdS+VQ+7HUvgAFhJM\n",
       "owdrMc8r4yzBLu230oR/vyWvP9ucTG6R+Al32/ttImpL6tLWv4MdIT87qXihvEiw33p66rtUo9Vw\n",
       "DuA8ESJC37lfYuha3TnJTRqx4LgBrgfcUP82TG7IeRcT5l7txiwXVgx+AKoBa+r97pSdO6DNJIap\n",
       "FqcTjc55QJpXP1GbBGTAX4jVEjhgX/x4Tf/E3qKldhnmPpSZSB3fDY195u7DC7EjuAlTxvsIXRzd\n",
       "JY36biRsfKx8boK5TSuUP043J8Yx08k1y+x/LmXm1WDTJH02T44+hIezngiruEjCbIKjP8neGQD8\n",
       "yYEVS8tzbj75v/7fHPoeOFxSU2J0n72aIymS9xUXbh13c3RW/Ce8u74ABm+J0H12njvYO57MBhyF\n",
       "aaTkLog0eInygeMprsM7937UFcPkfjJ3A1UtEkzOohy/kkmW3x6W7IKp0e2s+wKHWt7OFNy76B/G\n",
       "3NZjtJ3Q02l9C4r1/+I4ktg5Wv5sB5tnoUH455Nv9/gxXyWEFF8EvL1kwwJlYcMT+v1UGPFfRoRQ\n",
       "cqJNNX2fYd9eaviiz8XuGKcsdyu3lSFJo6bPW1Wy5rTo8T6bQcCmAnMj4vzvgaTcgnrvgM2A5hv0\n",
       "u17fDBwY/JH1FOLknpvvFwU/U9VZnd8iwnBIAlTb9QLZdRq0l+z9hnWax5Dw93uugX1QuATniPo9\n",
       "W2BG8ZJHkwA92lTBsYoBFznuYK6JOVMLKESltdh3F+vNMcfm4M/VawXfcWCGSDZDzzhjB0ut5cd3\n",
       "nPB8ZY919MnD0ratJfSycSFNOHpBC/XFOq3/CJ0pBbGXViewqlzQnelNQyDwSxUs75Dpvne5fiqN\n",
       "uBCNQ9NgfuEUJvK/1BZ7Xg92RUBrZUIUslXbhPpZQ/bluKGuMZQZN6MnUit9stltjVkvIOwijpiV\n",
       "SrXnVA/IIBCZa9eHrDfD7ZciM2Vm9+Eu4si2spOcexEz9Iu9a4eIsMs9qCPvODtM+xdcKuH/byfi\n",
       "wLm2SFkSF3kzo/vPvtW2/T/rzDufFEJYVdLqtCRy+S3dh16Q5aRCXX1jC10eSKCU1PvCOEJbzuXD\n",
       "hvtRbfKk6wZyDuwb8u2TIpSCgmO+3EU8ppd8X5cIekmBnY7xQIMFArq3eqmQxLzwJKE/RpOtWcTo\n",
       "iLgGbIxlIrInKDivuF23r+B0vCrHiCS1qfOUczs9ujc93Ho+nIVQZPSnkSqllZz6ufF++zCi0UY7\n",
       "yTM5BwMdnkngO83OIiyY1vTo38buoubCZncHgflHQN8zuTjngja3H4z+7Ek/OlsQ2s0CCNAxINWi\n",
       "HDp5tq3YJdw7DkrES6/w9WTKttzqaAJ43r2/87L/sVkELDFS49JezZ2jlLCHNHnx4X4fjof+DEBU\n",
       "klFIgUmLXqYwWTYmHQq+Fz2+TmDwP+59VLVwUZyOmMN71oYqY9CzYRZ0H803etBCLre3X4eJ9nYA\n",
       "2pxqrbr06fN4/yRm9g/dhP9CZb8ppatu8W7WAnbxxCNBhCEDxZuRgazafQMmgwh0cHgW3oieMpl9\n",
       "p3yAeTMPUNfQsfGzLjhwDilDBeTY7AQPPY2aH2QXJAAREXle+2vYwELpBrAyz7QAky9E5UNiu6bg\n",
       "L/5aZBfJy5c3OjctWCi2Jm5W8lbKovX5pjNaCwvO/hssPb0ZaKNvrh30plz8ed7MwtdTczUD4msh\n",
       "bAKsAWN33sZCzhvorSaJnpvScodV8fl7owFxdvX6DPwbSVfli3M20TJEapIFKQB6amng3DvaHj+Q\n",
       "tqF/sRUSaKRTPuRmOGeT27di7uCdePpwqoSxeGYsZNqrjE3KfV0IGO7a9h15mkqTw3IGAv8M4YSg\n",
       "ESBBM6PaMxZLoe6RLRHjkkZhSPiwnt3zFRQdqkw0w4xldwU3btCnqZq8m/ZDR8pHyMwlYXb4TgSj\n",
       "jJ5lOgt/it9aOOTcSgiiegkWkPYYMkW5fpceuajkd01T8sg5E4MLMNssKf5XJxruXHvq+6abL7Yu\n",
       "Ws0qUuiRquO1QTrM6Dhpbh1c7TjjerynfnUDFXiDycKjHmmCelUefpLSXLYEUklEO8sLtb3gW2R/\n",
       "RzMGvXuAy14Y41Ug/LnMfIxZFjwUZZMgNGjHwr7Hup9csRqLxWCBTSYSrAlof56RpX2Nb72EuSIg\n",
       "JFVI9SB/oKm8++raLofRlHkt/QV9qpXAVts+T0JU+pXfzxEP4t5C1fFXYpQFMSmJAxEVP07CMjV+\n",
       "qOv1+DSxwdDvSWXm8bEDIZ5LM07U8Dybqkg+mbKpocQPUVHs1RCWHkRE/f7MjSqF+7GSbMJxJouY\n",
       "xE/DMDIP7Z7Qtx9O+JzedPH6gf79CDrwZC9j1XOSR38j7OPT8a4RRqXD5qigjd2kboBAcW7ogXdM\n",
       "t2QvUHu/wrWJKE84igdEQVziI7aCwC2BhHbSuYgWqlKzlFgU1zXXONf3Fu2C9LhgyKgFRH7He+rg\n",
       "r6wuNVTXtpKQFu8vCiL5N/9V3OT2OHl0rKsnwKFOAh0qYe1riotEbMqNxxRMykppF+lY3kM/1yUk\n",
       "VlQpGxQzq7aGR0VBtM5whDhFNjvbu/+CW80VmmNSZ2c7OZ3lIOGGMMwvQDUosJmCcP/FdHt+b8Iy\n",
       "DJaygUrytaozCQyNXz1hxSHm8K+308+QbJceAcYwvI1C7lt7MYaA1ZSSdaWL/SXF9MHdqL8JJKgX\n",
       "b+m9bRaaVVDGDkdj4HmxmpBu0wnPJ1GuePuZK6wNeKl57cMxMaCgR75sADWFsgfPAkUKqZbKIxQu\n",
       "UsJe9m14XA42MKhacre/5cip+6JhlttVy9qbolYL+zasxH5/Nbw0T9/R8ul6Z9UNbqtQA8qgq7GR\n",
       "oPsVV05bBBHb2LR8Pi3/mrnKr91kQRNuYYrIbYd7Hpj/IiIT5VI7+16q7uP/8pgfSEePKIeYsmca\n",
       "8zJXa3zVXTldxqSi65XknmKV/6Pz/laf4RR/D7tZ7xlpNn+3gW+qEMYKVDPu0Jfmx0U+RlT6ppUV\n",
       "0Kn+UhQxgXKG/kUfJ8vwVj0xq3VnVWUEyEbpYJCG2XLzojCaN2m0d0+n0Zxe9YbdyYNgmJgGP9w4\n",
       "kBb0jfxIF2bomNJVSs7u4up+mZSEr3+C/Ih/3VJ86GBSEV0T9UB58r48ZPUQp0w8VuSqMG/oP513\n",
       "4FmAA/20kCVrnGmcddjAxXg7qnKmZdrFYT1BtZie72Q7ojp2+NB8EYnEWcENSb9VhUo6tQV56cNu\n",
       "m4OgDwjx9yRG6YHb+rQ9xfFZ7+fFU7HJh8Rtv6WO7RsVzO+RQRCIbkm2yW3BCcMHQDGWBN0SubKK\n",
       "Pxe1Mwkq4Dp1d2TiKPl7l1EshV6aX4dLH9ncfmq06m/1tT0k7qkFSy1QPkk1hD7dc7CffJTCRw6l\n",
       "G/Wh7iaBjS/RjC1VuXsYTbW2YuoQujCmaFDA3R/w3dYjEDgSdVRX8P71aem7D/knGoDnmXbt+uZx\n",
       "HCFxolccL9tvTdYHqyOU9X4miODoVp/7bocqBNMVZbDSklLpHZAv7VQCsbaAON81+5UvddWdcYGc\n",
       "1RSQ1RHI2kLVCM/E3SRYgkToIMpj3mu6MC62SKg+APxSnFDBAfAOOhgl5mAf06Yibtl6v1Q2lL/W\n",
       "FIO6fYm+Juz+vl1SvTf49V+7J/LpbHMWILdIces6b09EcyceK9NDfDKyUoadQ0b77c8c4eG0hXeC\n",
       "Bj95UopCjep/cefCrsTPcixNeeqzwYnkxHzF9+kNeCgrh7NR0OA6SvXDaQN7R8tTiTtsmOFSDcEm\n",
       "E1Y4gbVq0J3YQQaTFE6gCWwTemb9HHbc1aN+DtPhY4EPGNNL9ubRLlWiaMieXNIHBCPgrKnuymt6\n",
       "42X85N7V15JfT+U+1OBvMu9XEodjrYbSNRlJEdFqKr697onKnl9ctiu3cz/HCXLnaaBA7OcPSluU\n",
       "FSd0zKyXnRkL9BNhQjEv6EwqWtzv+Y/3ShNHwjldU/a8f3rdUhQKByhgpGGso3FEW93GmP8VnHnu\n",
       "vDzEen32remw95xgzgJBbn/uqFvAkFFL2VHetnPB2mdA9UAZXg1Vqa5DFZ11kvy0zGOEHvgUfJPc\n",
       "7gC2lg20PzCRxXvN4p29TVYaFYkR7ETnA6a/SdsTeHM2ASHPJ6DEQpAIM8zMeQ5BBpcE1VBLJp+a\n",
       "bE6wRq3jkmx1BUZswThs9jbnkqM1rWRv7J4IuCIl/cfoauLb6h4R9NHdtrEKxU2woxOfEMtc4AcR\n",
       "fCUIXLRJE+jjPYfeFnDSQ6UOh3enocr+JIso88/PmK6nnfGCYBTnkNSFgZK5mKWcbBj+kenq36ae\n",
       "sKPIJ6Gq2Jp+apmlcW6vcnCiTSiYLjD0+74NKjq5t9sIbuTk2BSh0L1cv0sGuQx0P5DcoqeWYiHo\n",
       "unj5ACbsGNiPuygK/mc28/NJFhIDZUTieYh37PQNIhqaeOF0e7MygyA/i7aCndwx6LB5VAwvMIz1\n",
       "Axb7WGGbZjhvRxEJ9B1vlQhk7eYNg4tPkV2IKfkKN4GJlDiI+Swgt1nCmd6RoMsHznUM7WycjjUA\n",
       "Ez07C7POtjC//pCVFKKpYwQCh3ErjYAklyIzA9WSymqOeJ2TQkttoWlr4wErUCtAY5g1BODALISJ\n",
       "v3Zy5KqO27Ej3x6/nFJIQ3An/LUWZFhY2rFUdcHEgU2cx7nyquCFsOi5Hkdn32b3+nCinHwKuHNZ\n",
       "Dtfl2CjjtociJv24NPeQi/ACpQ7pAbawZg/xtb3lbwfhv/VoX0yxVCgD7u/d4FaguAACmjqOLDmn\n",
       "gJol4QAAA1JBmiFsQQ/+qllZt4aWAAhO0+JxtCAiRv4IL4BP24kcYekgzVJawPNhff1jSgbz8SoZ\n",
       "II3Uv/tlI/5cCXTMzxcgNrN+7bOCNXUOi1oWstZWBWPUV/ZE/sOAKFVAfIrR31bw6LPS2wCZb6/K\n",
       "Aiks78GL9HnbnQgFmVnSLY+8l1/NHBR/Kf3x5JqF8IjhDt7mu4gXGJHuVzqsHPC27s4pNE8ptkTS\n",
       "r3LIjUcVIKH54ep8Jy2cXGHjCmhSz+2TmX+IGs5eG6Zhmq9dAd+UeS7K0or5+iBiN7Fi9piR1g8K\n",
       "EZxJ8yx+g3UdwJ64WrHUuugGnhJVKQLS7kf/bXp9BU1UlJBKTCSWyBNz9uQ1+dzw5JlY22LDPtE/\n",
       "z5FLQLCL5M5deOhhL3r1ULL35vgwkJngjzOTH7BEqaOi8uvMvH+idbehs25LhyWchVOyugmTDs75\n",
       "u1gBxmTOvIW36tF+1b3aM8NUgfdWPkUlLLLmMM74yi7tPtH7ZsFW2/BKdY4oCHSWjS6AkllaTx1i\n",
       "INLdxL0dmSalaw0Gz0pvH+BkZ8sS1jJJdJi5Ed/VyrTlo4RJPq5oeF6whdgVuru7MYab+RFC6ZqW\n",
       "hM+pxFMDgbXV+yk4hvBuqktz9OCmw7JbMh4XRBoiW0vNgEjA3ncb6sz8MQUk8jwSfHVUeyHg28KZ\n",
       "/CgccIFeDePYo3pq/fIYqHd9WnZKfIiF5z/AtWLg0YfJ4BJ0hQO70RrUDOFHnmo1oHoDysnKlF4N\n",
       "IA1GprmfJfn2Jf45ciSoYpeZv75lAefHI8xhOiVdHoRp9Yo8ZzTN13Op+nakq8FZ/6Bui+Jkz+Pa\n",
       "loOcyDnLWKjv9pta7Cg9ifH8UHF9HRK4togztINgCMQb4imarw55nwzl7XJk5r3kUoMj1X0uSdZU\n",
       "4PUnePoNp7fOiN8TCyiniXS2JqZXX64QgSlNKBFGyYU+VompZiXmnfjj3UjyycmL3+lMGt51IvRo\n",
       "1v8iyMi5L+bMV5x02HHPJ0Kc4+HWs/dgh+LWQ6UE15idCz/MsEyQ5VmWsqyaSn5n6r+BbyJrfF1x\n",
       "S/CyBkeGhrePFUWsKxbfdM2XY+RfOqGjwg2vM7hM3fr9qv6+10qnAISghKzNqLvbd7mV4DIDac+f\n",
       "cx7wAAACu0GaQjwhkymEEP/+qlkRJB+98WAAhNyR71FC8fXXR33ANt+oyWbz2RuRZ09OC1XOMCoj\n",
       "PoqlyQkCwPebFM/MuJiEQG64jWtkd43w9AGiVQ23p/fsif+sVxtzAaZoCUdBTo+pjpcTUKgsCUi6\n",
       "wgsEjFoMNeAmWpBt0o++yx4nxNQ2R46Ttg1wFSU9c+K3pV5/IZvImFX/Q1b7X0zHw9wL7YeHHVr2\n",
       "9//mz/Xc7LAqOTAhqZlWt6AlPh3MWHDIHPdWyJwXINGEkwlDdTskZEw55MTKvILRKkMmacTwfBcc\n",
       "3+SMORedbo8Y5HYgmyuEpiaAdpE/ovvsBdkNPg60nm9Tr3/z21vtpldnkBIr3IxisYaPbVDtNEqc\n",
       "VasxdydRhgknwQ7BZjcfrkRYviP8BWNoI+fYV1xkTiQ3AqzZx+nnE4rtjRD+C8Ko4hsYkhv3D/MT\n",
       "kV7lUz548ZApwrLoULWKvAtwl2JZdiwKVgWxNxyFEUCN7JDwF0lnZ/dmZsa4wYorGxsG61VWPqXU\n",
       "KUeVDcnYBXvZVYkBeosjFT1eIuQ5xbqKhH/lC6lm0nx5WOJLa/ZjOma2OYsTyI1qT8qtJhROZre3\n",
       "pQneyaUE9/XfjcX/qs2eksfRVwcx1cj2tZkNbnq3QannkigLx8KkEd/llyQUB0nC2DxrSJLcHX1z\n",
       "SxzPPzfukVkMNzADAKKCapDiVhK+KrM7egHD5vKCubkKqVrI83MF3tL5I8a+t7Y2aff5C/d/sFLe\n",
       "QC2e7k/Rbfn0xdEvpd7zwDgb97j7/Wj0/kbbjPrXdwzNGbDEkNgcW51hc4RbRcawYL87Z97PWUpN\n",
       "jljyGyhva7x+71miHv75ziTQacbbJiCy/6TrAEHY4H0FRnE4gutoAiKYesGYvTwugBjBp/+3hoL5\n",
       "V+w9HfMPmWxm9/7gph4mA9OEk0HeQQAAA4RBmmRJ4Q8mUwU8EP/+qllE7/igATTV8dq6uSES4Rz9\n",
       "T2q0Hu0IE8KwQ6ZYE5uQrMD68tbAb7uQepv4y9TuechG97CZgJRn8AQGdUns8bhoWpd00i0vTu98\n",
       "n5K5u6ihFTTyYkWgRR0pm/M1NUNqC9aSh7AggG2I/GGz2zITqCJ1E9x3t86cR4ivCNMb1NZfRhlo\n",
       "3YHf8e/asy8Yt64UKxLj0qlvHP3nVaoP5lwrOOZrzFPIdDFFc4v0S/ijB/oaqnPATnl/ZVe2dSet\n",
       "iQJu2GaCJMmXp1vwfd+/8N2zxTDyLxx8liFcB6TyrZPfQGBNHP8OTQsPNJuoq76pQi+P12KPmWOF\n",
       "eACCefv6GjHsYfb7K9kL4gXiao66uoYfy2Bpt134sQZ9oKfkAlLGdxaj1CkVCp4QvENZGhQeDtVE\n",
       "51fKOOQIfNRlol4GPZt9O7Ahez5bo1aDGLrdaXriz4tQDeebJ0gA8hXoN9JmSUkxnTh6momLfwvJ\n",
       "14oCNOwz+JtM18rXiJQpZneN2qrtBmyzjbV5oHk3gNvK/HqwFVnOxsYJtQYYe7dzEeJcd8Xc5/mI\n",
       "s5CjKhCveXHXh/IjDo7P4+ZA+afobDGfhR8zDFwj5h/VY2oFlvKcjjahMgp+vJSrTgjsn17v2G6a\n",
       "TMP2FEO9ZdPEgpeiIjO6ClmCr5xEzzSn7ZmFVjqXF/zrta3JhAzodZ1iyODq7rPb+rxYtCZWC1ob\n",
       "wgGmS/gdnT9Svbu5byOpFZ8es9l6ViOEQiXr59Bq22tAvNEiWELjWbiLftLWYAmLLVqvJ+u+sQfG\n",
       "5Af6zbcbDgRtUWXOGGtF89efI1bcl7AlzRF14dgP2qS2SfBZ6wmbU/pOh+MGmGup2YP4YUnH+Dxq\n",
       "GwrOiJtZCgfJ2CGceWAb8WMYSMl2Onz4Ykwps8suchZd4++DXlSqxD7t1TyRp0HWogh4NXrHWo9w\n",
       "LQmPCTmX1PdkOd3gi4hDQK568boKEJ3vFTy8/ok7a3BfLVM9BYzYJFori7NYkXVkBWhWk1L0mm3r\n",
       "FV5TAHd2MmLMsEf/2fUiUhrs10OefvIoSs2AQNIgQsePSYpatyGbeSMUl48KshyFspToNgzHat7V\n",
       "tlClRi4joss6Jl9MX+F/JLC8HM9tRWV7pTGw5t/nNLlK/OLc7zj/SpWkacGowy3PXzQF4+pf8ayA\n",
       "hT30LN2H/Bkc+piEZggAAADzAZ6DakN/B6PVeQH2u8VABmzhEysZ2VKM8u7Qv8tAshJmQrJ4dUnw\n",
       "fchYLNeQa6G0CNEB43waG8RT300eNG5w/OJqtOsuzy86FHBCNfZzl/sp+LbGgD3gDn5/ueUkCsdT\n",
       "GnO668GJfZS6T5hTanQwRDba9ioOpg/btWGD7l3vRl8WUxglKiXZx06ReFWhv9CWiihcZAyenVuu\n",
       "HGR1Ob5HcPLsjhb3sc729kXuHGmik+nO02nVikYEswSZQo8nHBmdezYThKx+QqpkYCdE2ANpOdlG\n",
       "yAGz0+iF4AALLx9vOswbP4ewYYhAn9gXiwP1aMSEz5QpAAACjkGahknhDyZTBTwQ//6qWRE8WJzE\n",
       "rmiAD4KoEM5iUWzwFxozjfwz8CFXR3VQlF/8d3+scE1recA7o7dWWkNNxFtsDH+hyEoevQzKBudt\n",
       "INl+AEsox63K16MIPZMeiRsdYYQReCQ0PuZTZ+WHpVtbB1JXL7RCjrw8Y/yTqmaBZi2esZb12T9/\n",
       "APY81IXg8PZlyJmQoVumHI1jouJoXG+3DPfULWt6g9Vx19nUKqRQgWXbn9+ITRuJFwWdNA4B/xJF\n",
       "HBIz3A8sjJTjW4IS1zEQgWta4i/FTiZNWoK+juP32H28BHvLmWKDQ5brrHwvqU7uryeG9wky6D0A\n",
       "g5GdQfizu6dX6qSikmr0wy5iElrMP8xYacfgRH3gaAgLokvZqARjYturfZRG1A/Gnm77SQdsUbJO\n",
       "5axtx1Q7HoCNSddOwxnGM9135d3RErCkRhaA/Shc2AUI6jeW7YAqcz4pG0i3jOienACuHg4Yv6Ps\n",
       "CgI9yXNnOHNR1ShA3FfIEv0mWqp796ZSeAhVTBCrgvGr4n+lLoYHZKc9AuAE252gUX6n56jVk8W+\n",
       "J1yR/wS4vSYZLS8V4P1ddbo1YLXibvdToaTocZbDyXeqPI5Vk/9vPkQDWXhIN+ml/s3kn4u6HiBw\n",
       "HCtRhBZBi748EcOcrCJPP4Kq9fQZDu2iTMMHWmqbSpNt5F/7zl4ISWEwv8xphgpxYZzn5X70ZInA\n",
       "QKAdDfXnDsMrT1fgTdsi0lzL0lzoKJvMD266IPiKZFB8r4D390RqaGeK57Vuvmgo6A/iQND3qlVH\n",
       "sCLrGjUt1cFzJxMFZCfBAiJyqlxDvH0dKUkZec6Wa+knPzDAjTKveI6LXrcsXV200+wLMcYgXziZ\n",
       "lcaiZpYeXwAAAN8BnqVqQ38IKfBJ/9AAIfpnXF6qUfZXYISXu2H5t/NnqA1OhIiz8HfOICs6fdbR\n",
       "it5T/nKP6CFVyLfsxu3IRMTXvogzGkHt46A7mIXzPUNdgJb8WJBoCwuFvjOvDOx9toY0g2uapkv7\n",
       "4hcDSRS1TE94/xnB8S6MdkgGs2cA7mJ/+lQw47JkcagwOMP4HOkSH6kqBID3j+4HmrJhSirbRxtU\n",
       "Br6SGM/sH/wfpeWRZducvj5vahBpfCgcAX3Ba5fpA9Sags0J62chFqCwxm26Y5R3lWapAtqAS+Xs\n",
       "JYfA+bpBAAACnUGaqEnhDyZTBTw///6pn+t9p+MLQAQ6WmauYNIVR4mLerb+XZOH8OnO9bZxHj21\n",
       "ARZSFvWy5zKosF48rmoEP87Kd9SQywcdEZkeDb2T4jf9w/LCVsdyclE0DJ2tSihiQPIO6Rl/LFyE\n",
       "h0PBqI4GiSkrg+r3CEYilYt/IVlAxlSNVnVTPUkPQqiBKpLCctn8h0in9NP7bfmsPZJydCA+CFfa\n",
       "z+H4YVIufp0N6rHfYdOjtVnQVEVmKLAexizLjopJpivz8WswLwfzRK4rcNnidJ5vUjFWFAdumQun\n",
       "3gqDRoXaTB3ho/srUuvQAAURk4lWAGCWUit7pNsqKPZjdRdCea9/BZRbVA94mPzm3pV6Z8JZMINq\n",
       "/shipsESklFoOqWzfEwHIezde7pxrAnZXHRAS5coTrBSRxVGJ3SOnxhWrYinBsiPAjxNAa72C3fS\n",
       "hai5KG1nZ8BvjkbkUZBALpqcR1frgGYQ5gFnAo5hjsjOXQiK7KU/1NQ8MUBkGrbeZO6wQnqySD9p\n",
       "XtGR6MbP9Bw45w3KhpQ+IBH/GPips43Qayb7pvNTHApio6GO9+Ohmip93EOOOWQj5ma/h6atMak7\n",
       "IrxL9BsXBW7hTU7J24TpyRSqN7NqL+EfpXxXEquWQ/yduwzjdEWXELiXsAqKB2jXB8F2hcflt1B0\n",
       "87NzSd2xS2kmkYts11K/TNv2/F9xN196QewbJYog3Y0tqanONN+Of8bHuwGdVO2WRKQYH5+4+hcc\n",
       "xJNMsG94/bF+lGkzmVE+zG43RZxjmRE1DMiDMgv9k4SvTIF4q604ICMncvqZTD4G6A33XT1kFDer\n",
       "E51ZD+OQqzxWoSpgmuZwfVOyREyqolFJSbnYmD3ZtQAD2Cr1CWWpeFdiq4TFG2IbnaHL+QAAAWoB\n",
       "nsdqQ38Ho/4Rgax3eAEJLDjJ+okc4dR1g3eAk1TuP28oJP2Yzq39GDgyJRgXevUkU/EInrTgSpgJ\n",
       "bV8jZBld8uY0jLinovcmq38EDmfNP8KuBpYj/dRzaFRypU/N5sm3p4+4jyny65l/lRJGbGwh2hee\n",
       "8A3V9xbcf4Qc8K+qykyEdQRfi2dPDtFfLwi3tshSF6Qw1QaGzZ5ZLvGjiVlAX8QmIW7SclPiTd9y\n",
       "YshZDDbsO+6d55lplJePNw+fWIFvfQ+209+Mbh9Bsh6gvqU8YSZIEQju6effucoKIAsIExlDZzuW\n",
       "1qJO6NLV8DM+H3mkKsr9vRN3AaCfDLthsnyILDLAoBlNiYkeWg1ujIRisvC1U62SqVC46/WVzHfa\n",
       "38gBCd1bm6zZ/dXnftFgTskPJaNkkn13/ATZuMCFMojxsGNGqtUj5JmtgrYh94Wsuz9VkmJ92JKS\n",
       "EXVIFXzWMY3KwkJtQOX5UiXcQAAAAmdBmslJ4Q8mUwIf//6pn+dS/rE4AHEkrz9ZUtYbNvGdKgzQ\n",
       "y5JfCQ2j74GkPIrxxNrWVw7WdBPQBkgtVdia0nW1o78iKeb7tsrGYOjKfIG4huZCZ4rP0DeqhXkG\n",
       "CPFQKNs2XIxfupLA54J2/uE3GwnrnJqn80L0+nH8tUq9dbzbvsqO748rLFGbZCBqhWRe4kS0V9eD\n",
       "W8zhJXj+UKI2Jt5750FXnySzOpDmQmpyw059ymV0jKHwEmV52id5kGp8XzahcW8TtyXHmNYcQI+r\n",
       "MVJhGoeG/+bdFdFcqEIuVPY0m7QqVElc6pAhxWNo3bheYa72W3YkZcDuqjIkBycqTxZrcZXWhOHy\n",
       "Yil9iPkvIqo1npUMgSE6+hskAs8Z0E80UcH3PoJ87gp9PtHPjXinCAXAdHcvX6nb6FL/LzOeOrA1\n",
       "NbhrB4XabTWu6zqjA7OPzce69ApYCL5rt+0xmJT059EJt8Rgy4eTIxk+ir71eRqfY2s84HsVxbvq\n",
       "RgVDesdb38wyEiakmBv1R8j3uXpa/otvSj1sikG4ICXj44brE/l8M3v9U8he3E00brqy4duqye7J\n",
       "1p6szVQetQ/WKGZ+EpChhs5Ia+Pjg3vh9vQrOqyFy910Ic2pqQKfUtLWQxgP48D1fOZuF4j5LDLs\n",
       "RnHE2E9WdJzYb0oHcwp4zj5AwzSExcGVBDJJvltQB7D/22ITFG6hZGLralbK9RI9OsD6uHE5c5H/\n",
       "tPLRblyZJW09QXnzUpJiM616CRsadZahiLBoQsHzWZY3g2PnCwbhmurZbAwm9uEfHnAv3ujEPkkD\n",
       "WkNE0RKhvillXpAAAAIWQZrqSeEPJlMCH//+qaBeMdPRwEAG0ohvN+mCWBwMwo/Aps4eYLuDvwRD\n",
       "M/9upBKAK+IEVB8U/rWr8Ws02HLxP8Fk/zJpm+Gsx1DpYJgtJhK1IZnkujWVlgZRyM2UCIOUM/CI\n",
       "o6xugV5tnZDyt0yIHPW3TAJWPH/yITDTHz0/Drx+XlFHAoaqyUxd0YvyNz0F8dmKq+3OpPkMelZy\n",
       "M6JKK/j33eT8joSglL41b0BzgR8pzeD+Ek1ykTUm81j/bW8RMInCnVDD8YHHWRVq6CSVMSbQyB9c\n",
       "ufL1q+6dh2EdHRqr5jgF9FkUaj4wcXpaabJYzhH8lmePM8fs4yMi3q0SFzrsrk8A6F/Sk71EyrRa\n",
       "w9G+Kc9erGPiN+IefGM6IxFUmgQcujyHkFso9KzyLdykqq5NsM2povN3DoS4HElvtUyrZbOcdRGJ\n",
       "g8byJzMinBGsFsDiISKCn19OMkeDRTWj7l/d7h+7epn7yjdzi+suKhf9iDtGASmRNf3adYNtP7lU\n",
       "p6DEXcFLtZNlDsiexCWxSFvIyZ2xvIaNAkDPx3PJAZcIN4CkYT/2daFfWNwQD99MLY7ofzV4GBuK\n",
       "luemblE2YP7oh1YY3JwPpVGxU73xnK6WnfoqGsLMMrqqI4Q3A/9Hddsc4TjzBuJ87Qz+v2Ilqbye\n",
       "CAyvXgyMXsnuApJ6h3YodD0vbgkjAgzLDxeCLkU86vkbX6HjAAACAkGbC0nhDyZTAh///qmgUaS8\n",
       "yMAH8IUVNQiYBa6X+egpdZ71Tsy3doUip946pSelDad1kR8YnG6Hq6P7f5TLEOactxSSqIMCdBvH\n",
       "vdtNjhFxMkjoPomh60uc1FCugdfUejiyJCtTC9dIlreoMVU5kGXYT7gZfHDaCZD6qVq1ItBuUzVV\n",
       "jEDO4abSkjElztdaj6QoRiruqZ5nS0qT9C0DMvQ1w+2MmiItEz8qDeBuBT6sqRG2i12Zv2MiPnFB\n",
       "P3zhDOBKpQ1m75jQfz7HGHGijz+gCIHMSSp3+gzKlT+Zm5ZpXmphpDMcfvM6srf+jcgxdKQzlS+a\n",
       "PggCNMJQIz/hTdUtmcHvmIBR3mFrAO+LImqjW821yG98XuWSwBnKpSe81VN1/5dxHCa4TneXNjcz\n",
       "2I5YJN2xm1/jukbrdZUKbmqWZhLTGNuufrhZFbDMF7gqjpHUJ8P3PXZBvNAmzIRM8uBXt0dcSSRj\n",
       "8uK3o4VJmPOjzla7i0r6lIk0Z75p4sqma2n/W9QbKDTw6Maj9W2P7ugRZRcWP/tdHFG8lQ/cuIwG\n",
       "Tm509Ed7LLb1geiOlv07Cvo2EvP7W/r3qscL5172pc21Ysv9jB0DO++jLRL+cE6GD94vnFyYBhA8\n",
       "I4Z64+mk5DQFLgb5UcJAupOo0F7+nt7Xsg75cfD/wTEIj9KPkEwiFFQAAAHnQZssSeEPJlMCH//+\n",
       "qZ/rlSoTKWAD+DpEXi2bRHdgyDxaYTfl1g6SSTx95+U/Z77BU891lee2x3aVaF7kFU1XqWUPEje1\n",
       "4PQC9+XozXvSM5omMS3xI6FXVi5icyL0bnpzzALf1xv1JgWxWv6XsfWri9tkSwcg0KraXIgKxLnD\n",
       "1twhBMt9ettOa1v246+1p/Tp8/msyqkUibv/RgEnKFCK2KLShCkt6J5VpT7vzghQ8+LKdZ1fczHQ\n",
       "PnHrBjdEYd8G3r3zIxdaGB6vTuK9FjdryfKhorKyYqOdGXe/iesYOfifyerborU7bPbRbUXfuEvf\n",
       "LvhJ9qB+v7zxmYOhzoS/smtZ70rsfC1EnPL+kOwWE/fMVfHaafpEuNrFo1AXYef7fc/4rSuSGpU0\n",
       "ReH3pEl8eyzl6FcH3eYN8h3ZEbCsc0VS/BW95wqF5/f5m+t/HkiQ7UeuiGDWjVHJNZGzsKC6fHs9\n",
       "sA+5JXDzRUNORaDhI9lYXUH70FvbkjExO3uhJeRiMpHpUTFBdUCdFqX7mgxFzBvHssxHu+oFK+XH\n",
       "YVQ9eBLsZRflbop4mJtfLBhviae1VYbg4CEGQYzF8iZCeN6aXrCLJPwu5paMionKKFHeT/WrqUbx\n",
       "OC7JU8mMqHJL1hMla+aQrbQ00AAAAaxBm01J4Q8mUwIIf/6qWR6NQAG0o5t4RxY6zpVKsWNj7HDD\n",
       "xwE09vy2Ohh5yr0wJQXDj8wZRZDVWJHiYL1H1jB/dlQAUdjvEBAeObKfTKO/Ykym7/E23ztCHMIY\n",
       "bxA7HIBJBpAg5drkPLfVkrDX+Qr2Oq6DRGh/AKeWb2mX50MaPQbbgUk3Z/Ct17/H9C8mxM9Amv87\n",
       "hiDJ2xx3+wGvg0y7RqzItV/kn9Od9B91uqagwaVjxpriPJfmQn1PfrdfQMysAC60wbgIXhbiSyFj\n",
       "QPB3F9bnyN/CBpvmw8zrODcux2XUlnskSM6ZzAxpPb+rZMMUPbj7lRnM3jAVKSmFMaFGUl3WyhQ0\n",
       "H0gM1o4QqvYpa9Bl9M4t7xlC+EuGTm0OfVyGxoOGPZ3ix310+4xpSE+f2MMoroMfyMxk7dtaP4r+\n",
       "6MDCwQdruiK6PbvvY+ddgMYGg08ANnm4W75tC8zX1N3CQ4JJ+JQ/XaB91XNuqH5ecrCyz5HlORIT\n",
       "c8dDR/WAh7obLImNwG0cLDxRAYujG8+wkYmPIko/9W/f/Ei7DCj1JwSmyEMYVsCd9tKSHwAAAYxB\n",
       "m29J4Q8mUwURPD///qmgEUNABOq1JvQIBKbplHvuONlHQqHlIZS0CEnmYAlPwx7ZQiP9wICc/eo2\n",
       "/6AAyIjJGkToj4+fkD6pLQAFD21yp1xpnekXghZLBd8bfpe1eBSG90BzvbN24F/aRrWsVIsi8gNQ\n",
       "RlNSTWO90xcPUk8sj0pPqJ7aV0gGbxoqTJhkizdTnIV30FlKNb7P+COSvgaiPzwz81JKAF5wPxG3\n",
       "s2irImxbL3EaaTTk2W/x7xT8HtaVillCyEieCn+K3PHzd7l0fdtnfVDZ9PrMBDQkLKolKcrD0i0o\n",
       "zCQOuf9al13dHpIQUewGhK3rVhEOQ5tSWqUXQ5DpYDtnyJRZt6EskAD1w+RxiBlMd/Swb0VZS/3Z\n",
       "SsbNfCgQo7xJWBIC4c7pMK7G//bnFAoEFlcGi1yu+jtcxLr1vMlWsi9LJHbX2JyFqGQuMHmUQfdr\n",
       "0PcH29ycFAnseiS865RSVu7h+eNVOr0WfG6/VNovrZxw4M9iFRWAw2X8ce3Tgae2aFnTRCUAAADS\n",
       "AZ+OakN/CKTQABD9aD+kknaa9LkwPs7nFEYOVwodv+gXQvUHA1bMt9M5lfZtTdRvRxpocuKXZ155\n",
       "BVY4HHV5i5Wg6MEDupf7C6PmyN+yT0+5q/CElA2dhFS6qBMSZzV87jTAWPadOaSYV/YlfqLNdYU+\n",
       "c9qF8cB4O3l5AjPOYXtZy8eLsXT3YQYyKSjuvvd/WZYqSO/STNaBJELRUH1jLwFkrIBCn4FVLJPN\n",
       "niP028Ageuof7Bj+fzhiqj5YKL1bg1UkMVg8i4wqUO7wFMD7/FJhAAABRUGbkEnhDyZTAh///qmf\n",
       "65TkGBoAIc//fWXqEEGJRGEy59pQahbAg8JO8eqVK3n9R4En1CXfEWXM5GlXVZWt62emExmk58Cj\n",
       "HmgQGmju2ylJ5pcxQdmYgFuHa26pbKw+/scbB1YGbe7KqjZ08k2c9TX//4DC+NfvTtCpHD+4nqGQ\n",
       "CurARJ7MuZB+odyrnkySlG2MBTyW6JJDb+gT8xUsFxODfsk9y7dpxXeQfRFbWgsBKJgkMoMpI8YB\n",
       "lp1hX7LonXGvsb3PphcR+99x7m1sKbf/2DxDFtQLSijl/nElnT6nCo3jEuySr4SvGZ1kY7FhUav0\n",
       "vFnLhe34pNGGSmSi8VboBY/nYW38Vq55icjKihvQ9U0WMwJsUSZepgO4C43jBwLRa9m3HpjcIo7G\n",
       "E4v2N17ymzUsUikaknzkXQ8TQ2S0AiDtJYgAAAEGQZuxSeEPJlMCCH/+qlkRBtTv+cFABDmwpLyw\n",
       "s6FX90y1wy6OSbijW8VK+QV94TjYSFnkyA1IFp+ZxZaobR9514oscXFSdyNZYb4WJzAAkVNHdtk5\n",
       "gHiuqQ5HZVbkDO9F+lIUya7tf0e9f2DK1sR2YWMN//yz6v1GmksR/TCP8NZu79KefGZr3/XkRZLg\n",
       "wUY3r8yvvQO7xiQDKU/pxSazIBs1H6Qc7ZzZ0gIYQrrnfg5xNQvbwblpw9SPgxSdgymCrD080YMC\n",
       "UvBtozCcacD3TUav2W4KUKoGcxg+mSTfD+egPdfRbWFVV/x8lthSI5khB99JuFN0+p9DAKgM/tvi\n",
       "1FSIhkENgAAAAUZBm9NJ4Q8mUwURPD///qmf6jECsm0AEPEccYvSryCi4cizobKPE7szefaPLYeH\n",
       "d0PODMxqtfKoTIyLahE6Wdn396c4ZCZXe/1XHZfkPQX2S/idAJbyru2yAAYmmaYSOefWhuR9Nt4F\n",
       "+Co/27keuDAbFr7WvIaopXJMDEVKDFWOfMhB+RuQSIZ8KYhNMFQL/D4EQMYWgi5yULJ0g7kNiZzy\n",
       "E+GjR3E75WJv1/+w8b+EhVfBp6fZTUWD3y6vOstGf5t6JmwNB+E3eRU7S5wsEa/rdS4hS1Le3ID5\n",
       "EqQmj/YAT32hXXlYTKmw9PM0SmuMEJRyhe4t374Sww2YhzOqx8p1LbHaZKoCKZ2DPC7cLAeim9kK\n",
       "u0qmtiG75Uq3xkbP6Q0rw6hPBpcM8izIS9hcv4hwO1gS6R5eTwzFrsLtQH6Q2RUrj5hFwQAAAKEB\n",
       "n/JqQ38ISb3D3ACEytbCvMoT/L8TvJeSUQqT6fPA0uHDgw9qMA70pkWvZL0le+1Tw6H6ynRKAAGR\n",
       "Yed5BdJNsO9NTGFq29UNPIbChQXgxvF4m/pOPk4pc+tj2uu7jXRjBEB63aS1dzM7IjUJUlpPAn5I\n",
       "lHeMZeg4BatlgLQCH4ngp+xwFwlOuCLHJBdsIto1lUQtI3uPZ7hcPqJtMbv+qAAAATFBm/RJ4Q8m\n",
       "UwIf//6pn/GtSKMLtkAEPQ5arzuZkF1be1O2CLjhvy0tg2DGxPCIBFqTM3F87nCzUtQ7zROeMwwM\n",
       "ePSTZZfIWApg40SONwWVO6+N8D5H7rvWPc36mFvSiIXdfTK6bnsZhTRtkQpTXKOe44idEKiSqQiV\n",
       "3E4oESi8+Ke7aV5VO+PWKC8byBHM7JBw9f85ZfYQzjIYoOhTzgJKLbXuZ5VfYS0nuC8FP+vaNBpn\n",
       "rctBGpZKZGVimCl2a+3ru3LRtIFa6MbmU7qqS//AmlYjD672clfK0fZ48T25vivEWsrWA2loDW3i\n",
       "qCa31pjQdJfAjh52JKxWOu420SDsvzxQS0fXV+PvySWwQch1LHRjk9aZZ2HqsS4RAD0DeimxrlH5\n",
       "XoIQElPAbPNFTjzMcAAAALxBmhVJ4Q8mUwIf//6poHrz4KRgA/hB/nCsgM0lvw9LCrEXVMkYs93o\n",
       "YlJSM/+txvr1u7k/CwSTXnniP/2/KjZfLEA92GM5INiD/dtKg6wwqVmpLEpMihziMYakHNf7yVxy\n",
       "uBFTZ9Is3eVMoiJQ6fTMqBrnTxbfGjfyAFfX2PFl+Ydd+gnuZUh7MPiBePreVCSt4/48VCdCM5Xp\n",
       "+tU3cWxh0xA7IRdv42mtUoNwK7saG7ZIvhSOGA5l6cgiSQAAANxBmjZJ4Q8mUwIf//6pn+uSmEVr\n",
       "ABNCp3OBFGnBmzA8t4uLVP+/H8NunM9IdIGgKTuM+tSSPf1diRId0moN/VHFOlPy5JsCQgeZTvyd\n",
       "7uxqqn9GOAvEQJl6ByCaU+DsQJlCGIVMfObn1oUy/PmkuqlIOtwnfIcEX9ufDvuxA/dw+8eE0wjA\n",
       "TMbeiVxvWhpZ4jFmhKQcdd/lnhA8BHUjd1C2HykSdiVt7hii0Sy8DX/k4VkYp0+gHOv9bTTjrpbQ\n",
       "FL4h0n2q+K7caxxzySCWRe1YkHUR5Tlq7MdrnFywAAAAuEGaV0nhDyZTAh///qmg7jCwAQlG5ouY\n",
       "+z5m50KltsdKzHDz7vXfzQih5u5VsRhb6HQgMnG2OEouHcySWiWwqJIZsve18PQC943SqG8OvinB\n",
       "ankLFQyU1oRcIbmOyRfy1dCL6S9zyqv2rwPCnzfg1Rin7c1EcSR+7tOAIUWtgcl1dblGxAMAwWog\n",
       "/CkxjcLjNDAAKhF2S3RpcH3hukYkboGlJj0ry1Y2s3sLYf/tXjGWoONJ/pnrr1kAAACWQZp4SeEP\n",
       "JlMCH//+qZ/raQ47eiACHzCvmdguzN5oYJ5hRxXuXCB7tMf0IghazqV2iWhnz8g12RPoYhCj2DKQ\n",
       "Aes58DJgDJ8X2j180ekhnrs/ARlzYCWs1QP/UqNaypMQVyj26b206xx6g5+x7gi2Dwu4MUlf/lj9\n",
       "6KG6k1AK43l5KJCgkbPGe6zKIM7sgJm2MKeMSvZxAAAAiUGamUnhDyZTAh///qmgIIYwAfvhLgw5\n",
       "7jlln/ENdGMaF8WtQLPgB95k9FoJURWOQoQp/XLLz71t1840XM3DVPS3Vu4EYDtspNgB57xuj11u\n",
       "EyutYOiRsm/wyRR4iGHVV9ChZaSgaqn541Nsl+z+2qqZPniCATRyHMoTalc6Od2I59C81L3hq5+e\n",
       "AAAAxEGauknhDyZTAh///qmf65UFMTgAEFwNMjAyKH/c31yroZZQuuQ3oVjN0ztyc2uIDrqoYhir\n",
       "Ot6UbEIiRD42aeq9jNKw2clgex4FDFV37tpYhNmP7F0dlxf3AQsV0hhTnhNGIoO4XeOT2tzVzY3F\n",
       "ZnXB4lJe39b/HyrKqEO0THOGqY7Ym9kJgYfGmF+2MG/fR6Z/ozzIMALF+72WcvD/4GUBAe94feYf\n",
       "9q3l3AFrQ8YOWREc1+jVZbTYmIRpOFVtrZdqnakAAACkQZrbSeEPJlMCH//+qZ/rGnnf9UGAD9Gn\n",
       "dol53ULILz2qGDGAP3L7a4dE++2nYCASG7gnTDyaMPJYsz3fiUSroCJ/DY1r/Yo2HEVWU0itoHB7\n",
       "YF77tY/9Z8THyEdW+tn9NCtdCxkWq2umTYtzvgJNrHxVxy+hLVeYCGTi6M1tlyG3+XppVvVQt94e\n",
       "7Dnt4Jrkm2shJWDhzuxBMRLcF1LiK6O3/4AAAACHQZr8SeEPJlMCHf/+qaBmV70ADaUIlXLu4jjn\n",
       "z6XraPtyTAnGfVoZY/743lDUbWgO/7D+RgRoUhRFPV/eB6iALr1zMz7LtrOfUF1cuAxSf/yeHPMf\n",
       "dW4dq5KfuEmjmvQtSSzBJDcRANyqeNUi3LmJZLh9vVCZDFgR+A+wfooU7icwPTcx/k3RAAAAU0Gb\n",
       "HUnhDyZTAhv//qeUDdnxZABtLcpYqpESpr8E9YLhlgjhZ+R42W/fXafaIoTHyue+zkFXO8DIgCjg\n",
       "rN037UemcZQ3Pm461jnrVFqzPQGZagOBAAAEFm1vb3YAAABsbXZoZAAAAAAAAAAAAAAAAAAAA+gA\n",
       "AAu4AAEAAAEAAAAAAAAAAAAAAAABAAAAAAAAAAAAAAAAAAAAAQAAAAAAAAAAAAAAAAAAQAAAAAAA\n",
       "AAAAAAAAAAAAAAAAAAAAAAAAAAAAAAAAAAIAAANAdHJhawAAAFx0a2hkAAAAAwAAAAAAAAAAAAAA\n",
       "AQAAAAAAAAu4AAAAAAAAAAAAAAAAAAAAAAABAAAAAAAAAAAAAAAAAAAAAQAAAAAAAAAAAAAAAAAA\n",
       "QAAAAAGwAAABIAAAAAAAJGVkdHMAAAAcZWxzdAAAAAAAAAABAAALuAAACAAAAQAAAAACuG1kaWEA\n",
       "AAAgbWRoZAAAAAAAAAAAAAAAAAAAKAAAAHgAVcQAAAAAAC1oZGxyAAAAAAAAAAB2aWRlAAAAAAAA\n",
       "AAAAAAAAVmlkZW9IYW5kbGVyAAAAAmNtaW5mAAAAFHZtaGQAAAABAAAAAAAAAAAAAAAkZGluZgAA\n",
       "ABxkcmVmAAAAAAAAAAEAAAAMdXJsIAAAAAEAAAIjc3RibAAAALNzdHNkAAAAAAAAAAEAAACjYXZj\n",
       "MQAAAAAAAAABAAAAAAAAAAAAAAAAAAAAAAGwASAASAAAAEgAAAAAAAAAAQAAAAAAAAAAAAAAAAAA\n",
       "AAAAAAAAAAAAAAAAAAAAAAAAABj//wAAADFhdmNDAWQAFf/hABhnZAAVrNlBsJaEAAADAAQAAAMA\n",
       "UDxYtlgBAAZo6+PLIsAAAAAcdXVpZGtoQPJfJE/FujmlG88DI/MAAAAAAAAAGHN0dHMAAAAAAAAA\n",
       "AQAAAB4AAAQAAAAAFHN0c3MAAAAAAAAAAQAAAAEAAACAY3R0cwAAAAAAAAAOAAAAAwAACAAAAAAB\n",
       "AAAMAAAAAAEAAAQAAAAAAQAADAAAAAABAAAEAAAAAAEAAAwAAAAAAQAABAAAAAAFAAAIAAAAAAEA\n",
       "AAwAAAAAAQAABAAAAAACAAAIAAAAAAEAAAwAAAAAAQAABAAAAAAKAAAIAAAAABxzdHNjAAAAAAAA\n",
       "AAEAAAABAAAAHgAAAAEAAACMc3RzegAAAAAAAAAAAAAAHgAAE6kAAANWAAACvwAAA4gAAAD3AAAC\n",
       "kgAAAOMAAAKhAAABbgAAAmsAAAIaAAACBgAAAesAAAGwAAABkAAAANYAAAFJAAABCgAAAUoAAACl\n",
       "AAABNQAAAMAAAADgAAAAvAAAAJoAAACNAAAAyAAAAKgAAACLAAAAVwAAABRzdGNvAAAAAAAAAAEA\n",
       "AAAsAAAAYnVkdGEAAABabWV0YQAAAAAAAAAhaGRscgAAAAAAAAAAbWRpcmFwcGwAAAAAAAAAAAAA\n",
       "AAAtaWxzdAAAACWpdG9vAAAAHWRhdGEAAAABAAAAAExhdmY1Ny44My4xMDA=\n",
       "\">\n",
       "  Your browser does not support the video tag.\n",
       "</video>"
      ],
      "text/plain": [
       "<IPython.core.display.HTML object>"
      ]
     },
     "execution_count": 29,
     "metadata": {},
     "output_type": "execute_result"
    }
   ],
   "source": [
    "anim = animation.FuncAnimation(fig, update_plot,\n",
    "                               frames=nt, fargs=(rho_hist,),\n",
    "                               interval=100)\n",
    "# Display the video.\n",
    "HTML(anim.to_html5_video())"
   ]
  },
  {
   "cell_type": "code",
   "execution_count": 39,
   "metadata": {},
   "outputs": [],
   "source": [
    "def cleaner_lf(rho0, nt, dt, dx, bc_val, *args):\n",
    "    rho_hist = [rho0.copy()]\n",
    "    rho = rho0.copy()\n",
    "    nx = len(rho0)\n",
    "    nx = rho.size\n",
    "    for n in range(nt):\n",
    "        rho_n = rho.copy()\n",
    "        F = cubic_flux(rho_n, *args)\n",
    "        for i in range(1, nx - 1):\n",
    "            rho[i] = (0.5 * (rho_n[i+1] + rho_n[i - 1]) -\n",
    "                     dt * (F[i+1] - F[i - 1]) / (2*dx))\n",
    "            #rho[1:-1] = 0.5 * (rho[2:] + rho[:-2]) - dt*(F[2:] - F[:-2]) / (2*dx)\n",
    "        rho_hist.append(rho.copy())\n",
    "    return rho_hist"
   ]
  },
  {
   "cell_type": "code",
   "execution_count": 40,
   "metadata": {},
   "outputs": [
    {
     "name": "stderr",
     "output_type": "stream",
     "text": [
      "/opt/conda/lib/python3.7/site-packages/ipykernel_launcher.py:2: RuntimeWarning: overflow encountered in square\n",
      "  \n",
      "/opt/conda/lib/python3.7/site-packages/ipykernel_launcher.py:10: RuntimeWarning: invalid value encountered in double_scalars\n",
      "  # Remove the CWD from sys.path while we load stuff.\n"
     ]
    }
   ],
   "source": [
    "# Set time-step size based on CFL limit.\n",
    "sigma = 1.0\n",
    "dt = sigma * dx / u_max  # time-step size\n",
    "\n",
    "# Compute the traffic density at all time steps.\n",
    "rho_hist2 = cleaner_lf(rho0, nt, dt, dx, rho0[0], u_max, A_val, B_val)"
   ]
  },
  {
   "cell_type": "code",
   "execution_count": 38,
   "metadata": {},
   "outputs": [
    {
     "data": {
      "text/html": [
       "<video width=\"432\" height=\"288\" controls autoplay loop>\n",
       "  <source type=\"video/mp4\" src=\"data:video/mp4;base64,AAAAHGZ0eXBNNFYgAAACAGlzb21pc28yYXZjMQAAAAhmcmVlAABWA21kYXQAAAKuBgX//6rcRem9\n",
       "5tlIt5Ys2CDZI+7veDI2NCAtIGNvcmUgMTUyIHIyODU0IGU5YTU5MDMgLSBILjI2NC9NUEVHLTQg\n",
       "QVZDIGNvZGVjIC0gQ29weWxlZnQgMjAwMy0yMDE3IC0gaHR0cDovL3d3dy52aWRlb2xhbi5vcmcv\n",
       "eDI2NC5odG1sIC0gb3B0aW9uczogY2FiYWM9MSByZWY9MyBkZWJsb2NrPTE6MDowIGFuYWx5c2U9\n",
       "MHgzOjB4MTEzIG1lPWhleCBzdWJtZT03IHBzeT0xIHBzeV9yZD0xLjAwOjAuMDAgbWl4ZWRfcmVm\n",
       "PTEgbWVfcmFuZ2U9MTYgY2hyb21hX21lPTEgdHJlbGxpcz0xIDh4OGRjdD0xIGNxbT0wIGRlYWR6\n",
       "b25lPTIxLDExIGZhc3RfcHNraXA9MSBjaHJvbWFfcXBfb2Zmc2V0PS0yIHRocmVhZHM9MyBsb29r\n",
       "YWhlYWRfdGhyZWFkcz0xIHNsaWNlZF90aHJlYWRzPTAgbnI9MCBkZWNpbWF0ZT0xIGludGVybGFj\n",
       "ZWQ9MCBibHVyYXlfY29tcGF0PTAgY29uc3RyYWluZWRfaW50cmE9MCBiZnJhbWVzPTMgYl9weXJh\n",
       "bWlkPTIgYl9hZGFwdD0xIGJfYmlhcz0wIGRpcmVjdD0xIHdlaWdodGI9MSBvcGVuX2dvcD0wIHdl\n",
       "aWdodHA9MiBrZXlpbnQ9MjUwIGtleWludF9taW49MTAgc2NlbmVjdXQ9NDAgaW50cmFfcmVmcmVz\n",
       "aD0wIHJjX2xvb2thaGVhZD00MCByYz1jcmYgbWJ0cmVlPTEgY3JmPTIzLjAgcWNvbXA9MC42MCBx\n",
       "cG1pbj0wIHFwbWF4PTY5IHFwc3RlcD00IGlwX3JhdGlvPTEuNDAgYXE9MToxLjAwAIAAABDsZYiE\n",
       "AD///vdonwKbWkN6gOSVxSXbT4H/q2dyomq/kPUQANvWBm3rqQcxHkGxBsafU1eI11148MwjS/We\n",
       "21rEtdsjVBk6f86yS/ah5++iYeAJPD4BoaWrMFGZlxy/AMNXC4bxG9qqJmoh6yHNNn16evWLXslq\n",
       "UOhdGNtoM0W+wt24bV9q4skzbZLl2lSlKDfsGdSPc4+g7cJqH4eQv0zJSPUJdAY9RhH8WD82vuEs\n",
       "wHGt1fwUdGXrN2/zLdUC03jQkN0yG66bzzany04Kpc8is8KVJ2z9GAVamXQl7Dw/UBk3+URlMFyD\n",
       "qtXoC75JCWE1DH1RWXxSd8SaDHjmw873+yBD7qQrjs5XV5MhrDWfEWmHtdfT74ZpUX0/HALQkL1l\n",
       "9eYxwL2AjzIkqhnhHgWbvJa3uUZ5dKXE8F5v3PfG8/apOzu+WIqw+VKvp1xnHbG3moWb6fxeTM4s\n",
       "top/E0Pr7CYcIlluCJrqLo2Z/1brp/e/3IJowI9Bgq2y/JQrmnIPOXgKzYsbbO2/yuMt5FsayxiB\n",
       "cGtBw4xd8WhI9ezrQT8MQPgvXAUPpKGzvNZSZ5NHoz4PabVQu4ujNDbnG67JeVEa6OHc9lteKLWD\n",
       "BZ6ZzM9WhpwatJCkUeRnYDcJQywKEjapi1pF9DiRkKdsv3hwwsqZjOtrWX1jJXklNv3KPF3gZCDm\n",
       "oIi/Uzvjm8kkj7NLTuuubAAAnhEJ+Wb3tYxYzj2V1/rcbBUgm1kxc/oi/YgUe2ynj4UwL2/Hyibl\n",
       "/rwBklBi8MszCi7NwM+Vr39hiVvETB4RJ6dKcYtCHZFS8ff8zCMXBsvosXeK66qS3TJtiHWbD2ux\n",
       "7KQQiW2QglAphFrwd/N7zc+wlm+xn8S1KailSrscWwpkovau14zkKGpQd7RMEvAbsotea1/+hd84\n",
       "Kbkgkho4kNdPJ4LPVbct/ZgEDCNc72Gd8HN7l//ZfVIqV0al6P8igJMluh1A+fNbKP9B+TvAlbmj\n",
       "QMw58tNeMkNF0caF27AAxpzRpyIY9k1bkiGCMnrw80j1tBvWKG1xb2P5E6JDUADuiBnLTTI/9VD0\n",
       "X5Vpp0Uu58Jh9WXO5b1T2XQBvZiFlzDi2sMIbx/lHeOf7c4oFvmWp/a9WtOUZgRkdKkokV9TwgIU\n",
       "7FDZhytr/keb6ezumRFjW6b+B1cQP4z6Jm+GT1vel1jwXADXA+4of5smN2Q8i4nzL3bltOLKcftF\n",
       "GPP+qw3TMFhoqusSkqWgCviV0dpQAID3DTaVBCkt/AWAEmrkmv26zXrgaidZmjDQO74bGvvN3YVZ\n",
       "y9gnlkw0286CpLKLtWkZQplyINqGZ5Ejl+3vTyoff/IO7LVoqS4NLa/K66RzWLx8RwF8xQyKM8fj\n",
       "EmO+Z37E1PUZ0W5DVpmkJ69usUJTOHcCyEMLdAn7YcrxNAMft5mKysqolQHANEGWERjeKo1p4lLK\n",
       "VnYeZ/qDkbZmUNaFEIUXQ5cEE+GkkTjIC2A7hoKle4Ab9d3i/SnkY+D+Nmm3hyefliiXG1NESfUR\n",
       "7BtmJh0aFIy2jlRu2BM7YIcinLAVfYOiKaRSDEfttdS/GwYzdfCMYLT2RLvdWkL7dguKsi3Ki9du\n",
       "EH55XAIc9pyHXo1KmJoAiv7zm87LJQWafgN3NcOi7U4Ldw8/ihrHzHoqdDwqBBbAod2pb5eA3sWN\n",
       "lQyDu6lWdYLK1Gie0YWMXAFclv1V9XciXBb1pRn3LwLJzNpD9vm7/Al1qW6trN/HKONO0Pqo9Zb0\n",
       "R+/Qyu6FoHAs9jSasT1BoY1mQo9+RDYRhyE8x8ytP5vHtv9CGlbf4y2gRVfYDKwL4BuhOItZtKDY\n",
       "te+fpRbq2DJAyP5cSGabIfHXkR5ss01xrAvRAboCidtebMTbQmgmEq7Cn3ZGOBh22Le6i74VUuLX\n",
       "c6onq6ejBGfrU5/Cl4PdkVAa2lncq0PSk61yuDb+2aB9cl16KPZ9UXEtSyMEkUcT09wriK2+5W9q\n",
       "MIL1wUT7j4WdmHU6UXMPiApcgwbWCXXjzfMbvktSqNcr95tJUN07qugJT4TQHeWFdNiBAk99PGQC\n",
       "2JiC/ppUhYdUzSfUp/DcUDXm5pr8h+mz7Ly6rYGZsgiuJecLOZ88LvaspkUf7lmnD/53xtbVp3+d\n",
       "gQKS8kbwaVB8FX/oTfknq+0BAOkosOKMvmtgsdSkO/9sIOImpnn5bDu1eug+sW6FrYX68GM2lCp3\n",
       "tkAyUqP65P+ZqwY4O+uQ5sJoMwxWJBxBhKSe4BJW/n/4lY71DhLveQSawvC2Si6UmBKxSKprTXm9\n",
       "YG+ril6HaeiBkJudtgYi66DqdWBLslUJXDebgn23bQ7Bgwf7bY7Yl2IDLyiRcsK2zJ6MbHmD3b0s\n",
       "/kRQZQ5X4WJ1OiqQabxZGFBuQald2JJb55NohKzVnD5+FlX2u3fVhERvYT1oA3R67+rtbVBfo/Sg\n",
       "NU7SXTK0i6UzzFsdHUMc3DBYaAclvuDhrYTQX5tf1hndutOVWzglYJqqg0OJl42oXGde1kJ9TSin\n",
       "EJgbViLy+fGIr0u5tNLdicZpt7FXP95Bn8ao+5/q4cgYTjbEy3yn1cdKWQK8pUmNrREwJ2j45uGm\n",
       "GavrX0ba3Zd3+sN9GiAI3rhC686pinGLwrcWeZDKOlJLVkTujSyByr2qmGlVu2q0TbDEm4jNLa5v\n",
       "MtcnH5VCzUfSer2VNNEblRSiyUap7mOFBj8mbB9Se82u9n5KfIFaXYGVBdbqnD02IlxZvylocF7K\n",
       "ZMGOukBHmv4tbtC8a/0Ap1Cw8Tvli3MsARDCfkQKUgdSLhUyUve4yWxPupPAnsCkHM9kRIiwf6W1\n",
       "mOcExPNI57X4+9lq8dyJP4fIj/GcAFDzgVgO+7RDJ88AHZ01zg2PXdZ3cgX3TtxW5OZnlonY4yB+\n",
       "l3cpOwI6Hziilye4RXT2mobgERq1lo0WecPN8xipU3yx8gtr1o2ohH50e2AZnIr9kw5QQB8JzS+a\n",
       "xfdvjrpzoO6qnq4WpWzIKa/YPYpVPyyDkTgwsw2ywjjaFN4aRRANjmp1+LhFOUWuSFB8li3c+bWJ\n",
       "ss2P38O2iTPjmQyBaDRwPcIKs4VguF38bWneXtXcaY7eXevFxxWHOoB/NTM6v60TDo5mDXrnfNpy\n",
       "KZIqN7O0Y3+Yj2jXYN/RQKfZxS1w1TSsIW0fOSrt1JP+9BISn1FyEyTn04qrgnfDO06kz142UuhM\n",
       "iNIXd+k+g5GBj652WYIKzSP4c2qg9f7V/LCmNtxtv4Eu3+Fv2+8z4B0JDqIWfsJmxqt5SyTFNrlQ\n",
       "8kDVUkDApGL2yP2RE1OP5fv29QcsEJX21O1Xjlh3Tmgth9LZ0P2G26YsqN7MBU3pVGOAL9kDZrnC\n",
       "XDbE/UcK5UlzyfiESsm0GAC9aVUIsNvMPK/jdqqjeaOPuo7AZ3PONX7WsiyQewPhBWnIBgzeolEw\n",
       "5rsXXkkVfnBbp5cb5XQQNgB41LUk105miQi1XFu2CqTbpE4oNRWsD+J23iHxmJl8I1wiq+hNoTJY\n",
       "LRRGpK22FYZwA0t7YK7FZHXQzVF49q8VdO9prvFH0aCkBx3gAx40k1+lCUfNcaRDJtXN3z7AvPYd\n",
       "p0QzMqR09cJcHpnIQgdjLTT7OAPU9JIXKgVYkhCiPKJqdfeIiUAzbKV8a/P9/7USkoGBR0P+/Wwt\n",
       "ugyOKvpLg0+ObUxtYrNxxm+LZkFHwqG8JaF4fesjnzPjRZqtm5e8UWXjmy5MX2FGGWMo62hUGM8U\n",
       "/OTCnVzrn6LDfq0QqN0NxEaYhj5VKFoMRfiQXn0SPC/V0BxTEBl5GDHAKJvPnzRnuOiqnpVwz1aw\n",
       "qXkkW///zYDLzFBx00nhFY1W9/cPVy+TP1j4J0QiN48itCOw2kvjZB0+iMtus8+9SLPz/a/lZjrt\n",
       "L3REGywvfID2OowjtFscQg9tTvCR4BmITt6MhaYEIp/8ojrJJog8GEjCWQJy6Ak5XzMglmkIHQle\n",
       "V35OW+gn1cb/b/QbD74u9yyNjp12CKsaEJFK7wdTc8Z0+1gCP5nRic8aXbvQ3IDdXwmKon/2323e\n",
       "CIVK1t4JIHfrQ5wyPDAUswdVEo9oytBuTd+FTleiVB5aOSSr78Rvu3RItqGwg3/yYCUHACCu0Ko7\n",
       "KXJBEsuJZKR7JdqvOhkLILiQ3aQIQtf1en6vCferFVHGAJbPYTzA63v8DDXZXhE5krT/G0GngQoq\n",
       "k3liQxAaQiPHI0yZt7P6ml40mkuUhyom14Qd9r45B+2eLR4ABaxFOC57GbTCmI9wuTcrc05J5fTE\n",
       "oFpIiFR+0bH242tTsCYbzK+RQrYKwVjb4F24vYhdHx2Qu0sw3yz0Wp85YU5Igl5pn3FTZwYB/UPX\n",
       "/goy+dSNsdjxaI2n6ClV94XL75WSq9HDubfhm20mfS+yiY/O3NRVQ/ubiiNRnKPCo21ngQ9VUiWA\n",
       "obQ9xNAl0IzQ+GpN15SgmoDBAXb9xDxpTl5lAhKmy8V/5Nfkkio4/bWIsucG9Iok/vFeN+K0yMho\n",
       "WK9kiaMiHXAxWP3gYjOr0euNJImI2Z198iCEI54RiGgVvk5gA/rGpYhXXlMehldhGWbMCx5wY4Dy\n",
       "KmotUCSSi9LsN6TjI7+zm3c2qHLf6vPt4R+7GM5L/SH40rMXNvj5mMunWpibJFlsVLdcLXcTlUJ/\n",
       "LTch1DFJTHZ/iLbg5Z6S9jZOnjDkpeIqogEZQpVIAct15zOvTQ3wyslKGnQieXBEOvjz2uEHGJ7h\n",
       "JiX5tGahybYZhSr73qgiJQ6IImObIB2XT/Czoaak0OPkWeDBmSm00nKilCkBgUmMx51w1DW3I+qa\n",
       "5Y1UBOxs4fj45WSw8EVBGSf1v8Ee2oBWbJ07jr21QKPPu45ZIlzALlvAVdoEQ2Zi0rlOMbZIjMLc\n",
       "gOuZTcXTvav9OL0bPnGh78BNaubBJ+MMPFJRSfsYqHifNjwEMGXt/RHsplO1wbxPrcXfiUtyf78e\n",
       "NEEh1/7iToJskruMAoTCpa3O/6sN0EqsfCOV1T9k8ye9L9UDlDBSMNUe7ee+qn6OZjGjShAsnylu\n",
       "m1CiCk54EmmrkrH974HKt1YHgEP1vIXY/9BSKrSLfW2FJraEWhf1oIe4w6VVFJcF7UQBMNwxs1FS\n",
       "7cFOKJyJFuD1JMH/iqNm6PkpRLUrvfP/di6HNCNaLLrO6CjJetCh9tsEfyvRKn7MmZiCVU7Gyv0n\n",
       "yP89mjOUbhw6kgsFRKzIu3QzAjDF2lL6DA1Q9tdEoxQfbdykM2MPpVJIOainVCZ8INyq7dxYEgDt\n",
       "KlL2g/pONSNYaSHSjPF3p6HK/iSLKPPP0wtyp53xgmCYTyGpCwMlczFLL/PJ/IBBOaJalD/HkE9D\n",
       "VbE0/NUzSqLdXuThRJpRMFzVvwCLOHaVZ++2DYh7PAEXZRt3pQxl9ZJgPW9+91qQA/C/+exJuoST\n",
       "xACTKcbOAVHtO+Skf8WjsyY8TiQn3KWK3xTj3QEFT+9I3o4AM19h2LQ+RLV0TwH/OUDVfQ4o6btz\n",
       "888isb9dYMZD5BuNvEKavCRNmKwiI6EN2IR32oVKYL4DJBzNwtJRKyXOOTuOdrZORxqACZ6cdN/s\n",
       "VOJBWJIjvtZniZrU3LkGStbtuxKjS8jN8ClFXkun4sJvDpenA9S0JgF6sRuOEuMARZVhlPgSUiJF\n",
       "Any3ae1I2w+aU50uE4LDHGM5G7Sgi8PORrJKIIaYOJfNet/5Mxt8DDVigMN6Ly/RPB19oblRKyHN\n",
       "Rs45LTPTgmPN7iMO1wCY2yamsEY99hN5XQgtH/VUBzmuUTWTMMxsn4TGYeOYgn7jGBeNoaZ1AAAE\n",
       "C0GaIWxBD/6qWVm3hpYACE7T4nG0ICJG/ggvgE/biRxh6SDNUlrA82F9/WNKBvPxKhkgjdS/+2Uj\n",
       "/lwJdMzPFyA2s37ts4I1dQ6LWhay1lYFX7uEdDipcPM6IpRbTKyxOKSPlU35XP6vHDArPIWwWVyZ\n",
       "yq624oO9nMWmceC66CjhvnffuGcbvZpOj+cSImLFQo0XrBLSWyf4jtRCECa3lnH3Zgwgo7lAByIC\n",
       "eMuPjWd1dp8hfXftWyQ4erTnmh+aB4GrANEPhgKQvnYHYxji9k1BYU+IZakRsaVND9EExHGzqJoR\n",
       "X15HIhrLjrp4g8d0nhHtk8QhmT1NUlJbtpppYhmvuKBETEZKU0P15CUsVJl6J1cAVXPKkj3IQc5R\n",
       "yfBHNJo7fSP+f4PdgBai5MohsVsyICB+QiW+XEB6nnmvATu00vQB5fAI0SEB7e0P0qJ6mYfHknW+\n",
       "wFl1YNqkobcbaIrSqWKjODiEmp8ONvtc1Ue26tSR0Vj5gkloNkKZrbtaSnNu/JT98XES3zgydXde\n",
       "8gev1jLj1wh7m0AYL7CzYNODm7sFvsmc8NA1uyUxox5FElSt5kgKaMCoCjjMLl83govw3gkogSAM\n",
       "5OD3bo7WQXGfi1JY4acUl4xUxkNmjVsjy7fLhOm+WkMN0f8ZL9FQaALXPqRrem3RcwRGrtwNs4Ku\n",
       "4WZLrB4UXoQUiJbo1f+FtiXW5B6fGIyQEUFoucJP/17qSOIVfyuUbBWl9f9e97brAjUwo+xEOuLr\n",
       "Tiz+jQQLib/vuzqSOJq1zjxCQW+muSlYwoLstaW/Fssf0yQn3zIF1NjPA8fbQ8yb0mn61vOcCCut\n",
       "KFqLKTAsx7iuSYkTsqAnHAdsFR8vCSrkXmJ+84LWWPI4mEDJnSB6DZf2zyJbRePAz3rZwzSB2RN3\n",
       "9Qmuenf/+/2+UEBwLQ0LhpR1U+Jpitbb7EIQxLBTwI1Z+LDtqJqKsLvss+ES5kNHXCV1uR6rnFxB\n",
       "IjXI6QBGAIARcyQHBfhjvvAIFKJURw373lBZP2f4DF4UXhwI0fIgehGjcTyD/OPegeOJIvC6epdF\n",
       "PDK21s40/4PVpYDaXpxjCc8I5qXLfTuILM7o5/oEdzKU+2YxvqDfmp2PJDROddA0mlxSEGtPh+j4\n",
       "K/69L5o2iaAOhdqwblUGfLtj+kTzSxa3KfY/oSbU4QttKPt6yXaYFz3jf2fz7pPsBoAUzK1mLCAq\n",
       "zwvgE9RiJxLItVQ2u7BUCR5tVjvNPYW0HWHUDGvQ14zLEKS0bjrfXCpIGX/tgRYdfKR4bEIWPLYZ\n",
       "WbqwyxBTD6ZPMl8C53cTTtjfN0zvE+hb2+9hSlRHsWHALojGXSnR26WbZAuBVAExVjay8oi4nqyl\n",
       "46Hw/GL9KAXnQAAAAxRBmkI8IZMphBD//qpZESQfvfFgAITcke9RQvH110d9wDbfqMlm89kbkWdP\n",
       "TgtVzjAqIz6KpckJAsD3mxTPzLiYhEBuuI1rZHeN8PQBQfmoXvakYvRxb1L2NgpT1EjcvC5VpIa4\n",
       "uGXo7UPPqBXaNd8r4Fi7FzPZbE5hQZ3eNxlF7yYSImuFTb292TLP3OmPh9R6fZx9ZBEus4enV5FN\n",
       "/yyvjzC90hql+55H+BNOdbmZNO7GB5hPIr9LGOgiUiRsDFzg752AyID+V27+ex9Md+scP/dhe9J3\n",
       "SLy7+sxO8YaKxVjmiMJ7JQ9yc7+/qcm3GnWj9n5zSk1RLncTJUWQOQWG/kurRauima8nUFex930P\n",
       "BzHcrwbomAyqUOHeq6qxJsPKMXW42DyPMzelz0ytElsi1L1HpC1hLNaoPjr/PDB58r508LhiKY1P\n",
       "gIhfGHyvxOYnrLRDYyJRI0tCOyDnYJEcErv2Au43ls0YEnNubst+k+N4VyiOn1Tkn0MJdreRs0+8\n",
       "4wKhVHScZovr0aq3qlrK77sel/jBWgc69P6bXU53lsGhAUkEgeGlXhiyN2yzxB++OURUC7N3s0TV\n",
       "tRii/E3Fe/J6DH9UvciCc+H/JE51g/XRGecNPBqZw2plu+rfmYqQ8pYhaO9BV7Aa9+Syp4BC2CMb\n",
       "K1a+prpAydvQkeiCwj4VFHY+iQvfAw3quGNsyRPiw+B6JOg8iqWf0PLcZfw2eM5NQRGZvyHc9CCR\n",
       "0X15aUVTQ+XAXqjgh5zJAJ+PqrDcU8clQ74fIlJK+C/fr0TccGU4rgte3E0Ca0IKmfnrU0116hCG\n",
       "8n+NYcBDJMByqpV1a/WSNZK9R+Ec8QFhDl+OWSPCYMB5hlPEA04/MTTyYhqD4JUIWCIQVcTRORRS\n",
       "AAADADAFT3nBwqWJr3QeQRDAYciM9d772oX+WTduyWLA1o30jiEaK2xww17GOwJg5J2baMvciQnV\n",
       "SSSrKgsYMgse8/SEflJMSTrkBdg/hKcsH7/EgoBqVCOls8yl/tQLgEvqrN9oLc+WI4vd1+aukxdL\n",
       "V9u/EQAAA9lBmmRJ4Q8mUwU8EP/+qllE7/igAQmmI7V1edYar3zaCE11Mkg0CFFxLF92JZywa/k3\n",
       "BbW5+ucWolMmDuak0yTsEHgLFM5K0iG1q5FdnVp8toemHRNETjKhlMUfr8DwKQdJUqO7TqceylJz\n",
       "4KcZCuUv+IFILw9cJ8mVeJuXZRJxu9cBwqvuaWbnxCuX0OTGwe1aCfORiKTMz2LuZdrqsUfVo0Ju\n",
       "EEzAT7yvvk6de9LeCPVHkNqbvMUwIFEkyv7zQ4tL6yZ4aecCi5uXGGk2/Rgaf2Bg0ZplMXCyYfVQ\n",
       "ib1ntOHyfIktHJY6H2kG0xrJw4Kp0Cf4YJeUV81w8CihaC9s2kWFQfuMo4ZpwRrBYw34owfWD1t7\n",
       "GZiJfssKF0vBnW2Wec0aA5cV0F9gvFr+um09IjmcxZiylx2BLH7MtDdGu9T2dFk2mo4lAAIGbM2v\n",
       "MdCQ6xRldTJ7xbGXlgwyO6+iLHa5ZweFI6tzIadnG0BvsC7Kxm7PIE4hzsZurniWsillwvbasog1\n",
       "gkoBWABYoePsiiY+RZ/ZcVaZPEjibUM+WhbQhCCNHtQ2WFELM6+/KzdKxcTaCNx2Mh8Cig7EJr44\n",
       "h3cEGNuHDanonmljvPM4AwD4xilePb2xHR2GZmAhyniaZ3SI/v2CzL98e+uyblIF3AC2kfH84rbA\n",
       "bg3X1yPrNGCmoFuDHJbmB0omA4kVZ+Y31BMk4ecGogWu1b5kTSWAtG9tzQqod/svpjtKfoO8/jyc\n",
       "5/lviXg755JsrDiUFAgmXMd/wAPnJaEpdM97+QOrrVGw37jOCXvLEHlEKkK1GjYtGIFGrnZ3OuAw\n",
       "ktDY3bnuNXuJYs/x70H3Su9p5kIVYcvtlaRFxYCxWgDx2QZgt7caChUWp4Z1flywAkLuHBlQZJ0t\n",
       "0FBVfcZ52LoIiWkH5zmNZ/ah7bebMdmywkCheqVDHBXX2dLusi1/0+xXRlez+atbWUtFvlZY4FmA\n",
       "v8oD/K9sORde+ztHFcHp1RaCRNcD5nM4Rmwgc1iL59q9A79LiL2rGcgMzkM59yYQVce0OYneqDXS\n",
       "LnlBDNJZbbDxfPeIAEzitLaJBW+bmNS5ALR1WFtGenDrGVHy/rFZChGtGvoc0+7aBc0j+4D7poFe\n",
       "4hjo8x9T3CGCPKVgKk4MhhUPs/ewNpoD7OCldUbtqzsfAnEw85zYAPlgVdq9pHDlmfU+QQL4FV+b\n",
       "62qZq1HuTwkaC5qUWmFKFRhRYt3AHR5nNXL2y7I9x9vrCdXLYY9msuNST7EBy5M5Y370Y9bilJir\n",
       "oIrfZKN6OFSAJxbBR5ZhazxRp1rHYSo+AAABKgGeg2pDfwej1XkB9rvFQAZs4RMrGdlSjPLu0L/L\n",
       "QLISZkKyeHVJ8H3IWCzXkGuhtAebxZS1ZhP/ZdDY70+VuTYwPWPGpYhLA+aFTu9Ao/3bsph61brO\n",
       "znG2p7eL1DQYzqQD3bdqQ2FA6heR+k2ZM2y8nZtI4spC2RCa/N7QAEJinLOuDtJXpz85ng4wlw69\n",
       "15rkmQY28SgcgsE3u8jlPb9ytSriltcIXn7tQL1DTnJF7rvQe+sUtsuP1beZfvKPY3OTfb4Gg+gz\n",
       "rZXwYG+vtFzIfId70reMMAsnwIq7KTDaMhwbnf9I/6ht6EewPLp0qTHlLGLhpNsteFqWjzPm+xrE\n",
       "TQf6UGwlf046AzwdJud96u+Sud27mkC85gQI+Nl9wa1/h6BGL00Ma2EAAAJzQZqFSeEPJlMCCH/+\n",
       "qlkROzykdCwAEJsQhnLGgtuorOMq7YsMhOTmHpdzCCOti7DS4k6Ubo8Kx/rEp/piBluIpUgakv9c\n",
       "AtHMCac7AWPdz7PlAnlp3koPKLw1WCsFlFbl4vieAnp/Wrp958O63ibcIk/LuZSPhzCS5p3Hs77Y\n",
       "SrFNElVHoobWtSRxpe/9GQwtInyCYXIWy7ooIcYoi7eS2dgsBLLOgJE0D+wTYm1/C3sS4vl43QXJ\n",
       "hqJvVknrqPmUtxkcbNROZ85qpbm7Fl0QNNsLhePgCUe6GoBmblTiiOsNnt8Y1E/he8UzAe0E0gRM\n",
       "2TSiuz40MVJMXT6BDJTPKnyEyG+qijCUh2dzkHKwl7RRz3++bPSSphKr8KyaS6D19GsJYY7hMWTm\n",
       "ikp5YlDvtCEpp3nwbKt/4ENfYmbhrg7Ln3HwXQJ8T5CMZUAxDE/7oFajFHSqGLsEYodg5yE+BrSM\n",
       "Hx2umH079itSIBQguzcjD2m5i9wAI9bRtIijcj9Hv9WzZkRIGvBv0esxw3vdNeaAOKsGyYltibck\n",
       "s33NVR/FG1+90NyToJOabcq5y9XMfj/GKw/Tmzj4C1p9VrJI+TPipWBZMFGJ0QlV37F7ITCncAQl\n",
       "j9n1B8/SMh7yB0Z6oWNqX+9TU82Mnn2oXLnkQStE3uOnGr3XccjX89GaADckIHN+eK2c0d8zUIF+\n",
       "ZhzpVUHE5+wnxatrJUeNrhR6dQgynoaPfUmkdhoEzWuJioevhu1LwLd60+0jZ3+ybrJD+0mjefIt\n",
       "R6PfBgebXqyw2h5Z3FzjbyfGUtt0tM3nNaXmlvUahYPwlmQ7gGNC9kaF9NKRAAADZ0Gap0nhDyZT\n",
       "BRE8EP/+qlkP5aaT84KACHNiBrR3IakiCfNUX8dqjhr0UyK1MGmMupojQxEPbjIxtP74xk4wzBxH\n",
       "9N1AvkA1/IXo0kOFKabCPfVrUSHMYnP6s9xMhfHjEXfjn/OgQVgiwdsBX7jivxLtZuMulHHbE5DZ\n",
       "l9RTN1FBdqjDWHkEhCH7x3tBC0QNLfP63F1BADQkE77MAiVOcEtzuo8fRaqPm+dirTjusyt/CFCt\n",
       "71fSkRP7rjQm2IJnCv/nWTG57JKet51wPwRz85aHy2MuU5e3IqrTmrtbIjZHvuzO8ffy5zHhNg5l\n",
       "i+ftp+FjBJ3QWl0zDP3iAkOC/3ScSNtrsvpVkZwJxypDKvjUQxexfbleMtaxPbGObP4uWhueb4Gg\n",
       "8ezGfhvRoJPKjIdSEBXdSj7aJEbQePUWIsfW6Dtlo8cKUeya5CPYNCGbjkhmNLI9ScMHcAv32dKQ\n",
       "4ANXIvz/6O/dZPEgc/EfjADtGjbXESZGdCKSJbcS/MokCGq4ACPEzlRb5x6QoOYKao+OtSeOeC24\n",
       "Eyuh0Z1TWUf0gfc9UmWvqSrOZ2lT9qFcAD6x0nZ0syagSbsIcaPuzjq6QsR1tQsTuC2OqqvjaeDZ\n",
       "ANDcGTI6C9uCtLUlqh+FtByLGvhB6aHAqXgRpWDd5TyzR0NStFWaLdfBJa6T2uFbmKQDPNj39ekQ\n",
       "ectUPWwavAK2mCzSnhUcLSo2iJILTVWoL8WClQmiikITikUBXjjILBIbsI0wEcHfj7zCbaBfn0e6\n",
       "EBb8XntIFORCLPbR+ezVhDryxpH3JaGu5lrMCBgI2nhyyByLBOiyGiG8hyg7hbzn/pYcfc8beh+K\n",
       "BhQPEIpCshwg2fsrZPtj4DiP4aWYvrv++QkZF6IYSfr9a6amV9YKCLLUmwq6MuKfNdfj06C4kq6s\n",
       "7a6v6wb5EDLRpZVZxV3OHW4jNgHDrFq1akVOUvUf1QFInfA7GjNpOv0rX+HU6mQPtipZwjbaHW/F\n",
       "t/GU6MOdhClYlibN3iLEgIaZ1u/pDKmq0sfvgFU4nZbggABTmTgpkTbabhzwJdaY4X5Cmog6/hvb\n",
       "+TYjyaasBTJu36vFuGOdLqMrrTSKu+yLcVg7nhnpc0T3MB+YvtChKyKM5XKtWgwImhNLwd//rd9z\n",
       "tlm8+stA3jkAAAEyAZ7GakN/B6ozoABD8W1r9rCg6054YFFhXGtyfpFoEm8ozqkjs0UBoT10exO+\n",
       "I3ojQxXwCjvOtilk/WnouQI/gS8BNi9Tq24Hzs5yaOkmN5Fb4sc1EkdmbEOrNC2WS/g9WfRJ4oPY\n",
       "upXcYzLidYG6R4bYlT+N7MwZp8/Y2d/TEm3t6pV68/fIBDS/qKfFXaWIvO/CKmsFtM557Ug1P27c\n",
       "e0Tv4mvGPqx4PpyyCjmgq4tYYbDb7oWnbx/E1LUf53Cnqh77H8g7g7N3KxPihyvmp+3hNM+rQpIA\n",
       "w15b2ZeXtgi7rje8OT6c5nNNotHUTSvZf9Faej2bjKibwZN4lvBHvn0npYH69qwmm8d4ehqBTMRH\n",
       "10DoPL5Fths6Y+ejH/UVOVdNa4h5uvZPzZlBD8ceLaFjAAAEbEGayUnhDyZTBTw///6poCCGMAF8\n",
       "P8b00KjBmg56EOrm4EKlJGB7ElPX0HC5GJKpfERR+1tfbQDq9i3byLGBH8dAkPfZHAgGaVqiua2J\n",
       "vc2Fl3zuwV/3kU/e+y/P5alJLVj19oqzY951RWsUp1RGhNLx6IoUYxDFfexWW3doadtbntWkTpUg\n",
       "FXOhm4D+c9Vo59LG933Scd1o6oPM8rGMiJ7bvBxqrrOWb/de8wJhIqr35lpQ8TIe4ZLAoBkL51TI\n",
       "kExc7MkGOuJZQsQkwBn8geQ77jkaQYDV5O1VXaJAzoWjzFoNorSuzypbF1rIwtReYaEpX1n67Iez\n",
       "v/aJ/Ep31nz+eskeNGtGIVz9RWZ20H+8o+qObQV4Ni8lqmbDcOPjZ8otHsHJNrKL12yox30kGTrA\n",
       "gDePEKADpniysyiWaBacexjFT5JbiKF1kkVmqfl/Ins7SPfzOtBFDOAPPeTjYW5HncaY6c8VgA9H\n",
       "TYIi4RNLQDrVf0kOAIyGnlcMOTdzhe82/CZeU/X3GkXHortpN4GKRelR8tZAHVVDc/AdPDkmTmHZ\n",
       "eNlV0lPKBfa0f2G7ac/Md6rScaXk0SRL585hldlCjvrxEmXb3jYtxFtzrFDsqId7K8uSn6rk7fjR\n",
       "VVABPNQCAusuubr/kZkEhmcl6i75ZPN9JZwAUB832B7fRZCN67P+u9HDay/wcYPxb4RRokfavXhm\n",
       "hKPo0ISsgvQoFFCxd0s47OoT4mI4HJAutokhdTai/f/K5kK4GEKtiY2B/QGa4qI61k9K3W4gjvtv\n",
       "BjgTK8nr1FL6nHO2PX8fNXKlB9uRh8BLtk9tExnHJnhA9M8aYeGOpvzEWnXQwFjJgv6em2BVPGE9\n",
       "K3uodIcRabws55w2j+LjOJA3w7eUf0ReKqTYmnbf9GgMY+wxPrpfuWahWzBcu37wLZFJmDillPNN\n",
       "hGC0AiPFsNkSy1VgzhGoeXaDvtB8t1UR/4QmP1DcJHKGUTbhg9nw9/x+bnhgDrJPY1ScIBDPMud/\n",
       "sYjbnssoopZ4XKuJbzorZnAc7gBIvSlG9bLzrfUb2meiiuuPrkPnG5XP/m3vQcQj9l1nh1smn1Pa\n",
       "IqMmnKW2PkIQ+h3MPS3nIbybddrqPtwdBvVE/Z/4o3kB3+2ojTU+aqo5d59TSdHL41XE6ZHHha/f\n",
       "IUj4w4gJ+UnAVpM45851QNgJ9RRi86GcLCkfRrVjOC7H5AaTh00Xr4L9cjDz2zkbTo0z+dqHmbw4\n",
       "M2nzjOAls8XWDVLjb57KugMb4zZ2eCVoGsEVpnsDP1zuuObjkcfXp6HrCaZcoolszzqGA3CbLHnA\n",
       "hST5E2vab6TTPsYyfW4evkwk7RReUTM4sqp9tp25SKsLDMo9uwoW//DsDkgltyf7F5w61Yi3zpyq\n",
       "SzsGYoIUTLQ3uTIl7WtjSrQI/HdYGsV8ClsbHw3M47O8pzrGSPIRMvfuc6jyufL3MFP5cCuZ8v1f\n",
       "HXsX5f74HA7kTo021/WJuq2uQZU3gInsYK9RS4QAAAGrAZ7oakN/B6REL2E8VABm1I4NQPsEoLZW\n",
       "vLRkpdRALmH19j9cEJEgHlSjzuJAw2iYG+5NXP/KC6z1FbYBMjmCOTzIyqxWafMd9+5H5PNH0RWG\n",
       "uvEesxsoJJLzx8mYiAO4SUTc6RuC68enViCEVJhpp9MeoBmfcKR1VybCwNhv+3t5Nn2b7dSgMMIT\n",
       "WAnUeDhyQQ77DFOlJyGXlMtAH0hmaxLWqkhyh5KcRn+mBsdXYPKmM6EHaWx9fv9rX47iPOR+mC55\n",
       "Ss1UpJRRQlxACyWdflwijaXGGGMywLoOy088K9PCsAC89ms1kAjoaRibGmndJ8BFW0OlRGzKB1ym\n",
       "XyHJYTGAAG58tRDiK8mr0gcnZlQdYneqPjV49C6mJTMIRzEn7Z4cSSg6iTXMcqL4wLpntktxdczO\n",
       "gwt8qa6P2bmxOz6ZpCpdheLs5I3FuDumJKwdtkpQGI5znrZdHd6DMwnHLOuW7Ffm3fp9C2S6Hwt3\n",
       "yEQ2GHf4j6DPUTXubf48s+b7dfcdzYAb7PLyIK6yVdk/0N6SbdixnQbQ0/mBNvIIH01INSct26ZN\n",
       "Nsm2HgAAAxVBmupJ4Q8mUwIf//6poNdcc8tUIAIftUUvnKPzn6u6Fe/JJ/vpy9BWPG1VzH/kGINw\n",
       "Br/pmI5kbhMI5MXsxN/AV9zQTigi6II06VstA+HwV9x8BsiTUUwTpKWTMTeuMR/tRX0G3Hu6fBEk\n",
       "wZDMJz7tfSH2mJvndVswf4Bxs8D/ztl+ODHBDGG9lDm0Wc5aDphnq3udm2E9NLJh3RJzVCo7eVJ3\n",
       "MBS56EUC0pydxb+AyeaGVKCAiRjSginoP6om8Jt+WLy3xfx2sHWnDsmji8rUtiWZUxel6+H8rRrB\n",
       "y2vCfPlvArvfBnpnV76MuGPUxFIbntgMnHH+2fYkdA1bOICEHmEsPL5hXDlGJCf3NvrXMIiDfAIO\n",
       "Aq9qQ0G4vi4fbTjZ5emLOwCcFVWUP3XRPuOJUWUqGb3YRalLtM487TM2eykLpXUbxCKW4UP/Zh1e\n",
       "Hx9ULVcVx4vk1hw6Yd0QYI3xBedIHdZc7a3YVT5WxOr8o+T/xTAxLpgqOzDcygoD6UpVQNypKkrc\n",
       "HpdKsoXq7XY/gOtJ0/sxKmdNBBzslt6PLi0Xhvbjl/6B3KKI4EDLzh9Y5SZkzRs/CXmBPfV3P/19\n",
       "HrtmDgYs7TFlhW8st/Fa1WGHAKairJBQCVnnnMx9t0DZPAhMSp1onM3QM2W2dNwbBTcd/9tk7ShI\n",
       "5IwokK7ZcFiDgtJgoAfZJDSljWrQP9hUW4hxehHZBroYyJICDnr7dYI8Bp5oXLKtVUaveyiOzqxU\n",
       "t9yYXNVRuZznJXSPs9BXAgHJX+USDBOGqWrz/xUCuNUyaw0ZBsQ+3zNKEfMyAoPXz3hJIVQq+9fQ\n",
       "lcrXLpEbcnSUBqh0GWzqGSpNNJnY0jpGWZrLASxcGPBsX0ENFiYP6GIOYTpGCnIqST0UX2Q96mhl\n",
       "B7mV2HNCFRjZJK1QVwgoUcd4zlxx38kIza+XURPhXWa2vs1owKt32UrGxqLGZ51HR0aFbue+qhdO\n",
       "CTQgUqsAvSyVImn/q36LGg/Ma92CTVrAYaoA2GA+rOFR8ZrBRBtnpjZy1hygMORrlkKEmSLzQ4EA\n",
       "AAMPQZsLSeEPJlMCH//+qaBSRzLIwAfwhJAADDbPr9j5Puvqkf2dmFoDoS3kiaNsuVO0PgGvs+Vq\n",
       "HSvtjmjf9PppliHNOW4pJVEWdG9n8nL2tELoHJT/dne0Qm30w6f3CdK0VthbG33HdBzQYsWsB2eI\n",
       "U0TgXi6z6hZkCxzutLlR5BgsxEY/LtwlHpuxQcInmQ4m+ye0aEM/jP+rm0eF0UGFPVdcefnkWY4X\n",
       "SqC7dfBnmywIfAnCjZYDINkuATmvEyPvLQEe8xBJUCASKqbr6XUd9ehHGEUAP+UZiI9WV5ZkiA6C\n",
       "jo8sYIkBrEnoKvFfTESE821VGoSiE5ZRLfgFKsiOiy+9JI2hkEt2GWB3ll/fILhzNx/9XGA9xFaX\n",
       "lRKLpOX/npjEdzTIblEeJacX122FuqvEDCz4E27t/Z+xmDe4SvizEKd0uWZg2CdHVf2QbEjXjhEC\n",
       "bRVspHT9AkdQ8Uf8HB7R1fiPJvPmckGmnQ9zJ+4IGZ6PLw/tGxW+6fM67gg6tuntGm52Jh6f4hI3\n",
       "FBWIUf1J34XWhSO2UdttN2ES/UXsbw6oNJGHJ/YGHLkyxlBTlmtO+jzaXezHmtX/vmxiNxlC19ac\n",
       "/RUTPs3FWSrux6Y7a/4FCaj10jXr8gaDoRQComM89yMtWBw3VN+VZSAY+JjJ7QNM9Vb72dWPYmJ4\n",
       "DvUNdHZ7IWvs4PIxpTmbF/qYWCh73daXRywF9neHOGGB9dtFfAuNCAKll/cxTE/vWkn8Ex8XIsfo\n",
       "RolEADHf77/JTTvZxzShEBBT8ywjiFOgpK0dUqnpS/RRVcZt74JMH9Wkxz8RJGWfa12fn0Sc8nDM\n",
       "ELFJYUJW6iPMxONvRmoQNKlkRwKAybUKYCCrAmywXUryzDxLIujOWlAJfb+KRId37jmI/7EfHe7k\n",
       "10VC27QwiiT9Y2ewjStlIMp/sTjnTgFjUmRBy4YrFLrtSO0J6y28coZWz3hfPUM9venRmcDvNO7v\n",
       "ITEyTclJMPNIh0UFyzp/NBDNO3DIxeSw2ENyV17hMGkUEPhur/hKribdbXiAAAAC9EGbLEnhDyZT\n",
       "Ah///qmf631qEylgA/hCDseetmVOARum0ANFKfF9simuyzHCrqng7NCqn5Z+6kuQmij2PLtohTmo\n",
       "AV9DxAug7rZkyuHeaOsv8MBAkVPvdtmWfqMdGs2a0ZdbcNa+2fFsJVrbg053iEJFSe7qDIHfJGc1\n",
       "hBGdbyp+i8FsQG7zveF9QGsvL9EunKjimk0DL58MA9wAC4FWKlIs1EyZV/iuWlzCCaPGiXVdfRQa\n",
       "Jkel3k+U8ACNYIVhXPVUdh8NkaefPNLEOxAsfjdrcgun3ty9vwdiCLmcZxC/wSnmOCd59BkaU5KW\n",
       "m2jGwD2s8+jDjHmKbqvzrL6k00Aa6q1m+Ckf+O47ZOAH1Svnyl7e3YpRBSsMx41JN35neBWB6zF3\n",
       "YnP6DC6Q91zzSvRkhozLmH2IiI/6lym5s3Momcvp5BfDyqPMN6FtbT6F1rjGAbgnxqaLOIXMuxgO\n",
       "Iykjz9VvcKzsmYNe1roHtcWz9971/kxiiHEY372SGoXFcAGezPSn8D5R9G9kP3XZ5rxVNWx+FSra\n",
       "wuAywT1VCDAgS0ojdzpALw8fIM2i/ZrY2ZYEYF/6NmPg6DHO2YS3rJEWeDg9+fb6MbXsshvgSuXI\n",
       "1Lrj7WyE23ro5vBU5D/m/MS5HMawuNvk5x5KHqQhYSlm3fo8VybL1lZqtrSgBLQUTdsBSDVTqhub\n",
       "EhumDQe7hZSBFbjOfyYqDraA7w4VL5+ODAhhrFVcunP/UmdeXuK/xAD7sSWpHqiPJxU2CiNDZ5hb\n",
       "/G9zz6zMo624tZbUYFfsV3pTrz4UfsWb+XL9/iGhCNPf9KJR9cqPwXgovFU8+AO9mTLNyHqccmFx\n",
       "S2FmEuP8rg2AFJvS3ASeEoo4Gy483nYJKuu6qkFUEYsRKsne2qoZMHv5oJyR/HafgoCZDjyb7qUN\n",
       "pKb6VB9D/gqhJQBOAKEURh13UFbKciN/BuDDi8GEgoalwrYFK63HX71NV4f8rqkYp5Dzgm5ZQE21\n",
       "XEGnF+95lAAAAv9Bm01J4Q8mUwIf//6poBFDQAQ7thCecN8RohITr3da7dKzHRfdHYD94urG9yrb\n",
       "oufn8PzgOpqEXr6jbsBcVbG5lVCKe3/U+q71TvVLNPdcXKuefDVeaClP22i2Qe9BytOSu1z4eZRY\n",
       "veSWaPGPJyKzsgL2PYSbPrJX7C+Mc/K7cr9GukgKPrAowcSYSOXVcx6E18hgCnLUXnGTpvgB4PGg\n",
       "8MPiTyODQXVvIgCYHiY6IuPFMrr14BFh/OsBg/FvblV8LbKnzqmm067qk7grMhRPLRi+CMmfFws4\n",
       "2OrAw/ur5hI/NomKip8LtFNfQS9lk1tjYAYtZE0bNsl357Q5vzhegcIAZr67P+PkJXkJWzngMUY0\n",
       "/M+sB9+y1d8vQwdTSEjyVcGY3DpC6qb4IOTBFGudioWW5fXbBIRladktdCdgyqtZ0ODExcwKlteh\n",
       "TWH7Obf09RYlTUU8nIEoWOk3eGTiYvnst4rreYkasXqTV4w9NawFJ9ywpmrvHM01GC6psym1LAh2\n",
       "Jh0VaCQSoFC2aWDkhT+M78oMRdXoKT/Ug8mdis9K6gxMqNvZ67YGPv7Swn4ZLzxWdKVx6WEvepEc\n",
       "9oqsUvnEuNpmcd3gYxbi2DBZWIPdt+0hX6Mgs2lgcRQWFrWF3ouwJaqflvas2KwP5uG6/qu+OmQ5\n",
       "kS/SkdBk9nYlFQWafFNNCY1+PxNxx1wHDqWNZ7uQSgUSEPVZdpxGfF8LoTuyqfmVzAphjk+32aHl\n",
       "NpaoGiAeJZXcmjt7E+IgvpqHf5DZmuxMsu+GO0LTyNRiKbyR0c8BLps+XIN+TZEMYFS/ChZkg4te\n",
       "3VE0LBj31MxlIjZYK6F73mFQ0/w3oBTaKGxEBkhR8ll/YqupL8ZkUArRcfyz98oGnk+XrepH/OWB\n",
       "p892fdYBiMWq+YFBjK0KleSwu9T/RNGevNDBP8Fs4ggUFD5p9Uslru4PZARiXLAFu/GXxNI6atD0\n",
       "OcAjDaRx38t0QMs4lHOArd93aIDG90HZQ3F0G6ZDQHdbxLx7IQAAAylBm25J4Q8mUwIf//6pn+tp\n",
       "AjzfgAhDT+UG9wWXAjEx+ujZ4jIauEB7VN/jAt90p2eUE3XM/oC7H7A9AFVl6ZyWgYIVvYvE2ekN\n",
       "6aqGSvMHDF/M13ze2ofhxBW9HEmIKQH72Y4RLzK8HPNutkA08ldxOyhmz8RFJmjk/ahr+/qDvSU5\n",
       "eWerUWeRnzBcXvd9tJtPowKuEbSk3dUZ96Ta80Z8hMQrWqLwaNW3SeOQMk4uVVQzLAoL4OVNCBOT\n",
       "lrujdEgc8c1hDaTyhxxVrAQg2AdZT73pvPdGVeZ+dikwU9jD8vsB0g+RM4YwLc8w5DQ1qNF2rAGj\n",
       "EYr7sj76OpFS06IgdZLpkYHoTHgGuLahrZzjmL6SosFVrGUk7J+HLK7I/PzMJFC0Lux2ym1EmA6E\n",
       "VzQ9hGD1kARu7y5QwRpZPjyGDjPUsAH4Z6nh2VVs5oou8K9Fdg31OD0blzYyy+RB9D4EnrulR9Sw\n",
       "6d2NeaW4ZvRSZxXZSNO5AwmtuJjlvDdl3Ea2Ir3SusssPZb8bHZnprkthZLZwpsm5MGNaX7yVJHg\n",
       "rcfr541d4n59LLLBKvQfpgvHwch3Dp80woSjThsBs/BSGiKL/dsG8wiABjIuW8WokrPajldwagkE\n",
       "H0+PF2nEasT7URUemut0K6GNUSY7fZRStly+j0ZShlT8jZA4te2qq4mq6aHqqF7TS2vC3VW7HlqL\n",
       "/DNY4LFUNlXci5PLCyZAHLnucek0zpgGYK1J9Tb2hgh0HB6vYw6PjsuC4MzAEFFP+d7I/i6beKDe\n",
       "CLhKC4D//DLl1FaRXfn1L254q87EpTxpNCgttVPruCPEwriAsyq8Tgm1pxS75PMrpGB0NyyKZr7l\n",
       "3OhxsjAcd/Hnfear2dzxvn817JVWpT3CiubUDbZGMPaYueGHUawM31hltdLkmjhxsgSng4hzaekb\n",
       "GK4qSsjJ0wiM0tx4b5dS9M9he4ZVsPi4YxAqtF/rmyDIqle/rz6rbSIt/yDZiUrk/xb3+x3IbeZQ\n",
       "u9jdpeI/hZpCFYqsDjzMFARS973Y4ogoqRodPg4TfquxFhssqUB/NmoKkKk5YnqhoGpHSQAAApdB\n",
       "m49J4Q8mUwIf//6poCCGMAH8IiXU4InMlaPE2UZvW5j04FgogZUGK9MiNaBtuZBLlvLdFZhZRcsl\n",
       "jzKY+0P2Nag223Ws9Hx0gGusDkMjHXF/PT4eYn60uMcX5XekdOfpvj+B/R2Za9SzecMYOkp/rZ0o\n",
       "uKKfXn+2E/DwDNy/oDGh+uzH1AYEYtUhalwBkr4/IvCO0pRsDjM442DYfNCVCAd5HoXIBpNPRmmw\n",
       "q6l3itYfOAtebtNk6x9ATopYwUrhL24aXq/3IJnq7r5ZP0S0QkUmljDFZqSo6dA27xYNP6NZ8NrS\n",
       "2KyGnmyxu/2MKVLPZmbtQhBqIKTtgo2JKYkpLodYP+UrPXM+lL7onu8S4WoBLl25cQDaYM7XKrnL\n",
       "jUxOa4E0wD3HauVdNBP8DhYvsMaL8FqRvMsJ2Y+MuKDFa/OaH9EP7/NBorc+kI+4btqjYWBPzBjw\n",
       "26ytitLu4DZSicyTd77uVQOCg+6y99Qk/nB1VS0Bdcvk1yOd4Q/aun3VA+2+sEwQ81+VjbkSRy4z\n",
       "TQENFwirZdNUX9eBZg8kslVZvhXL8cSOeev3FNzTegfMewL4aSdfM9d98JFBvgS8Ufes42sTiIbP\n",
       "AbTFtPZHnTYSkXBMh58aSxpnv7FDlB7+xIr7ztRUdExsW/u7mjfQPR8pcVIIkewOg868AS6YYA+v\n",
       "qHr0JNO6wUJYAW8ib2lD8EwJnabdU+ua8XevRJAUn/jnBiMMfZ4jW18Qrnu1KUnuicSWi+ZYy5fA\n",
       "gRiNT3CGAiFNvdXwmYFHXgbwsmvUG8mrAOXvJT5H72EL/nBKDn0ggOf8MKdqmvJeY/tCAhk4Mp1X\n",
       "czUuuSyhuwB7iX5GT1hw9D+8G7jMplIcED+Di6459Yn9VHcAAAKhQZuwSeEPJlMCH//+qZ/rlQUw\n",
       "NABDpNHIi+gc9acMh1nVLthbeS5gRs6f1Ewh7BuvK1Wo/GtxjPriu6cB+b1XsZpWGzksD2PAp4xf\n",
       "zZGFFp77bQqr+hiPU4SpXqaGYprNAjVWVoaHox6MHJ9vpqeSi0tamoR7M4n/YgjEHO41x9O6c8Zo\n",
       "edHVyOLurd7LfwPOU/Wpi3Fbi5+OE5QTygxNXRetcgIV4s/87WxK6kQdx9knKS3uvkaBg370Qraf\n",
       "y5rscLqnIETZ3WrC5CaDkQjE5bzTpAFapNEDvarPns2wBVt+tiTn0uMy8iHu/qFMXr6iaYDAI/sN\n",
       "UPvf00/YioHXqg7KFX8t5MVoaYLb+rWhsgyauNgAkISv1JI9vN9BGdvME+8GvYespeRkDzyNNqYP\n",
       "D/lW3ZtIM4itC2xECj3mMav+5MDVoXufY4FxYAwZgMmcm81q/VxKazApZuZC2e78qjkdwy9SdwWy\n",
       "u6HgrvbpL2o/4avig8pewKubpn9IFqzIgdRYfSHSjGNaXV/PlF29PUkaSZB9FBUor4G8rryFBgkx\n",
       "5Cb7MGBjKjFbSlrwuyeGE3p3IUN0Nxjd1YKrZqlmSlGi0ATSYJUX/LfEoPNin3lt9TTazyaSVRip\n",
       "xRL1U20WGTYfE/Z8/O7MftYXoQ9JdJiD5gAiyV/ffV9qElxVA4dT5D8ZU2lLDXRlwofbH4a6ZMIW\n",
       "gxr9cBdW1m/t9v4tQgAXxWDPnMwFirWWZjEQrOsH3x8gxqjDIxTnvC4GdYPvyfMAXFSsIqP77LcJ\n",
       "oIbvAZ2kCiQ7kK9q+3GaNbqyzNi/5mqqxsEqSNRgc6CAmLASCcF5OhYWgt5Mp21OAi984/uCPWkt\n",
       "zbVah3OSsik79wmEV+6lcEpfIEfY+NL+xSQ/YAAAAjVBm9FJ4Q8mUwIf//6pn+saeeAlIYAP0plV\n",
       "mulfZFlTNtobJPvLH2C1ENnrIC01VawXIFFlgJ+XiAG3s9w0ZvkfHz8gfVKirfKoH0TvwZbhev/h\n",
       "K4vPRo0mOiMqsxoZ7yjIdOBZhrRsRxAkDBj0ATzL0uU4/H61WhVD/Iq0d9cLao6NqYp/5/N+q716\n",
       "2AJpcNRFlIKpcDlTtE8K4+41yAMUk4qh1epvAizMCu2ZJRmCEj9whDin6iPUVzSkLz3Pqrmm0Bl0\n",
       "Np+/BPPIwMYUQ7LmifVglae9cqBpUrc7Ig3ld7UEK/CDe9vGQ2GeOUfDNESynWkZlOyEGNtKKx6e\n",
       "uDIgGiT0tUBPLKAq4sGD0EJ0LYGNQ6tRiyDDko/jW3W4hS9/6L9dabSF5zKVtyh0mgll0+G67XPS\n",
       "Y8Eb9oUuEOuuYJ1qopYz1t8wRguwBq7OGD2ptR7OzcrmYgRvALLBJVa7V6fKb/K9MF9m0+uY/caD\n",
       "lmgjEIFyRm7jnjSBhufy8e7QASOmb28vSENZYHw6u47U6PKUxWLAJrMBBUosBTcB0D8dSx5tB5uL\n",
       "It7LdwxyXpLmSI05NDnCrEI3jrf7rYvm7z6TLK5i181By8T/jxIFOUYhGVlhhnaZGfopauS/YrRa\n",
       "udJ2tjKjHec5o1hLzhF+nXu5YNhpM7mNO6LjANEdqiitAndLkd3Dt97i8yKPGF9QtkL93tUi06/9\n",
       "+cDmuv/qoStxNSPtbzNc7IilUohTdQQgpwpIAAAB8EGb8knhDyZTAh///qmf6htQKxuAAS9J32x2\n",
       "pVzHUxIlgsjJVAnl4ni6JXbKx1xQmrcFmXR2WNy39WIeFOKjJmJrMRUHgZpVXDpPmoVCCe/Gg5Sa\n",
       "kXEvykX6tugSChN7ktJe1iAxjizVg5Pa7W9Sb9g9hIMT22RoW3iRZcyrIb8+C1XEJpYmWXIsLS2B\n",
       "wbdvsbnCxl+809IIcC9eKGifEa+0D3ZbJ/Yp/FdmpF6zEWuWSHcZnwQQamUZj3oKwa0c6eViso0y\n",
       "HIYgdLx9YHBObwC+cc9O7hTb2pSLOc+6WiCzH0o6yYDePfYHcJ+sEIkblslKberPmRWlk7cpmbC3\n",
       "D3jf3fVUcpHDjd4vFfiKzhE72pS4zZ5QLJPJn88i3vQnFXJYZMO8Se2W4iMYAOSTRd0W3KAWkA47\n",
       "Sxcn3zTnln4JBCq+VDcjDVGSHUKIy0vo1B039Llaf9jC/+wtiDoDiWwWCgrop/OguX+GYPAa8Cnc\n",
       "w+RuQgpKWP1LM4Pky9+Bv6Wl8exquUEIO0Z+UGeW5E2gzvBlQF2MIz741NIqvptpMJm8n5Ao918W\n",
       "14cRlsS389tYLdMaMGXu0Icz4qv4RGT7b1Dmn1PvsZfYV+XXLmogiLKucyIPqhxAao5FhLqYYtDv\n",
       "J5t1CB2UmS1nwjNSsSUAAAIBQZoTSeEPJlMCH//+qaARQ0AEPByvbZVmuyXkZIPbfHq5DKO0I4lj\n",
       "V1fzcuK9gZ5+I5Aev6SJa6z5TRqDOODrowCug/skBoIL0f/hKi5TBun9Jo10AdgZEB7VBSxjUSnY\n",
       "ORrhgDxI68KPUZbg11B7UYhxxCdgU5Oo7l9qEeVUaYCCKW54+L5vbsKkYYnsD95Ky9MzrDEA5wOh\n",
       "/4QMFFauxL7vL4ILhe0n6nEi3zx4CD8iUR6UTyw9ssCrM27TLCUcv8k2xGZ2pzJg679O3Uv7205L\n",
       "dB7jSnCIRU228h/QeaZ7JhlxQSBz80IKUp1kzHjBzh1B0712v+n5QSf9zRnw/NwYAXHyyoK6jFTa\n",
       "83CNcGa9WTnNAHIGdL3waXrHo/KQ25UE1q0K6YzqzmBZxXmeTtcdpiY8aR+OfdW5gqgzd+z1JSuW\n",
       "xO3sUoxR+Xi1Ov77kH4aT4sTBY5W4L2q5lgNJmj+T1LqwCVv/du3Ybuefk5d+xhktWOMmBZsILA2\n",
       "tv4mK64PEQtwPrSQHV0movJdI7DorkVaG0E1x7C+WN0cj7huElzXQ+v6871hNcG4EBveNIAzrz26\n",
       "pMFW4Hl7FhnN0Qy7r+/uOpy3J2BBB3z7ZLMRdhwHiHxWZPPFCTtis1Aifoo9+pYOXJOhzO/m6EYg\n",
       "Ux0Hf7DK5Wkzl3KzX1TWHhCTAAACI0GaNEnhDyZTAh///qmf5lVyQImtABNBH+CaoTdvIX/8bKox\n",
       "vnEvxDj+5uZ1skhngAS9br+0LAt8puNCTfzOn49dyc7v2neRIyQD0p+G7LwtF41eHpMNzW7Jsucq\n",
       "aXCYTgLxL5xQoTNpIO1/1odl74/lA8IkJq4+90DxqNHO1Kbu3GIqdTf9GgKxkZBJwBZLZfieesjS\n",
       "qpQ2i67zryfrJ07/8Bb019f/AuKvutvUJCx+0xBoYOHPDqm/EzXnDW2SUuzQNKJCLqncys+SS/jv\n",
       "1z1QMJWHYUA5RyrJrRZhcAtHr6cTqdCpAOX32q1B5QO5Q6n2OEVIUbAx54X1NbMP383j9ofj3ri9\n",
       "fVmiMG57hHLg+saRFvwErtftLbKlRYqqJR/NCAuVMmgvtcqOoaSGr9AvM0ZMXEFCKLRWNrQF2Ijf\n",
       "hWN3yloJoTQfpHL1lgG3DwvX43jiQ0rC26J9R2Uw8C2x8DmvNwIDdfET6bjNwCtkFJCj5VF7Vfw5\n",
       "j73HiZlqAmsMURn9TjBl6Prr0EqAJV0fOMjyZa+Yf3e5EiiAT0wRjLJXfNEmcBrXFDHNehoavKPg\n",
       "0ScegGaWGBmZ/0O2BONHIT66CX+eUVma7v95dZePoCq1amig/b2UYLPvL4i0IDLDjLD7E2hITq15\n",
       "2Riho1oEMK9E8Q5LOfdraAcCKgOhpegEGTpJ4rHkwAgW7bqMICLClRSMzUVx5XJD9moQi+PmowkA\n",
       "AAHNQZpVSeEPJlMCH//+qaBta6XxgA/Rrk/aglyTHQ26dFLXxpWKIlQ9ubhA/RATP5S/PmhCha5u\n",
       "+7aaTLVjBj8KZ/quF/j3eAbp6mSWKKF4r6hIOznBaeQc/Iejq30NOs/viJYLf4fX6DCKXWSo1T66\n",
       "rqTDG8s2j+xcBSh4guJrhs+GcO35vg1ab/GYTY/sPGC0sEbqNnUYfhuVCHW7022dCP/0fFrzpWjv\n",
       "DD59CHmNdEc3cK1Kvpf9dzoW/6POmpk0UMbEzKfBAguXWpDz5R9cAhX4bdu3gR/g8uUkMjwqHV7+\n",
       "9Mb3KYMhTznyBNpeucTWsd/tUzuxiYI6BT0HGc5i8+GBrnOizMC+UUzeeDWug4f4VeYVV9YRwSpB\n",
       "4b8gJoYzedH1sl8AtydrP/wpDpuof64xEhAHH07z9yPXd26EUFCaq9g5ZSARXSRGCqyauFd88+8A\n",
       "bIaHVIwfou3khSONsI0aVIbh+mDzT8PQ/P9ZCv1EnX0zzX6vczPQaXEK2L7uHzCxXXMWRqdECLuQ\n",
       "Ge2LAp8/bAdEl9638i6B1g+yldCd1YYN5bezEoRmsdWEqRENCSInKSTFk2vPJ9n8gzhi+xfyIn79\n",
       "L99cemN6cokAAAHaQZp2SeEPJlMCH//+qaBtkopYAP3XCLmBuMS5V4NqBP0zm3DIRIU0GcKotQxX\n",
       "FAPUQJSv+RoW6pw4zCt8IDNNYGTldVGtJkk8UPCiIOxtF/IPoXSxf+KFtT9swttHhxfD5H2/cxnp\n",
       "hb7IQ0i0SXPpnDmOjPBad3CkaZ9Bw8nwhVZeCHAAVsMkeEXJ9V6keGjfpgwECKjjsFoW7+bX1x42\n",
       "/aZ1W/nHUMAGND/pOcZuUszfoiajb+rGOi9l6yfYnUQub+DAZK0D7k1cPmY9il8ue/AfuULZIa2d\n",
       "64PbS8Uf3XRROWJiqUh4+subd2QXDCQ0mfZkW2s98uGRJRzwiBkFZnkYdHg5rKFKqVAIid0BW66v\n",
       "tEXLWFXyeLM2d2u5evLRhPwBzfj2KA13tQIeeTWSmMW14W2Qk9mfFbE7VFgb3+rVoLd+uJ3kTP2R\n",
       "nMXWMLL8Q3wd1xj1aFVFAIJFg1vvsc49aAQIwkAUq9VJLPpVLmxaRvedjEusgwLMKDD1b7TxIK5H\n",
       "Mbiv/XcR/+wOc06eQVZfuvWzuYjASdoiQ92+W9lQkYhtPq/7hvl8TtzSjJTN2+eR965lN14pqHRW\n",
       "NaBKqsRXCbrQEEYC5ncSgqEFMYzEMR66x9riUviAAAABo0Gal0nhDyZTAgh//qpZHo1AAbRpQXe/\n",
       "ZyNA/K1vXRLmJ/lsWnt8oGBV8WVsrPTs2PerxtO37UfN4YdO2yAe2pwgb7DNewn7YmnG4KiOxmI5\n",
       "sgMWBfu2mYuN/jPgyizsxRAd2CwdhxzDZU7iJYr6SPF3cNcwo962gvLPbbb/Q5ZPuzVZqHMUFH8w\n",
       "vh0NHD4J/kH3fF40mIFJ/3hywI+lOXR+j4n8ZM0i0GsuoVErIgBIEdtJwZwCPI1zYweIWQNbBNri\n",
       "PA/2QFvuSBYSWsou4kw8mVk+CnE/3HN32zaemLdMsZp8wojGWe4GKVah8d4zqc8BhNWpEK4mEI+5\n",
       "V32iMiYnNl3kQ5a4JLUPUrgD0KTLrv2pPpC/oR1zsdL9jRQPjaVhhC490xbe2cVrlEzOLjWgJtAf\n",
       "bG1X2UrNVV85Q0pF/TH8mIYkldFPMUKlgysJcP9f//8cNlXqBVQYl3x1MnFECFhaLp7425/GKWU5\n",
       "u5Nii+YfBeWUvqFFQCiFGFxLXIlpyx2cQJ+yBZafmbYpauP94iotHbpif8LhFHPgECGzvd65AAAB\n",
       "xUGauUnhDyZTBRE8P//+qaARQ0AE6R1JnzmWQpR7yMUo3zY90oDKW9rjzGQQvEj055Myv263ESvX\n",
       "IzYnUiLKhMo07AM530Ave40quJ6QmzSy1a8110VGRrjeXBOgOiRZc6UkyWf8diBG6TTWZqINb7ye\n",
       "UpJepo6X2FDZP0U08J+q94avtlu70VBU5kfGMHlK8SIGLirOZQQ7fn3n0tyzJdO2g5uIHhY7/y0o\n",
       "TH+J7Pdno4jAg8PqUWFVWbTfCEH6RxaYHkeODeyx9h8TrBCRpbRbjJg6PhelvW74kWy7zFxF6Io+\n",
       "fHyTQOk22xPA/7g78eTFmDX00fXf0/OcKUIQfvLSQxUgX5NBpEUNg5wEmpQeDqq7BOhkQQClIET3\n",
       "biJeXQ5wmQNwuErRJdMY2vtFOYp22mEM0y7nuqA5awKlWBbwpLowxpaTNghFLFQgEm6SuxmVhkW3\n",
       "2BlWqsUlfZmNz94YQ1Fz412SB3AVsOttug483bxPnZWq1tajZQfBRHvw4VSR9pZDYAqp03dGQPjz\n",
       "OvBwUmqXKshsJmmcs4koAn4yS+JisNbWj3mAyL5W1/CF2waPe6JkARmiIDGLZrQRJTBlQd5nEQAA\n",
       "ALkBnthqQ38IXma2IANpP/M+1yYS9y8Cjb9wdYaUh+q1WOtyPz9X76myDoWZ+bNNxeMtDc5ygy8z\n",
       "4Y64IXZqwIp15d2y2YEndLrU7+j/g4PIDd8JknNWvi1F8uI2izaiwJzDAsf155NlSGd8MiVbxQqE\n",
       "7ywilRAW//XtW4SGAiCVd/fi/WABpzznQ/ZKotAJl30ltkstsMc2ShE8dLMD7WVjeTB6mdqb6BZs\n",
       "rep9cv0F2tmaMMiqoU2FQAAAARpBmtpJ4Q8mUwIf//6pn+uU5BgaACHMvfrRbuIKyubPFk6fT6om\n",
       "jRpP9jVjEOHjTWm6aL0b/SllOaDjJKsId8gO8Rp7D6XRhfixWinNqN6oHC9f3V5MRcyVz91a8A8S\n",
       "6k20VgwqpBeGHDyJwvrotrDNxQSVdz/6x/Y/z0IGC6EjOHqgCx+Ogdgyq0iQIj0y/v63P+jTXPS9\n",
       "VoMjs2rkcXWG0vKNB66c1rOpnto43rI8SCa1Xz4pmAGWMRXwocs7TOSdZO6DKgE7dhq7mPqx5hSK\n",
       "xAktEh9niTPm2nf2uSLg794iDs+AuXilrhAhz5lS6yi47ACxJKfdZ6ZEy3oQ7idqfAIarM8qNE6i\n",
       "IxkcXGjHTdjShBkWPOd8kMEAAAE2QZr7SeEPJlMCH//+qZ/qG1PASkMAH7GKiC35JzNa5kFQ+5UJ\n",
       "BoQtssjcRvQwaSb60Ic21tExKnfAfgpMgJkwAfAM4z0AvYCN/TpaZtSf+T/E+LCdrfzKIhLNCU0l\n",
       "TOvGe7v4Z/DzHygHtSLf7ZFjbqJtOyKt4DEUoHc4/JHd+baVGzbbckC/LqpQJAlnO9StXC+oudYg\n",
       "++szTnGFL/SzBS+FDr4qVZKL9w5YEcNha1a8Ww/Yot9FyZWaWguaGxY0dl6XWY4Vw/c9H+dOk3+X\n",
       "9wUKTZrRsy0j+W6t1mhbnBAMYE++nYscP8KLryGTseG422tgfNAgXA0VOA4Js7U/xBaHTD31Ufn8\n",
       "W9bF2FziHVxu6q6EpBTe5HVU9iLbj5LhDcxgcGHjGrVB++yC7Ws9FODwq/ReYAAAAPZBmx1J4Q8m\n",
       "UwURPDf//qeUFHKMerIANl2yeqwkcgMaswmME1YToaXFkuc+cBjNHOu5t6oevPXFtmSmj6rZ0tVG\n",
       "XKeQHdwbSvn85Qty6ce24+GHokDrjLO+R4hIdXkASX7xJW0SPmFm0sIp28NA9JI9dd/iSISF5xqE\n",
       "7VQjIm12NcjDzXChDqK5k4rEw9U8B+gBI1ELrEbD9HL3tpbIYvmvjNsErytyQ/H8QNKsILwKJKns\n",
       "iGlWhoN7OKvaFn+KGUB1vFCvPCDPZt62ZlwO6+dOkz+KTLTgojCVgMqWO44OGxje6dgzUaIbJIu+\n",
       "O2Odg8Dz4quGmGEAAADRAZ88akN/B6REMNQyADaNYp/Tfl7N8s11Holzx3MzCq/Vw64MLhGaM/Wj\n",
       "XzSymh2Nc35v/sREGNRxagu6ZtiWKqtSauHqXNT4pE7K+BZJZFyyLCgxKC8InvfJzsBAxOvXLSgW\n",
       "LScVnPIUbX2OMPluciH34Uok4oW4aYPlt3RGLSK5R9GhWxryvfsAkuEGXw0YYJqn8pv//s48/koY\n",
       "tiSIfExs+WWPy+U3xbTgcm4jEFVZrsNT4vJyirxy+LJo+ocNdU0vjsbESCf3UXTdKqxDKMkAAAQW\n",
       "bW9vdgAAAGxtdmhkAAAAAAAAAAAAAAAAAAAD6AAAC7gAAQAAAQAAAAAAAAAAAAAAAAEAAAAAAAAA\n",
       "AAAAAAAAAAABAAAAAAAAAAAAAAAAAABAAAAAAAAAAAAAAAAAAAAAAAAAAAAAAAAAAAAAAAAAAgAA\n",
       "A0B0cmFrAAAAXHRraGQAAAADAAAAAAAAAAAAAAABAAAAAAAAC7gAAAAAAAAAAAAAAAAAAAAAAAEA\n",
       "AAAAAAAAAAAAAAAAAAABAAAAAAAAAAAAAAAAAABAAAAAAbAAAAEgAAAAAAAkZWR0cwAAABxlbHN0\n",
       "AAAAAAAAAAEAAAu4AAAIAAABAAAAAAK4bWRpYQAAACBtZGhkAAAAAAAAAAAAAAAAAAAoAAAAeABV\n",
       "xAAAAAAALWhkbHIAAAAAAAAAAHZpZGUAAAAAAAAAAAAAAABWaWRlb0hhbmRsZXIAAAACY21pbmYA\n",
       "AAAUdm1oZAAAAAEAAAAAAAAAAAAAACRkaW5mAAAAHGRyZWYAAAAAAAAAAQAAAAx1cmwgAAAAAQAA\n",
       "AiNzdGJsAAAAs3N0c2QAAAAAAAAAAQAAAKNhdmMxAAAAAAAAAAEAAAAAAAAAAAAAAAAAAAAAAbAB\n",
       "IABIAAAASAAAAAAAAAABAAAAAAAAAAAAAAAAAAAAAAAAAAAAAAAAAAAAAAAAAAAAGP//AAAAMWF2\n",
       "Y0MBZAAV/+EAGGdkABWs2UGwloQAAAMABAAAAwBQPFi2WAEABmjr48siwAAAABx1dWlka2hA8l8k\n",
       "T8W6OaUbzwMj8wAAAAAAAAAYc3R0cwAAAAAAAAABAAAAHgAABAAAAAAUc3RzcwAAAAAAAAABAAAA\n",
       "AQAAAIBjdHRzAAAAAAAAAA4AAAADAAAIAAAAAAEAAAwAAAAAAQAABAAAAAABAAAIAAAAAAEAAAwA\n",
       "AAAAAQAABAAAAAABAAAMAAAAAAEAAAQAAAAADgAACAAAAAABAAAMAAAAAAEAAAQAAAAAAgAACAAA\n",
       "AAABAAAMAAAAAAEAAAQAAAAAHHN0c2MAAAAAAAAAAQAAAAEAAAAeAAAAAQAAAIxzdHN6AAAAAAAA\n",
       "AAAAAAAeAAATogAABA8AAAMYAAAD3QAAAS4AAAJ3AAADawAAATYAAARwAAABrwAAAxkAAAMTAAAC\n",
       "+AAAAwMAAAMtAAACmwAAAqUAAAI5AAAB9AAAAgUAAAInAAAB0QAAAd4AAAGnAAAByQAAAL0AAAEe\n",
       "AAABOgAAAPoAAADVAAAAFHN0Y28AAAAAAAAAAQAAACwAAABidWR0YQAAAFptZXRhAAAAAAAAACFo\n",
       "ZGxyAAAAAAAAAABtZGlyYXBwbAAAAAAAAAAAAAAAAC1pbHN0AAAAJal0b28AAAAdZGF0YQAAAAEA\n",
       "AAAATGF2ZjU3LjgzLjEwMA==\n",
       "\">\n",
       "  Your browser does not support the video tag.\n",
       "</video>"
      ],
      "text/plain": [
       "<IPython.core.display.HTML object>"
      ]
     },
     "execution_count": 38,
     "metadata": {},
     "output_type": "execute_result"
    }
   ],
   "source": [
    "anim = animation.FuncAnimation(fig, update_plot,\n",
    "                               frames=nt, fargs=(rho_hist2,),\n",
    "                               interval=100)\n",
    "# Display the video.\n",
    "HTML(anim.to_html5_video())"
   ]
  },
  {
   "cell_type": "code",
   "execution_count": null,
   "metadata": {},
   "outputs": [],
   "source": []
  }
 ],
 "metadata": {
  "kernelspec": {
   "display_name": "Python 3",
   "language": "python",
   "name": "python3"
  },
  "language_info": {
   "codemirror_mode": {
    "name": "ipython",
    "version": 3
   },
   "file_extension": ".py",
   "mimetype": "text/x-python",
   "name": "python",
   "nbconvert_exporter": "python",
   "pygments_lexer": "ipython3",
   "version": "3.7.3"
  }
 },
 "nbformat": 4,
 "nbformat_minor": 2
}
